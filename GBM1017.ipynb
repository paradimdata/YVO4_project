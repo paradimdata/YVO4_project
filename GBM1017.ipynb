{
 "cells": [
  {
   "cell_type": "markdown",
   "metadata": {},
   "source": [
    "### Laser Diode Floating Zone Growth of YVO<sub>4</sub> from V<sub>2</sub>O<sub>5</sub> and Y<sub>2</sub>O<sub>3</sub>\n",
    "\n",
    "YVO4 was grown in an LDFZ.\n",
    "\n",
    "The purpose of the experiment was to determine the effects of excess Vanadium on crystal quality (clarity) as a continuation of GBM1007.\n",
    "\n",
    "Performed starting 2023-07-20 @ ML by GBM"
   ]
  },
  {
   "cell_type": "code",
   "execution_count": 1,
   "metadata": {},
   "outputs": [
    {
     "name": "stderr",
     "output_type": "stream",
     "text": [
      "template.bounds {'type': 'composition_bounds', 'components': ['Duration', 'Number', 'Temp', 'Type']} does not contain value {'quantities': {'Type': 'Init', 'Power': 0, 'Rotation': 0, 'Rate': 0, 'Duration': 0, 'Notes': None}, 'type': 'nominal_composition'}\n",
      "template.bounds {'type': 'composition_bounds', 'components': ['Duration', 'Number', 'Temp', 'Type']} does not contain value {'quantities': {'Type': 'Ramp', 'Power': 30.0, 'Rotation': ('LR', 10.0), 'Rate': 10.0, 'Duration': 0.5, 'Notes': 'Actual duration to melt ~24 mins.'}, 'type': 'nominal_composition'}\n",
      "template.bounds {'type': 'composition_bounds', 'components': ['Duration', 'Number', 'Temp', 'Type']} does not contain value {'quantities': {'Type': 'Hold', 'Power': 26.0, 'Rotation': ('LR', 10.0), 'Rate': 10.0, 'Duration': 4.0, 'Notes': None}, 'type': 'nominal_composition'}\n",
      "template.bounds {'type': 'composition_bounds', 'components': ['Duration', 'Number', 'Temp', 'Type']} does not contain value {'quantities': {'Type': 'Ramp', 'Power': 0.0, 'Rotation': 'LR,10', 'Rate': 10.0, 'Duration': 1.0, 'Notes': None}, 'type': 'nominal_composition'}\n",
      "template.bounds {'type': 'composition_bounds', 'components': ['Duration', 'Number', 'Temp', 'Type']} does not contain value {'quantities': {'Type': 'End', 'Power': 0, 'Rotation': 0, 'Rate': 0, 'Duration': 0, 'Notes': None}, 'type': 'nominal_composition'}\n"
     ]
    },
    {
     "name": "stdout",
     "output_type": "stream",
     "text": [
      "importing Jupyter notebook from GBM1007.ipynb\n",
      "{'notes': None, 'template': {'allowed_labels': [], 'conditions': [], 'description': None, 'uids': {}, 'tags': [], 'parameters': [[{'description': None, 'uids': {}, 'tags': [], 'bounds': {'type': 'categorical_bounds', 'categories': ['Alfa Aesar', 'Fisher Chemical', 'Fisher Commercial', 'McQueen Lab', 'Noah Technologies Corporation', 'Strem Chemicals', 'Thermo Scientific', 'XYZ Chemicals', 'Yeemeida Technology Co. LTD']}, 'name': 'Manufacturer', 'type': 'parameter_template'}, None], [{'description': None, 'uids': {}, 'tags': [], 'bounds': {'type': 'categorical_bounds', 'categories': ['', '00000', '0198917/2.1', '182153', '221613', '23195800', '23765', 'GBM1005C', 'R04D028', 'R10H008', 'W19F006', 'X17C007']}, 'name': 'Lot ID', 'type': 'parameter_template'}, None], [{'description': None, 'uids': {}, 'tags': [], 'bounds': {'type': 'categorical_bounds', 'categories': ['', '000-00-000', '1314-36-9', '1314-62-1', '13566-12-6', '554-13-2', '7697-37-2']}, 'name': 'CAS RN', 'type': 'parameter_template'}, None]], 'allowed_names': [], 'name': 'utils.block_builders', 'type': 'process_template'}, 'file_links': [], 'conditions': [], 'uids': {}, 'tags': [], 'parameters': [], 'name': 'Y2O3 Acquisition Process', 'type': 'process_spec', 'output_material': None, 'ingredients': []}\n",
      "{'notes': None, 'template': {'allowed_labels': [], 'conditions': [], 'description': None, 'uids': {}, 'tags': [], 'parameters': [[{'description': None, 'uids': {}, 'tags': [], 'bounds': {'type': 'categorical_bounds', 'categories': ['Alfa Aesar', 'Fisher Chemical', 'Fisher Commercial', 'McQueen Lab', 'Noah Technologies Corporation', 'Strem Chemicals', 'Thermo Scientific', 'XYZ Chemicals', 'Yeemeida Technology Co. LTD']}, 'name': 'Manufacturer', 'type': 'parameter_template'}, None], [{'description': None, 'uids': {}, 'tags': [], 'bounds': {'type': 'categorical_bounds', 'categories': ['', '00000', '0198917/2.1', '182153', '221613', '23195800', '23765', 'GBM1005C', 'R04D028', 'R10H008', 'W19F006', 'X17C007']}, 'name': 'Lot ID', 'type': 'parameter_template'}, None], [{'description': None, 'uids': {}, 'tags': [], 'bounds': {'type': 'categorical_bounds', 'categories': ['', '000-00-000', '1314-36-9', '1314-62-1', '13566-12-6', '554-13-2', '7697-37-2']}, 'name': 'CAS RN', 'type': 'parameter_template'}, None]], 'allowed_names': [], 'name': 'utils.block_builders', 'type': 'process_template'}, 'file_links': [], 'conditions': [], 'uids': {}, 'tags': [], 'parameters': [], 'name': 'V2O5 Acquisition Process', 'type': 'process_spec', 'output_material': None, 'ingredients': []}\n",
      "{'notes': None, 'template': {'allowed_labels': [], 'conditions': [[{'description': None, 'uids': {}, 'tags': [], 'bounds': {'type': 'categorical_bounds', 'categories': ['Bucket', 'Hot Lab', 'PARADIM', 'Purification Tube Furnace', 'Synthesis Tube Furnace', 'Three Zones Tube Furnace', 'Wet Lab', 'X-Ray Diffraction Panel']}, 'name': 'Location', 'type': 'condition_template'}, None]], 'description': None, 'uids': {}, 'tags': [], 'parameters': [[{'description': None, 'uids': {}, 'tags': [], 'bounds': {'type': 'categorical_bounds', 'categories': ['Autoclave', 'CIP', 'Mortar and Pestle', 'Nichrome Wire', 'Pellet Press', 'Pellet Press Set', 'Quartz Tube', 'Quartz Wool', 'Thermocouple', 'Tongs', 'Torch', 'Tube Sealing Station', 'Vacuum Filter', 'Vacuum Pump', 'Zeiss Axiocam 208 Color, Stemi508 Microscope']}, 'name': 'Equipment Used', 'type': 'parameter_template'}, None]], 'allowed_names': [], 'name': 'utils.base_builders', 'type': 'process_template'}, 'file_links': [], 'conditions': [], 'uids': {}, 'tags': [], 'parameters': [], 'name': 'GBM1007_homogenization_1 Grinding Process', 'type': 'process_spec', 'output_material': None, 'ingredients': []}\n",
      "{'notes': None, 'template': {'allowed_labels': [], 'conditions': [[{'description': None, 'uids': {}, 'tags': [], 'bounds': {'type': 'categorical_bounds', 'categories': ['Bucket', 'Hot Lab', 'PARADIM', 'Purification Tube Furnace', 'Synthesis Tube Furnace', 'Three Zones Tube Furnace', 'Wet Lab', 'X-Ray Diffraction Panel']}, 'name': 'Location', 'type': 'condition_template'}, None]], 'description': None, 'uids': {}, 'tags': [], 'parameters': [[{'description': None, 'uids': {}, 'tags': [], 'bounds': {'upper_bound': 100, 'lower_bound': 1, 'type': 'integer_bounds'}, 'name': 'StepsNum', 'type': 'parameter_template'}, None], [{'description': None, 'uids': {}, 'tags': [], 'bounds': {'type': 'composition_bounds', 'components': ['Duration', 'Number', 'Temp', 'Type']}, 'name': 'Step', 'type': 'parameter_template'}, None]], 'allowed_names': [], 'name': 'utils.base_builders', 'type': 'process_template'}, 'file_links': [], 'conditions': [], 'uids': {}, 'tags': [], 'parameters': [], 'name': 'GBM1007_homogenization_1 Heating Process', 'type': 'process_spec', 'output_material': None, 'ingredients': []}\n",
      "{'notes': None, 'template': {'allowed_labels': [], 'conditions': [[{'description': None, 'uids': {}, 'tags': [], 'bounds': {'type': 'categorical_bounds', 'categories': ['Bucket', 'Hot Lab', 'PARADIM', 'Purification Tube Furnace', 'Synthesis Tube Furnace', 'Three Zones Tube Furnace', 'Wet Lab', 'X-Ray Diffraction Panel']}, 'name': 'Location', 'type': 'condition_template'}, None]], 'description': None, 'uids': {}, 'tags': [], 'parameters': [[{'description': None, 'uids': {}, 'tags': [], 'bounds': {'type': 'categorical_bounds', 'categories': ['Autoclave', 'CIP', 'Mortar and Pestle', 'Nichrome Wire', 'Pellet Press', 'Pellet Press Set', 'Quartz Tube', 'Quartz Wool', 'Thermocouple', 'Tongs', 'Torch', 'Tube Sealing Station', 'Vacuum Filter', 'Vacuum Pump', 'Zeiss Axiocam 208 Color, Stemi508 Microscope']}, 'name': 'Equipment Used', 'type': 'parameter_template'}, None]], 'allowed_names': [], 'name': 'utils.base_builders', 'type': 'process_template'}, 'file_links': [], 'conditions': [], 'uids': {}, 'tags': [], 'parameters': [], 'name': 'GBM1007_homogenization_2 Grinding Process', 'type': 'process_spec', 'output_material': None, 'ingredients': []}\n",
      "{'notes': None, 'template': {'allowed_labels': [], 'conditions': [[{'description': None, 'uids': {}, 'tags': [], 'bounds': {'type': 'categorical_bounds', 'categories': ['Bucket', 'Hot Lab', 'PARADIM', 'Purification Tube Furnace', 'Synthesis Tube Furnace', 'Three Zones Tube Furnace', 'Wet Lab', 'X-Ray Diffraction Panel']}, 'name': 'Location', 'type': 'condition_template'}, None]], 'description': None, 'uids': {}, 'tags': [], 'parameters': [[{'description': None, 'uids': {}, 'tags': [], 'bounds': {'upper_bound': 100, 'lower_bound': 1, 'type': 'integer_bounds'}, 'name': 'StepsNum', 'type': 'parameter_template'}, None], [{'description': None, 'uids': {}, 'tags': [], 'bounds': {'type': 'composition_bounds', 'components': ['Duration', 'Number', 'Temp', 'Type']}, 'name': 'Step', 'type': 'parameter_template'}, None]], 'allowed_names': [], 'name': 'utils.base_builders', 'type': 'process_template'}, 'file_links': [], 'conditions': [], 'uids': {}, 'tags': [], 'parameters': [], 'name': 'GBM1007_homogenization_2 Heating Process', 'type': 'process_spec', 'output_material': None, 'ingredients': []}\n",
      "{'notes': None, 'template': {'allowed_labels': [], 'conditions': [[{'description': None, 'uids': {}, 'tags': [], 'bounds': {'type': 'categorical_bounds', 'categories': ['Bucket', 'Hot Lab', 'PARADIM', 'Purification Tube Furnace', 'Synthesis Tube Furnace', 'Three Zones Tube Furnace', 'Wet Lab', 'X-Ray Diffraction Panel']}, 'name': 'Location', 'type': 'condition_template'}, None]], 'description': None, 'uids': {}, 'tags': [], 'parameters': [[{'description': None, 'uids': {}, 'tags': [], 'bounds': {'type': 'categorical_bounds', 'categories': ['Autoclave', 'CIP', 'Mortar and Pestle', 'Nichrome Wire', 'Pellet Press', 'Pellet Press Set', 'Quartz Tube', 'Quartz Wool', 'Thermocouple', 'Tongs', 'Torch', 'Tube Sealing Station', 'Vacuum Filter', 'Vacuum Pump', 'Zeiss Axiocam 208 Color, Stemi508 Microscope']}, 'name': 'Equipment Used', 'type': 'parameter_template'}, None]], 'allowed_names': [], 'name': 'utils.base_builders', 'type': 'process_template'}, 'file_links': [], 'conditions': [], 'uids': {}, 'tags': [], 'parameters': [], 'name': 'GBM1007_homogenization_3 Grinding Process', 'type': 'process_spec', 'output_material': None, 'ingredients': []}\n",
      "{'notes': None, 'template': {'allowed_labels': [], 'conditions': [[{'description': None, 'uids': {}, 'tags': [], 'bounds': {'type': 'categorical_bounds', 'categories': ['Bucket', 'Hot Lab', 'PARADIM', 'Purification Tube Furnace', 'Synthesis Tube Furnace', 'Three Zones Tube Furnace', 'Wet Lab', 'X-Ray Diffraction Panel']}, 'name': 'Location', 'type': 'condition_template'}, None]], 'description': None, 'uids': {}, 'tags': [], 'parameters': [[{'description': None, 'uids': {}, 'tags': [], 'bounds': {'upper_bound': 100, 'lower_bound': 1, 'type': 'integer_bounds'}, 'name': 'StepsNum', 'type': 'parameter_template'}, None], [{'description': None, 'uids': {}, 'tags': [], 'bounds': {'type': 'composition_bounds', 'components': ['Duration', 'Number', 'Temp', 'Type']}, 'name': 'Step', 'type': 'parameter_template'}, None]], 'allowed_names': [], 'name': 'utils.base_builders', 'type': 'process_template'}, 'file_links': [], 'conditions': [], 'uids': {}, 'tags': [], 'parameters': [], 'name': 'GBM1007_homogenization_3 Heating Process', 'type': 'process_spec', 'output_material': None, 'ingredients': []}\n",
      "{'notes': None, 'template': {'allowed_labels': [], 'conditions': [[{'description': None, 'uids': {}, 'tags': [], 'bounds': {'type': 'categorical_bounds', 'categories': ['Bucket', 'Hot Lab', 'PARADIM', 'Purification Tube Furnace', 'Synthesis Tube Furnace', 'Three Zones Tube Furnace', 'Wet Lab', 'X-Ray Diffraction Panel']}, 'name': 'Location', 'type': 'condition_template'}, None]], 'description': None, 'uids': {}, 'tags': [], 'parameters': [[{'description': None, 'uids': {}, 'tags': [], 'bounds': {'type': 'categorical_bounds', 'categories': ['Autoclave', 'CIP', 'Mortar and Pestle', 'Nichrome Wire', 'Pellet Press', 'Pellet Press Set', 'Quartz Tube', 'Quartz Wool', 'Thermocouple', 'Tongs', 'Torch', 'Tube Sealing Station', 'Vacuum Filter', 'Vacuum Pump', 'Zeiss Axiocam 208 Color, Stemi508 Microscope']}, 'name': 'Equipment Used', 'type': 'parameter_template'}, None], [{'description': None, 'uids': {}, 'tags': [], 'bounds': {'upper_bound': 96, 'lower_bound': 0, 'default_units': 'hour', 'type': 'real_bounds'}, 'name': 'Duration', 'type': 'parameter_template'}, None]], 'allowed_names': [], 'name': 'utils.base_builders', 'type': 'process_template'}, 'file_links': [], 'conditions': [], 'uids': {}, 'tags': [], 'parameters': [], 'name': 'GBM1007_evacuated Evacuating Process', 'type': 'process_spec', 'output_material': None, 'ingredients': []}\n",
      "{'notes': None, 'template': {'allowed_labels': [], 'conditions': [[{'description': None, 'uids': {}, 'tags': [], 'bounds': {'type': 'categorical_bounds', 'categories': ['Bucket', 'Hot Lab', 'PARADIM', 'Purification Tube Furnace', 'Synthesis Tube Furnace', 'Three Zones Tube Furnace', 'Wet Lab', 'X-Ray Diffraction Panel']}, 'name': 'Location', 'type': 'condition_template'}, None]], 'description': None, 'uids': {}, 'tags': [], 'parameters': [[{'description': None, 'uids': {}, 'tags': [], 'bounds': {'type': 'categorical_bounds', 'categories': ['Autoclave', 'CIP', 'Mortar and Pestle', 'Nichrome Wire', 'Pellet Press', 'Pellet Press Set', 'Quartz Tube', 'Quartz Wool', 'Thermocouple', 'Tongs', 'Torch', 'Tube Sealing Station', 'Vacuum Filter', 'Vacuum Pump', 'Zeiss Axiocam 208 Color, Stemi508 Microscope']}, 'name': 'Equipment Used', 'type': 'parameter_template'}, None], [{'description': None, 'uids': {}, 'tags': [], 'bounds': {'upper_bound': 96, 'lower_bound': 0, 'default_units': 'hour', 'type': 'real_bounds'}, 'name': 'Duration', 'type': 'parameter_template'}, None], [{'description': None, 'uids': {}, 'tags': [], 'bounds': {'upper_bound': 500, 'lower_bound': 0, 'default_units': 'megapascal', 'type': 'real_bounds'}, 'name': 'Pressure', 'type': 'parameter_template'}, None]], 'allowed_names': [], 'name': 'utils.base_builders', 'type': 'process_template'}, 'file_links': [], 'conditions': [], 'uids': {}, 'tags': [], 'parameters': [], 'name': 'GBM1007_rod Pressing Process', 'type': 'process_spec', 'output_material': None, 'ingredients': []}\n",
      "{'notes': None, 'template': {'allowed_labels': [], 'conditions': [[{'description': None, 'uids': {}, 'tags': [], 'bounds': {'type': 'categorical_bounds', 'categories': ['Bucket', 'Hot Lab', 'PARADIM', 'Purification Tube Furnace', 'Synthesis Tube Furnace', 'Three Zones Tube Furnace', 'Wet Lab', 'X-Ray Diffraction Panel']}, 'name': 'Location', 'type': 'condition_template'}, None]], 'description': None, 'uids': {}, 'tags': [], 'parameters': [[{'description': None, 'uids': {}, 'tags': [], 'bounds': {'upper_bound': 100, 'lower_bound': 1, 'type': 'integer_bounds'}, 'name': 'StepsNum', 'type': 'parameter_template'}, None], [{'description': None, 'uids': {}, 'tags': [], 'bounds': {'type': 'composition_bounds', 'components': ['Duration', 'Number', 'Temp', 'Type']}, 'name': 'Step', 'type': 'parameter_template'}, None]], 'allowed_names': [], 'name': 'utils.base_builders', 'type': 'process_template'}, 'file_links': [], 'conditions': [], 'uids': {}, 'tags': [], 'parameters': [], 'name': 'GBM1007_sintered Heating Process', 'type': 'process_spec', 'output_material': None, 'ingredients': []}\n",
      "{'notes': None, 'template': {'allowed_labels': [], 'conditions': [[{'description': None, 'uids': {}, 'tags': [], 'bounds': {'type': 'categorical_bounds', 'categories': ['Bucket', 'Hot Lab', 'PARADIM', 'Purification Tube Furnace', 'Synthesis Tube Furnace', 'Three Zones Tube Furnace', 'Wet Lab', 'X-Ray Diffraction Panel']}, 'name': 'Location', 'type': 'condition_template'}, None]], 'description': None, 'uids': {}, 'tags': [], 'parameters': [[{'description': None, 'uids': {}, 'tags': [], 'bounds': {'type': 'composition_bounds', 'components': ['Duration', 'Number', 'Temp', 'Type']}, 'name': 'Step', 'type': 'parameter_template'}, None], [{'description': None, 'uids': {}, 'tags': [], 'bounds': {'type': 'categorical_bounds', 'categories': ['1 L/min O2, 0.5 L/min Ar', 'Air', 'Inner Atmosphere Glovebox']}, 'name': 'Atmosphere', 'type': 'parameter_template'}, None]], 'allowed_names': [], 'name': 'utils.base_builders', 'type': 'process_template'}, 'file_links': [], 'conditions': [], 'uids': {}, 'tags': [], 'parameters': [], 'name': 'GBM1007 LDFZ Process', 'type': 'process_spec', 'output_material': None, 'ingredients': []}\n"
     ]
    }
   ],
   "source": [
    "### Imports ###\n",
    "\n",
    "from tools.attr_utils import *\n",
    "from tools.block.Block import Block\n",
    "from tools.utilities import *\n",
    "\n",
    "from utils.block_builders import *\n",
    "from utils.base_builders import *\n",
    "from utils.provenance import Provenance\n",
    "from utils.mpurity import SOLNS\n",
    "\n",
    "from gemd import FileLink\n",
    "from gemd.json import GEMDJson\n",
    "from gemd import NominalReal,UniformReal\n",
    "\n",
    "import os\n",
    "\n",
    "import import_ipynb\n",
    "from GBM1007 import GBM1007"
   ]
  },
  {
   "cell_type": "code",
   "execution_count": 2,
   "metadata": {},
   "outputs": [],
   "source": [
    "### Provenance ###\n",
    "\n",
    "prv = Provenance(\n",
    "    name='Gannon Murray',\n",
    "    email='gmurra12@jh.edu',\n",
    "    tag='GBM',\n",
    "    page='1007',\n",
    "    title='LDFZ Growth of YVO4',\n",
    "    date='2023-07-20')"
   ]
  },
  {
   "cell_type": "code",
   "execution_count": 3,
   "metadata": {},
   "outputs": [],
   "source": [
    "GBM1017 = {}"
   ]
  },
  {
   "cell_type": "code",
   "execution_count": 4,
   "metadata": {},
   "outputs": [
    {
     "name": "stderr",
     "output_type": "stream",
     "text": [
      "template.bounds {'type': 'composition_bounds', 'components': ['Duration', 'Number', 'Temp', 'Type']} does not contain value {'quantities': {'Type': 'Init', 'Power': 0, 'Rotation': 0, 'Rate': 0, 'Duration': 0, 'Notes': None}, 'type': 'nominal_composition'}\n",
      "template.bounds {'type': 'composition_bounds', 'components': ['Duration', 'Number', 'Temp', 'Type']} does not contain value {'quantities': {'Type': 'Ramp', 'Power': 25.5, 'Rotation': ('LR', 10.0), 'Rate': 10.0, 'Duration': 0.4, 'Notes': 'Ramp set to 30%, melt started at ~25.5%.'}, 'type': 'nominal_composition'}\n",
      "template.bounds {'type': 'composition_bounds', 'components': ['Duration', 'Number', 'Temp', 'Type']} does not contain value {'quantities': {'Type': 'Hold', 'Power': 25.7, 'Rotation': ('LR', 10.0), 'Rate': 10.0, 'Duration': 1.2, 'Notes': '11:31 Stable zone established'}, 'type': 'nominal_composition'}\n",
      "template.bounds {'type': 'composition_bounds', 'components': ['Duration', 'Number', 'Temp', 'Type']} does not contain value {'quantities': {'Type': 'Ramp', 'Power': 26.4, 'Rotation': 'LR,10', 'Rate': 10.0, 'Duration': 0.0, 'Notes': '12:22 Zone shrinking, power increased'}, 'type': 'nominal_composition'}\n",
      "template.bounds {'type': 'composition_bounds', 'components': ['Duration', 'Number', 'Temp', 'Type']} does not contain value {'quantities': {'Type': 'Hold', 'Power': 26.4, 'Rotation': ('LR', 10.0), 'Rate': 10.0, 'Duration': 0.9, 'Notes': None}, 'type': 'nominal_composition'}\n",
      "template.bounds {'type': 'composition_bounds', 'components': ['Duration', 'Number', 'Temp', 'Type']} does not contain value {'quantities': {'Type': 'Ramp', 'Power': 26.9, 'Rotation': 'LR,10', 'Rate': 10.0, 'Duration': 0.1, 'Notes': '13:12 Zone starting to shrink vertically, power increased'}, 'type': 'nominal_composition'}\n",
      "template.bounds {'type': 'composition_bounds', 'components': ['Duration', 'Number', 'Temp', 'Type']} does not contain value {'quantities': {'Type': 'Hold', 'Power': 26.9, 'Rotation': ('LR', 10.0), 'Rate': 10.0, 'Duration': 0.5, 'Notes': None}, 'type': 'nominal_composition'}\n",
      "template.bounds {'type': 'composition_bounds', 'components': ['Duration', 'Number', 'Temp', 'Type']} does not contain value {'quantities': {'Type': 'Ramp', 'Power': 27.1, 'Rotation': 'LR,10', 'Rate': 10.0, 'Duration': 0.0, 'Notes': '13:48 Selected grain off axis, power increased to promote alignment'}, 'type': 'nominal_composition'}\n",
      "template.bounds {'type': 'composition_bounds', 'components': ['Duration', 'Number', 'Temp', 'Type']} does not contain value {'quantities': {'Type': 'Hold', 'Power': 27.1, 'Rotation': ('LR', 10.0), 'Rate': 10.0, 'Duration': 0.6, 'Notes': None}, 'type': 'nominal_composition'}\n",
      "template.bounds {'type': 'composition_bounds', 'components': ['Duration', 'Number', 'Temp', 'Type']} does not contain value {'quantities': {'Type': 'Ramp', 'Power': 0.0, 'Rotation': 'LR,10', 'Rate': 0.0, 'Duration': 0.5, 'Notes': '14:24 Growth too far off axis, growth terminated to preserve quality'}, 'type': 'nominal_composition'}\n",
      "template.bounds {'type': 'composition_bounds', 'components': ['Duration', 'Number', 'Temp', 'Type']} does not contain value {'quantities': {'Type': 'End', 'Power': 0, 'Rotation': 0, 'Rate': 0, 'Duration': 0, 'Notes': None}, 'type': 'nominal_composition'}\n"
     ]
    },
    {
     "name": "stdout",
     "output_type": "stream",
     "text": [
      "{'notes': None, 'template': {'allowed_labels': [], 'conditions': [[{'description': None, 'uids': {}, 'tags': [], 'bounds': {'type': 'categorical_bounds', 'categories': ['Bucket', 'Hot Lab', 'PARADIM', 'Purification Tube Furnace', 'Synthesis Tube Furnace', 'Three Zones Tube Furnace', 'Wet Lab', 'X-Ray Diffraction Panel']}, 'name': 'Location', 'type': 'condition_template'}, None]], 'description': None, 'uids': {}, 'tags': [], 'parameters': [[{'description': None, 'uids': {}, 'tags': [], 'bounds': {'type': 'composition_bounds', 'components': ['Duration', 'Number', 'Temp', 'Type']}, 'name': 'Step', 'type': 'parameter_template'}, None], [{'description': None, 'uids': {}, 'tags': [], 'bounds': {'type': 'categorical_bounds', 'categories': ['1 L/min O2, 0.5 L/min Ar', 'Air', 'Inner Atmosphere Glovebox']}, 'name': 'Atmosphere', 'type': 'parameter_template'}, None]], 'allowed_names': [], 'name': 'utils.base_builders', 'type': 'process_template'}, 'file_links': [], 'conditions': [], 'uids': {}, 'tags': [], 'parameters': [], 'name': 'GBM1017 LDFZ Process', 'type': 'process_spec', 'output_material': None, 'ingredients': []}\n"
     ]
    }
   ],
   "source": [
    "### LDFZ Block ###\n",
    "\n",
    "sample = 'GBM1017'\n",
    "\n",
    "program = build_ldfz_program([\n",
    "    ldfz_program_step('Init',0,0,0,0),\n",
    "    ldfz_program_step('Ramp',25.5,0.4,('LR',10.),10.,notes='Ramp set to 30%, melt started at ~25.5%.'),\n",
    "    ldfz_program_step('Hold',25.7,1.2,('LR',10.),10.,notes='11:31 Stable zone established'),\n",
    "    ldfz_program_step('Ramp',26.4,0.,('LR,10'),10.,notes='12:22 Zone shrinking, power increased'),\n",
    "    ldfz_program_step('Hold',26.4,0.9,('LR',10.),10.),\n",
    "    ldfz_program_step('Ramp',26.9,0.1,('LR,10'),10.,notes='13:12 Zone starting to shrink vertically, power increased'),\n",
    "    ldfz_program_step('Hold',26.9,0.5,('LR',10.),10.),\n",
    "    ldfz_program_step('Ramp',27.1,0.,('LR,10'),10.,notes='13:48 Selected grain off axis, power increased to promote alignment'),\n",
    "    ldfz_program_step('Hold',27.1,0.6,('LR',10.),10.),\n",
    "    ldfz_program_step('Ramp',0.,0.5,('LR,10'),0.,notes='14:24 Growth too far off axis, growth terminated to preserve quality'),\n",
    "    ldfz_program_step('End',0,0,0,0)\n",
    "    ]\n",
    ")\n",
    "\n",
    "process = build_ldfz_process_base(\n",
    "    name=sample,\n",
    "    program = program,\n",
    "    atmosphere='1 L/min O2, 0.5 L/min Ar',\n",
    "    location='PARADIM',\n",
    "    notes='Stable zone established, significant Vanadium evaporation, significant slanting',\n",
    "    prv=prv\n",
    ")\n",
    "\n",
    "material = build_terminal_material_base(\n",
    "    name=sample,\n",
    "    process_spec=process.spec,\n",
    "    process_run=process.run,\n",
    "    form='Crystal',\n",
    "    prv = prv\n",
    ")\n",
    "\n",
    "ingredients = [\n",
    "    build_ingredient_base(\n",
    "        name='GBM1007_rod',\n",
    "        process_spec=process.spec,\n",
    "        process_run=process.run,\n",
    "        material_run=GBM1007['heat_GBM1007_sintered'].material.run,\n",
    "        material_spec=GBM1007['heat_GBM1007_sintered'].material.spec,\n",
    "        quantity_spec=NominalReal(73.,'mm'),\n",
    "        quantity_run=NominalReal(73.,'mm')\n",
    "    )\n",
    "]\n",
    "\n",
    "measurements = [\n",
    "    build_photograph_base(\n",
    "    name=f'{sample} Photos (5)',\n",
    "    material=material.run,\n",
    "    location='PARADIM',\n",
    "    equipment='Zeiss Axiocam 208 Color, Stemi508 Microscope',\n",
    "    prv=prv,\n",
    "    notes='File names are misconfigured',\n",
    "    file=[\n",
    "        FileLink('ML-Krakatoa_20230720_1_GBM_0_GBM1017','https://occamy.chemistry.jhu.edu/data/IQMMIPShare/Images/Gannon/ML-Krakatoa_20230720_1_GBM_0_GBM1015.png'),\n",
    "        FileLink('ML-Krakatoa_20230720_1_GBM_1_GBM1015','https://occamy.chemistry.jhu.edu/data/IQMMIPShare/Images/Gannon/ML-Krakatoa_20230720_1_GBM_1_GBM1015.png'),\n",
    "        FileLink('ML-Krakatoa_20230720_1_GBM_2_GBM1015','https://occamy.chemistry.jhu.edu/data/IQMMIPShare/Images/Gannon/ML-Krakatoa_20230720_1_GBM_2_GBM1015.png'),\n",
    "        ]\n",
    "    )\n",
    "]\n",
    "\n",
    "GBM1017[f'ldfz_{sample}'] = Block(\n",
    "    name=f'{sample} LDFZ Block',\n",
    "    ingredients=ingredients,\n",
    "    process=process,\n",
    "    material=material,\n",
    "    measurements=measurements\n",
    ")"
   ]
  },
  {
   "cell_type": "code",
   "execution_count": 5,
   "metadata": {},
   "outputs": [],
   "source": [
    "'''\n",
    "### Dump blocks to JSONs ###\n",
    "\n",
    "encoder = GEMDJson()\n",
    "\n",
    "fp = f'./dumps/GBM1017'\n",
    "os.mkdir(fp)\n",
    "\n",
    "for block in GBM1017.values():\n",
    "    block.thin_dumps(encoder,fp)\n",
    "'''"
   ]
  }
 ],
 "metadata": {
  "kernelspec": {
   "display_name": "Python 3",
   "language": "python",
   "name": "python3"
  },
  "language_info": {
   "codemirror_mode": {
    "name": "ipython",
    "version": 3
   },
   "file_extension": ".py",
   "mimetype": "text/x-python",
   "name": "python",
   "nbconvert_exporter": "python",
   "pygments_lexer": "ipython3",
   "version": "3.10.11"
  },
  "orig_nbformat": 4
 },
 "nbformat": 4,
 "nbformat_minor": 2
}
