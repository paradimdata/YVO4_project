{
 "cells": [
  {
   "attachments": {},
   "cell_type": "markdown",
   "metadata": {},
   "source": [
    "### Crucible Growth of YVO<sub>4</sub> from V<sub>2</sub>O<sub>5</sub> and Y<sub>2</sub>O<sub>3</sub> in Air\n",
    "YVO4 was grown in an alumina crucible from Y and V oxides using a furnace.\n",
    "The purpose of the experiment was to test the effects of vanadium deficiency on phase formation.\n",
    "\n",
    "Performed 2023-06-09 @ ML by GBM"
   ]
  },
  {
   "cell_type": "code",
   "execution_count": null,
   "metadata": {},
   "outputs": [],
   "source": [
    "### Imports ###\n",
    "\n",
    "from utils.provenance import Provenance\n",
    "from utils.mpurity import SOLNS\n",
    "\n",
    "from utils.templates.attribute_templates import ATTR_TEMPL\n",
    "from utils.templates.object_templates import OBJ_TEMPL\n",
    "\n",
    "from tools.attr_utils import *\n",
    "from tools.block.Block import Block\n",
    "from tools.utilities import *\n",
    "from tools.workflow.Workflow import Workflow\n",
    "\n",
    "from utils.builders import *\n",
    "\n",
    "from gemd import ProcessRun,MaterialRun,IngredientRun,MeasurementRun,PerformedSource\n",
    "from gemd.json import GEMDJson"
   ]
  },
  {
   "cell_type": "code",
   "execution_count": null,
   "metadata": {},
   "outputs": [],
   "source": [
    "### Make a Header ###\n",
    "\n",
    "prv = Provenance('Gannon Murray','GBM','1003','Crucible Growth of YVO4','2023-06-09')\n",
    "prv.header()"
   ]
  },
  {
   "attachments": {},
   "cell_type": "markdown",
   "metadata": {},
   "source": [
    "Build a Workflow to contain the experiment."
   ]
  },
  {
   "cell_type": "code",
   "execution_count": null,
   "metadata": {},
   "outputs": [],
   "source": [
    "### Initialize Workflow ###\n",
    "\n",
    "GBM1003 = {'name':'GBM1003','specs':[],'runs':[]}"
   ]
  },
  {
   "attachments": {},
   "cell_type": "markdown",
   "metadata": {},
   "source": [
    "Build a spec for each block of the experiment."
   ]
  },
  {
   "cell_type": "code",
   "execution_count": null,
   "metadata": {},
   "outputs": [],
   "source": [
    "### Initialize Ingredient, Process, Material, & Measurement Specs ###\n",
    "\n",
    "proccess_1 = build_acquire_raw_material_proc_spec(\n",
    "    name='Y2O3',\n",
    "    manufacturer='Strem Chemicals',\n",
    "    lot_id='23195800',\n",
    "    cas_rn='1314-36-9',\n",
    "    notes='Chalky white powder'\n",
    ")\n",
    "\n",
    "material_1 = build_raw_material_mat_spec(\n",
    "    name='Y2O3',\n",
    "    form='Powder',\n",
    "    purity=99.99,\n",
    ")\n",
    "\n",
    "ingredients_1 = None\n",
    "measurements_1 = None"
   ]
  },
  {
   "attachments": {},
   "cell_type": "markdown",
   "metadata": {},
   "source": [
    "Build a block to contain the specs"
   ]
  },
  {
   "cell_type": "code",
   "execution_count": null,
   "metadata": {},
   "outputs": [],
   "source": [
    "### Build a Custom Spec Block ###\n",
    "\n",
    "spec_block_1 = Block(\n",
    "    name = 'Acquire Y2O3',\n",
    "    workflow = None,\n",
    "    process = proccess_1,\n",
    "    material = material_1\n",
    ")\n",
    "\n",
    "GBM1003['specs'].append(spec_block_1)"
   ]
  },
  {
   "attachments": {},
   "cell_type": "markdown",
   "metadata": {},
   "source": [
    "Build runs from the experiment spec and add them to the Workflow."
   ]
  },
  {
   "cell_type": "code",
   "execution_count": null,
   "metadata": {},
   "outputs": [],
   "source": [
    "### Convert Ingredient, Process, Material, & Measurement Specs into Runs ###\n",
    "\n",
    "process_run_1 = ProcessRun(\n",
    "    name='Y2O3',\n",
    "    spec=spec_block_1.process,\n",
    "    conditions=None,\n",
    "    parameters=spec_block_1.process.parameters,\n",
    "    source= PerformedSource(prv.tag,prv.date)\n",
    ")\n",
    "\n",
    "material_run_1 = MaterialRun(\n",
    "    name='Y2O3',\n",
    "    spec=spec_block_1.material,\n",
    "    process=process_run_1,\n",
    "    sample_type='experimental'\n",
    ")"
   ]
  },
  {
   "attachments": {},
   "cell_type": "markdown",
   "metadata": {},
   "source": [
    "Build a block to contain the runs"
   ]
  },
  {
   "cell_type": "code",
   "execution_count": null,
   "metadata": {},
   "outputs": [],
   "source": [
    "### Build a Custom Run Block ###\n",
    "\n",
    "run_block_1 = Block(\n",
    "    name = 'my_run_block',\n",
    "    workflow = None,\n",
    "    process=process_run_1,\n",
    "    material=material_run_1\n",
    ")\n",
    "\n",
    "GBM1003['runs'].append(run_block_1)"
   ]
  },
  {
   "attachments": {},
   "cell_type": "markdown",
   "metadata": {},
   "source": [
    "Outputs"
   ]
  },
  {
   "cell_type": "code",
   "execution_count": null,
   "metadata": {},
   "outputs": [],
   "source": [
    "### Dump blocks to JSONs ###\n"
   ]
  },
  {
   "cell_type": "code",
   "execution_count": null,
   "metadata": {},
   "outputs": [],
   "source": [
    "### Generate GEMD Graphs ###"
   ]
  }
 ],
 "metadata": {
  "kernelspec": {
   "display_name": "Python 3",
   "language": "python",
   "name": "python3"
  },
  "language_info": {
   "codemirror_mode": {
    "name": "ipython",
    "version": 3
   },
   "file_extension": ".py",
   "mimetype": "text/x-python",
   "name": "python",
   "nbconvert_exporter": "python",
   "pygments_lexer": "ipython3",
   "version": "3.10.11"
  },
  "orig_nbformat": 4
 },
 "nbformat": 4,
 "nbformat_minor": 2
}
