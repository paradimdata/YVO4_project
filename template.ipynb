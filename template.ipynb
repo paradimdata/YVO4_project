{
 "cells": [
  {
   "attachments": {},
   "cell_type": "markdown",
   "metadata": {},
   "source": [
    "## Notebook Template\n",
    "This is a sample electronic laboratory notebook utilizing GEMD and GEMD Tools."
   ]
  },
  {
   "cell_type": "code",
   "execution_count": 1,
   "metadata": {},
   "outputs": [],
   "source": [
    "### Imports ###\n",
    "\n",
    "from utils.provenance import Provenance\n",
    "from utils.mpurity import SOLNS\n",
    "\n",
    "from utils.templates.attribute_templates import ATTR_TEMPL\n",
    "from utils.templates.object_templates import OBJ_TEMPL\n",
    "\n",
    "from tools.attr_utils import *\n",
    "from tools.block.Block import Block\n",
    "from tools.utilities import *\n",
    "from tools.workflow.Workflow import Workflow\n",
    "\n",
    "from utils.builders import *\n",
    "\n",
    "from gemd import ProcessRun,MaterialRun,IngredientRun,MeasurementRun\n",
    "from gemd.json import GEMDJson"
   ]
  },
  {
   "cell_type": "code",
   "execution_count": null,
   "metadata": {},
   "outputs": [],
   "source": [
    "### Make a Header ###\n",
    "\n",
    "prv = Provenance('Gannon','GBM','1007','YVO4 Hydrothermal')\n",
    "prv.header()"
   ]
  },
  {
   "attachments": {},
   "cell_type": "markdown",
   "metadata": {},
   "source": [
    "Build a Workflow to contain the experiment."
   ]
  },
  {
   "cell_type": "code",
   "execution_count": 2,
   "metadata": {},
   "outputs": [],
   "source": [
    "### Initialize Workflow ###\n",
    "\n",
    "MY_WORKFLOW = {'name':'my_workflow','specs':[],'runs':[]}"
   ]
  },
  {
   "attachments": {},
   "cell_type": "markdown",
   "metadata": {},
   "source": [
    "Build a spec for each block of the experiment."
   ]
  },
  {
   "cell_type": "code",
   "execution_count": null,
   "metadata": {},
   "outputs": [],
   "source": [
    "### Initialize Ingredient, Process, Material, & Measurement Specs ###\n",
    "\n",
    "my_proccess = None\n",
    "my_material = None\n",
    "my_ingredients = []\n",
    "my_measurements = []"
   ]
  },
  {
   "attachments": {},
   "cell_type": "markdown",
   "metadata": {},
   "source": [
    "Build a block to contain the specs"
   ]
  },
  {
   "cell_type": "code",
   "execution_count": null,
   "metadata": {},
   "outputs": [],
   "source": [
    "### Build a Custom Spec Block ###\n",
    "\n",
    "my_spec_block = Block(\n",
    "    name = 'my_spec_block',\n",
    "    workflow = None,\n",
    "    ingredients = my_ingredients,\n",
    "    process = my_proccess,\n",
    "    material = my_material,\n",
    "    measurements = my_measurements\n",
    ")\n",
    "\n",
    "MY_WORKFLOW['specs'].append(my_spec_block)"
   ]
  },
  {
   "attachments": {},
   "cell_type": "markdown",
   "metadata": {},
   "source": [
    "Build runs from the experiment spec and add them to the Workflow."
   ]
  },
  {
   "cell_type": "code",
   "execution_count": null,
   "metadata": {},
   "outputs": [],
   "source": [
    "### Convert Ingredient, Process, Material, & Measurement Specs into Runs ###\n",
    "\n",
    "process_run = ProcessRun()\n",
    "material_run = MaterialRun()\n",
    "ingredient_run = [IngredientRun()]\n",
    "measurement_run = [MeasurementRun()]"
   ]
  },
  {
   "cell_type": "code",
   "execution_count": null,
   "metadata": {},
   "outputs": [],
   "source": [
    "### Build a Custom Run Block ###\n",
    "\n",
    "my_run_block = Block(\n",
    "    name = 'my_run_block',\n",
    "    workflow = None,\n",
    "    ingredients=ingredient_run,\n",
    "    process=process_run,\n",
    "    material=material_run,\n",
    "    measurements=measurement_run\n",
    ")\n",
    "\n",
    "MY_WORKFLOW['runs'].append(my_run_block)"
   ]
  },
  {
   "attachments": {},
   "cell_type": "markdown",
   "metadata": {},
   "source": [
    "Outputs"
   ]
  },
  {
   "cell_type": "code",
   "execution_count": null,
   "metadata": {},
   "outputs": [],
   "source": [
    "### Dump blocks to JSONs ###\n",
    "\n",
    "for block in MY_WORKFLOW['runs']:\n",
    "    block.dumps(encoder=GEMDJson,destination=f'./dumps/{MY_WORKFLOW[\"name\"]}/')"
   ]
  },
  {
   "cell_type": "code",
   "execution_count": null,
   "metadata": {},
   "outputs": [],
   "source": [
    "### Generate GEMD Graphs ###"
   ]
  }
 ],
 "metadata": {
  "kernelspec": {
   "display_name": "Python 3",
   "language": "python",
   "name": "python3"
  },
  "language_info": {
   "codemirror_mode": {
    "name": "ipython",
    "version": 3
   },
   "file_extension": ".py",
   "mimetype": "text/x-python",
   "name": "python",
   "nbconvert_exporter": "python",
   "pygments_lexer": "ipython3",
   "version": "3.10.11"
  },
  "orig_nbformat": 4
 },
 "nbformat": 4,
 "nbformat_minor": 2
}
