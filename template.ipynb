{
 "cells": [
  {
   "attachments": {},
   "cell_type": "markdown",
   "metadata": {},
   "source": [
    "## Notebook Template\n",
    "This is a sample electronic laboratory notebook utilizing GEMD and GEMD Tools."
   ]
  },
  {
   "cell_type": "code",
   "execution_count": 1,
   "metadata": {},
   "outputs": [],
   "source": [
    "### Imports ###\n",
    "\n",
    "from tools.attr_utils import *\n",
    "from tools.block.Block import Block\n",
    "from tools.utilities import *\n",
    "\n",
    "from utils.block_builders import *\n",
    "from utils.base_builders import *\n",
    "from utils.provenance import Provenance\n",
    "from utils.mpurity import SOLNS\n",
    "\n",
    "from gemd import FileLink\n",
    "from gemd.json import GEMDJson\n",
    "from gemd import NominalReal,UniformReal\n",
    "\n",
    "import os"
   ]
  },
  {
   "cell_type": "code",
   "execution_count": 2,
   "metadata": {},
   "outputs": [
    {
     "name": "stdout",
     "output_type": "stream",
     "text": [
      "\n",
      "            Gannon\n",
      "            GBM\n",
      "            1007\n",
      "            YVO4 Hydrothermal\n",
      "            2023-07-11\n",
      "            \n"
     ]
    }
   ],
   "source": [
    "### Provenance ###\n",
    "\n",
    "prv = Provenance(\n",
    "    name='Gannon',\n",
    "    email='gmurra12@jh.edu',\n",
    "    tag='GBM',\n",
    "    page='XXXX',\n",
    "    title='Title',\n",
    "    date=''\n",
    "    )\n"
   ]
  },
  {
   "cell_type": "code",
   "execution_count": 3,
   "metadata": {},
   "outputs": [],
   "source": [
    "### Workflow ###\n",
    "\n",
    "MY_WORKFLOW = {}"
   ]
  },
  {
   "cell_type": "code",
   "execution_count": null,
   "metadata": {},
   "outputs": [],
   "source": [
    "### Acquisition Blocks ###\n",
    "\n",
    "MY_WORKFLOW['get_material'] = build_acquiring_material_block(\n",
    "    name=None,\n",
    "    manufacturer=None,\n",
    "    lot_id=None,\n",
    "    cas_rn=None,\n",
    "    form=None,\n",
    "    purity=None,\n",
    "    notes=None,\n",
    "    workflow=None,\n",
    "    prv=prv\n",
    ")"
   ]
  },
  {
   "cell_type": "code",
   "execution_count": null,
   "metadata": {},
   "outputs": [],
   "source": [
    "### Process Block ###\n",
    "\n",
    "sample = None\n",
    "\n",
    "process = helper()\n",
    "\n",
    "material = helper()\n",
    "\n",
    "ingredients = [\n",
    "    build_ingredient_base(\n",
    "        name=None,\n",
    "        material_spec=MY_WORKFLOW[''].material.spec,\n",
    "        material_run=MY_WORKFLOW[''].material.run,\n",
    "        process_spec=process.spec,\n",
    "        process_run=process.run,\n",
    "        quantity_spec=None\n",
    "        quantity_run = None\n",
    "    )\n",
    "]\n",
    "\n",
    "measurements = [\n",
    "    helper()\n",
    "]\n",
    "\n",
    "MY_WORKFLOW['process'] = Block(\n",
    "    name=f'{sample} Process Block',\n",
    "    ingredients=ingredients,\n",
    "    process=process,\n",
    "    material=material,\n",
    "    measurements=measurements\n",
    ")"
   ]
  },
  {
   "cell_type": "code",
   "execution_count": null,
   "metadata": {},
   "outputs": [],
   "source": [
    "### Dump blocks to JSONs ###\n",
    "\n",
    "encoder = GEMDJson()\n",
    "\n",
    "fp = f'./dumps/MY_WORKFLOW'\n",
    "os.mkdir(fp)\n",
    "\n",
    "for block in MY_WORKFLOW.values():\n",
    "    block.thin_dumps(encoder,fp)"
   ]
  }
 ],
 "metadata": {
  "kernelspec": {
   "display_name": "Python 3",
   "language": "python",
   "name": "python3"
  },
  "language_info": {
   "codemirror_mode": {
    "name": "ipython",
    "version": 3
   },
   "file_extension": ".py",
   "mimetype": "text/x-python",
   "name": "python",
   "nbconvert_exporter": "python",
   "pygments_lexer": "ipython3",
   "version": "3.10.11"
  },
  "orig_nbformat": 4
 },
 "nbformat": 4,
 "nbformat_minor": 2
}
