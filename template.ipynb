{
 "cells": [
  {
   "attachments": {},
   "cell_type": "markdown",
   "metadata": {},
   "source": [
    "## Notebook Template\n",
    "This is a sample electronic laboratory notebook utilizing GEMD and GEMD Tools."
   ]
  },
  {
   "cell_type": "code",
   "execution_count": null,
   "metadata": {},
   "outputs": [],
   "source": [
    "### Imports ###\n",
    "\n",
    "from utils.provenance import Provenance\n",
    "from utils.mpurity import SOLNS\n",
    "\n",
    "from utils.templates.attribute_templates import ATTR_TEMPL\n",
    "from utils.templates.object_templates import OBJ_TEMPL\n",
    "\n",
    "from tools.attr_utils import *\n",
    "from tools.block.Block import Block\n",
    "from tools.utilities import *\n",
    "from tools.workflow.Workflow import Workflow\n",
    "\n",
    "from utils.builders import *"
   ]
  },
  {
   "cell_type": "code",
   "execution_count": null,
   "metadata": {},
   "outputs": [],
   "source": [
    "### Make a Header ###\n",
    "\n",
    "prv = Provenance('Gannon','GBM','1007','YVO4 Hydrothermal')\n",
    "prv.header()"
   ]
  },
  {
   "attachments": {},
   "cell_type": "markdown",
   "metadata": {},
   "source": [
    "- Utilize blocks to record experiment\n",
    "- Generate graphs from series of blocks\n",
    "- Map notebooks to their associated graphs"
   ]
  },
  {
   "attachments": {},
   "cell_type": "markdown",
   "metadata": {},
   "source": [
    "Build a Workflow to contain the experiment."
   ]
  },
  {
   "cell_type": "code",
   "execution_count": null,
   "metadata": {},
   "outputs": [],
   "source": [
    "### Initialize Workflow ###\n",
    "my_workflow = Workflow()"
   ]
  },
  {
   "attachments": {},
   "cell_type": "markdown",
   "metadata": {},
   "source": [
    "Build a spec for each block of the experiment."
   ]
  },
  {
   "cell_type": "code",
   "execution_count": null,
   "metadata": {},
   "outputs": [],
   "source": [
    "### Initialize Ingredient, Process, Material, & Measurement Instances ###\n",
    "\n",
    "my_proccess = build_acquire_raw_material_proc_spec(\n",
    "    name='V2O5',\n",
    "    manufacturer='Alfa Aesar',\n",
    "    lot_id='W19F006',\n",
    "    cas_rn=''\n",
    ")\n",
    "\n",
    "my_material = build_raw_material_mat_spec(\n",
    "    name='V2O5',\n",
    "    form='Powder',\n",
    "    purity=54.66\n",
    ")\n",
    "\n",
    "my_ingredients = [\n",
    "    build_ingredient_spec(\n",
    "    name='V2O5',\n",
    "    quantity=10.0,\n",
    "    unc=0.1,\n",
    "    units='g'\n",
    "    )\n",
    "]\n",
    "my_measurements = []"
   ]
  },
  {
   "cell_type": "code",
   "execution_count": null,
   "metadata": {},
   "outputs": [],
   "source": [
    "### Build a Custom Block ###\n",
    "\n",
    "my_block = Block(\n",
    "    name = 'MyBlock',\n",
    "    workflow = None,\n",
    "    ingredients = my_ingredients,\n",
    "    process = my_proccess,\n",
    "    material = my_material,\n",
    "    measurements = my_measurements\n",
    ")"
   ]
  },
  {
   "attachments": {},
   "cell_type": "markdown",
   "metadata": {},
   "source": [
    "Build runs from the experiment spec and add them to the Workflow."
   ]
  },
  {
   "cell_type": "code",
   "execution_count": null,
   "metadata": {},
   "outputs": [],
   "source": [
    "### Convert Spec Blocks to Run Blocks ###\n",
    "\n"
   ]
  },
  {
   "cell_type": "code",
   "execution_count": null,
   "metadata": {},
   "outputs": [],
   "source": [
    "### Add run blocks to the Workflow ###"
   ]
  },
  {
   "attachments": {},
   "cell_type": "markdown",
   "metadata": {},
   "source": [
    "Outputs"
   ]
  },
  {
   "cell_type": "code",
   "execution_count": null,
   "metadata": {},
   "outputs": [],
   "source": [
    "### Dump workflow to JSONs ###"
   ]
  },
  {
   "cell_type": "code",
   "execution_count": null,
   "metadata": {},
   "outputs": [],
   "source": [
    "### Generate GEMD Graphs ###"
   ]
  }
 ],
 "metadata": {
  "kernelspec": {
   "display_name": "Python 3",
   "language": "python",
   "name": "python3"
  },
  "language_info": {
   "codemirror_mode": {
    "name": "ipython",
    "version": 3
   },
   "file_extension": ".py",
   "mimetype": "text/x-python",
   "name": "python",
   "nbconvert_exporter": "python",
   "pygments_lexer": "ipython3",
   "version": "3.10.11"
  },
  "orig_nbformat": 4
 },
 "nbformat": 4,
 "nbformat_minor": 2
}
