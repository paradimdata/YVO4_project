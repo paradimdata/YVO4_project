{
 "cells": [
  {
   "attachments": {},
   "cell_type": "markdown",
   "metadata": {},
   "source": [
    "## Notebook Template\n",
    "This is a sample electronic laboratory notebook utilizing GEMD and GEMD Tools."
   ]
  },
  {
   "cell_type": "code",
   "execution_count": 1,
   "metadata": {},
   "outputs": [],
   "source": [
    "### Imports ###\n",
    "\n",
    "from utils.provenance import Provenance\n",
    "from utils.mpurity import SOLNS\n",
    "\n",
    "from utils.templates.attribute_templates import ATTR_TEMPL\n",
    "from utils.templates.object_templates import OBJ_TEMPL\n",
    "\n",
    "from tools.attr_utils import *\n",
    "from tools.block.Block import Block\n",
    "from tools.utilities import *\n",
    "from tools.workflow.Workflow import Workflow\n",
    "\n",
    "from utils.builders import *"
   ]
  },
  {
   "cell_type": "code",
   "execution_count": null,
   "metadata": {},
   "outputs": [],
   "source": [
    "### Make a Header ###\n",
    "\n",
    "prv = Provenance('Gannon','GBM','1007','YVO4 Hydrothermal')\n",
    "prv.header()"
   ]
  },
  {
   "attachments": {},
   "cell_type": "markdown",
   "metadata": {},
   "source": [
    "- Utilize blocks to record experiment\n",
    "- Generate graphs from series of blocks\n",
    "- Map notebooks to their associated graphs"
   ]
  },
  {
   "attachments": {},
   "cell_type": "markdown",
   "metadata": {},
   "source": [
    "Build a Workflow to contain the experiment."
   ]
  },
  {
   "cell_type": "code",
   "execution_count": null,
   "metadata": {},
   "outputs": [],
   "source": [
    "### Initialize Workflow ###\n",
    "my_workflow = Workflow()"
   ]
  },
  {
   "attachments": {},
   "cell_type": "markdown",
   "metadata": {},
   "source": [
    "Build a spec for each block of the experiment."
   ]
  },
  {
   "cell_type": "code",
   "execution_count": 2,
   "metadata": {},
   "outputs": [
    {
     "ename": "TypeError",
     "evalue": "Value is not of an accepted type: {'value': {'units': 'dimensionless', 'nominal': 54.66, 'type': 'nominal_real'}, 'notes': None, 'origin': 'unknown', 'template': {'bounds': {'lower_bound': 0.0, 'default_units': 'dimensionless', 'upper_bound': 100.0, 'type': 'real_bounds'}, 'tags': [], 'description': 'The purity of a particular material as a percentage, also known as percent weight', 'name': 'Purity Percentage', 'uids': {}, 'type': 'property_template'}, 'name': 'Purity Percentage', 'file_links': [], 'type': 'property'} =/= (<class 'gemd.entity.attribute.property_and_conditions.PropertyAndConditions'>,)",
     "output_type": "error",
     "traceback": [
      "\u001b[1;31m---------------------------------------------------------------------------\u001b[0m",
      "\u001b[1;31mTypeError\u001b[0m                                 Traceback (most recent call last)",
      "Cell \u001b[1;32mIn[2], line 10\u001b[0m\n\u001b[0;32m      1\u001b[0m \u001b[39m### Initialize Ingredient, Process, Material, & Measurement Instances ###\u001b[39;00m\n\u001b[0;32m      3\u001b[0m my_proccess \u001b[39m=\u001b[39m build_acquire_raw_material_proc_spec(\n\u001b[0;32m      4\u001b[0m     name\u001b[39m=\u001b[39m\u001b[39m'\u001b[39m\u001b[39mV2O5\u001b[39m\u001b[39m'\u001b[39m,\n\u001b[0;32m      5\u001b[0m     manufacturer\u001b[39m=\u001b[39m\u001b[39m'\u001b[39m\u001b[39mAlfa Aesar\u001b[39m\u001b[39m'\u001b[39m,\n\u001b[0;32m      6\u001b[0m     lot_id\u001b[39m=\u001b[39m\u001b[39m'\u001b[39m\u001b[39mW19F006\u001b[39m\u001b[39m'\u001b[39m,\n\u001b[0;32m      7\u001b[0m     cas_rn\u001b[39m=\u001b[39m\u001b[39m'\u001b[39m\u001b[39m'\u001b[39m\n\u001b[0;32m      8\u001b[0m )\n\u001b[1;32m---> 10\u001b[0m my_material \u001b[39m=\u001b[39m build_raw_material_mat_spec(\n\u001b[0;32m     11\u001b[0m     name\u001b[39m=\u001b[39;49m\u001b[39m'\u001b[39;49m\u001b[39mV2O5\u001b[39;49m\u001b[39m'\u001b[39;49m,\n\u001b[0;32m     12\u001b[0m     form\u001b[39m=\u001b[39;49m\u001b[39m'\u001b[39;49m\u001b[39mPowder\u001b[39;49m\u001b[39m'\u001b[39;49m,\n\u001b[0;32m     13\u001b[0m     purity\u001b[39m=\u001b[39;49m\u001b[39m54.66\u001b[39;49m\n\u001b[0;32m     14\u001b[0m )\n\u001b[0;32m     16\u001b[0m my_ingredients \u001b[39m=\u001b[39m [build_ingredient_spec(\n\u001b[0;32m     17\u001b[0m     name\u001b[39m=\u001b[39m\u001b[39m'\u001b[39m\u001b[39mV2O5\u001b[39m\u001b[39m'\u001b[39m,\n\u001b[0;32m     18\u001b[0m     quantity\u001b[39m=\u001b[39m\u001b[39m10.0\u001b[39m,\n\u001b[1;32m   (...)\u001b[0m\n\u001b[0;32m     21\u001b[0m     )\n\u001b[0;32m     22\u001b[0m ]\n\u001b[0;32m     23\u001b[0m my_measurements \u001b[39m=\u001b[39m []\n",
      "File \u001b[1;32mc:\\Users\\dev\\PARADIM\\YVO4_project\\YVO4_project\\utils\\builders.py:110\u001b[0m, in \u001b[0;36mbuild_raw_material_mat_spec\u001b[1;34m(name, form, purity)\u001b[0m\n\u001b[0;32m     96\u001b[0m \u001b[39mdef\u001b[39;00m \u001b[39mbuild_raw_material_mat_spec\u001b[39m(name,form,purity):\n\u001b[0;32m     97\u001b[0m \u001b[39m    \u001b[39m\u001b[39m'''\u001b[39;00m\n\u001b[0;32m     98\u001b[0m \u001b[39m    Builds a material spec for a Raw Material.\u001b[39;00m\n\u001b[0;32m     99\u001b[0m \n\u001b[1;32m   (...)\u001b[0m\n\u001b[0;32m    108\u001b[0m \n\u001b[0;32m    109\u001b[0m \u001b[39m    '''\u001b[39;00m\n\u001b[1;32m--> 110\u001b[0m     MATERIAL_SPECS[\u001b[39mf\u001b[39m\u001b[39m'\u001b[39m\u001b[39m{\u001b[39;00mname\u001b[39m}\u001b[39;00m\u001b[39m Material Spec\u001b[39m\u001b[39m'\u001b[39m] \u001b[39m=\u001b[39m MaterialSpec(\n\u001b[0;32m    111\u001b[0m         name\u001b[39m=\u001b[39;49m\u001b[39mf\u001b[39;49m\u001b[39m'\u001b[39;49m\u001b[39m{\u001b[39;49;00mname\u001b[39m}\u001b[39;49;00m\u001b[39m Material Spec\u001b[39;49m\u001b[39m'\u001b[39;49m,\n\u001b[0;32m    112\u001b[0m         template\u001b[39m=\u001b[39;49mOBJ_TEMPL[\u001b[39m'\u001b[39;49m\u001b[39mRaw Material\u001b[39;49m\u001b[39m'\u001b[39;49m],\n\u001b[0;32m    113\u001b[0m         process\u001b[39m=\u001b[39;49mPROCESS_SPECS[\u001b[39mf\u001b[39;49m\u001b[39m'\u001b[39;49m\u001b[39mPurchasing \u001b[39;49m\u001b[39m{\u001b[39;49;00mname\u001b[39m}\u001b[39;49;00m\u001b[39m Spec\u001b[39;49m\u001b[39m'\u001b[39;49m],\n\u001b[0;32m    114\u001b[0m         properties\u001b[39m=\u001b[39;49m[\n\u001b[0;32m    115\u001b[0m             Property(\n\u001b[0;32m    116\u001b[0m                 name\u001b[39m=\u001b[39;49m\u001b[39m'\u001b[39;49m\u001b[39mPurity Percentage\u001b[39;49m\u001b[39m'\u001b[39;49m,\n\u001b[0;32m    117\u001b[0m                 template\u001b[39m=\u001b[39;49mATTR_TEMPL[\u001b[39m'\u001b[39;49m\u001b[39mPurity Percentage\u001b[39;49m\u001b[39m'\u001b[39;49m],\n\u001b[0;32m    118\u001b[0m                 value\u001b[39m=\u001b[39;49mNominalReal(\n\u001b[0;32m    119\u001b[0m                     nominal\u001b[39m=\u001b[39;49mpurity,\n\u001b[0;32m    120\u001b[0m                     units\u001b[39m=\u001b[39;49m\u001b[39m'\u001b[39;49m\u001b[39m'\u001b[39;49m\n\u001b[0;32m    121\u001b[0m                 )\n\u001b[0;32m    122\u001b[0m             ),\n\u001b[0;32m    123\u001b[0m             Property(\n\u001b[0;32m    124\u001b[0m                 name\u001b[39m=\u001b[39;49m\u001b[39m'\u001b[39;49m\u001b[39mForm\u001b[39;49m\u001b[39m'\u001b[39;49m,\n\u001b[0;32m    125\u001b[0m                 template\u001b[39m=\u001b[39;49mATTR_TEMPL[\u001b[39m'\u001b[39;49m\u001b[39mForm\u001b[39;49m\u001b[39m'\u001b[39;49m],\n\u001b[0;32m    126\u001b[0m                 value\u001b[39m=\u001b[39;49mNominalCategorical(form)\n\u001b[0;32m    127\u001b[0m             )\n\u001b[0;32m    128\u001b[0m         ]\n\u001b[0;32m    129\u001b[0m     )\n\u001b[0;32m    132\u001b[0m     \u001b[39mreturn\u001b[39;00m MATERIAL_SPECS[\u001b[39mf\u001b[39m\u001b[39m'\u001b[39m\u001b[39m{\u001b[39;00mname\u001b[39m}\u001b[39;00m\u001b[39m Material Spec\u001b[39m\u001b[39m'\u001b[39m]\n",
      "File \u001b[1;32m~\\AppData\\Local\\Packages\\PythonSoftwareFoundation.Python.3.10_qbz5n2kfra8p0\\LocalCache\\local-packages\\Python310\\site-packages\\gemd\\entity\\object\\material_spec.py:65\u001b[0m, in \u001b[0;36mMaterialSpec.__init__\u001b[1;34m(self, name, template, process, properties, uids, tags, notes, file_links)\u001b[0m\n\u001b[0;32m     63\u001b[0m HasTemplate\u001b[39m.\u001b[39m\u001b[39m__init__\u001b[39m(\u001b[39mself\u001b[39m, template)\n\u001b[0;32m     64\u001b[0m \u001b[39mself\u001b[39m\u001b[39m.\u001b[39m_properties \u001b[39m=\u001b[39m \u001b[39mNone\u001b[39;00m\n\u001b[1;32m---> 65\u001b[0m \u001b[39mself\u001b[39;49m\u001b[39m.\u001b[39;49mproperties \u001b[39m=\u001b[39m properties\n\u001b[0;32m     66\u001b[0m \u001b[39mself\u001b[39m\u001b[39m.\u001b[39m_process \u001b[39m=\u001b[39m \u001b[39mNone\u001b[39;00m\n\u001b[0;32m     67\u001b[0m \u001b[39mself\u001b[39m\u001b[39m.\u001b[39mprocess \u001b[39m=\u001b[39m process\n",
      "File \u001b[1;32m~\\AppData\\Local\\Packages\\PythonSoftwareFoundation.Python.3.10_qbz5n2kfra8p0\\LocalCache\\local-packages\\Python310\\site-packages\\gemd\\entity\\object\\material_spec.py:79\u001b[0m, in \u001b[0;36mMaterialSpec.properties\u001b[1;34m(self, properties)\u001b[0m\n\u001b[0;32m     77\u001b[0m \u001b[39m\u001b[39m\u001b[39m\"\"\"Set the list of property-and-conditions.\"\"\"\u001b[39;00m\n\u001b[0;32m     78\u001b[0m checker \u001b[39m=\u001b[39m \u001b[39mself\u001b[39m\u001b[39m.\u001b[39m_generate_template_check(HasPropertyTemplates\u001b[39m.\u001b[39mvalidate_property)\n\u001b[1;32m---> 79\u001b[0m \u001b[39mself\u001b[39m\u001b[39m.\u001b[39m_properties \u001b[39m=\u001b[39m validate_list(properties, PropertyAndConditions, trigger\u001b[39m=\u001b[39;49mchecker)\n",
      "File \u001b[1;32m~\\AppData\\Local\\Packages\\PythonSoftwareFoundation.Python.3.10_qbz5n2kfra8p0\\LocalCache\\local-packages\\Python310\\site-packages\\gemd\\entity\\setters.py:35\u001b[0m, in \u001b[0;36mvalidate_list\u001b[1;34m(obj, typ, trigger)\u001b[0m\n\u001b[0;32m     33\u001b[0m     \u001b[39mreturn\u001b[39;00m ValidList([], typ, trigger)\n\u001b[0;32m     34\u001b[0m \u001b[39melif\u001b[39;00m \u001b[39misinstance\u001b[39m(obj, Iterable) \u001b[39mand\u001b[39;00m \u001b[39mnot\u001b[39;00m \u001b[39misinstance\u001b[39m(obj, \u001b[39mstr\u001b[39m):\n\u001b[1;32m---> 35\u001b[0m     \u001b[39mreturn\u001b[39;00m ValidList(obj, typ, trigger)\n\u001b[0;32m     36\u001b[0m \u001b[39melse\u001b[39;00m:\n\u001b[0;32m     37\u001b[0m     \u001b[39mreturn\u001b[39;00m ValidList([obj], typ, trigger)\n",
      "File \u001b[1;32m~\\AppData\\Local\\Packages\\PythonSoftwareFoundation.Python.3.10_qbz5n2kfra8p0\\LocalCache\\local-packages\\Python310\\site-packages\\gemd\\entity\\valid_list.py:44\u001b[0m, in \u001b[0;36mValidList.__init__\u001b[1;34m(self, _list, content_type, trigger)\u001b[0m\n\u001b[0;32m     42\u001b[0m         \u001b[39mraise\u001b[39;00m \u001b[39mTypeError\u001b[39;00m(\u001b[39m'\u001b[39m\u001b[39mContent filters must be types\u001b[39m\u001b[39m'\u001b[39m)\n\u001b[0;32m     43\u001b[0m \u001b[39mfor\u001b[39;00m value \u001b[39min\u001b[39;00m _list:\n\u001b[1;32m---> 44\u001b[0m     \u001b[39mself\u001b[39;49m\u001b[39m.\u001b[39;49m_validate(value)\n\u001b[0;32m     46\u001b[0m \u001b[39mself\u001b[39m\u001b[39m.\u001b[39m_trigger \u001b[39m=\u001b[39m \u001b[39mNone\u001b[39;00m\n\u001b[0;32m     47\u001b[0m cache \u001b[39m=\u001b[39m \u001b[39mlist\u001b[39m(_list)\n",
      "File \u001b[1;32m~\\AppData\\Local\\Packages\\PythonSoftwareFoundation.Python.3.10_qbz5n2kfra8p0\\LocalCache\\local-packages\\Python310\\site-packages\\gemd\\entity\\valid_list.py:79\u001b[0m, in \u001b[0;36mValidList._validate\u001b[1;34m(self, value)\u001b[0m\n\u001b[0;32m     60\u001b[0m \u001b[39m\u001b[39m\u001b[39m\"\"\"\u001b[39;00m\n\u001b[0;32m     61\u001b[0m \u001b[39mValidate a value against the allowed types.\u001b[39;00m\n\u001b[0;32m     62\u001b[0m \n\u001b[1;32m   (...)\u001b[0m\n\u001b[0;32m     76\u001b[0m \n\u001b[0;32m     77\u001b[0m \u001b[39m\"\"\"\u001b[39;00m\n\u001b[0;32m     78\u001b[0m \u001b[39mif\u001b[39;00m \u001b[39mnot\u001b[39;00m \u001b[39misinstance\u001b[39m(value, \u001b[39mself\u001b[39m\u001b[39m.\u001b[39m_content_type):\n\u001b[1;32m---> 79\u001b[0m     \u001b[39mraise\u001b[39;00m \u001b[39mTypeError\u001b[39;00m(\n\u001b[0;32m     80\u001b[0m         \u001b[39m'\u001b[39m\u001b[39mValue is not of an accepted type: \u001b[39m\u001b[39m{}\u001b[39;00m\u001b[39m =/= \u001b[39m\u001b[39m{}\u001b[39;00m\u001b[39m'\u001b[39m\u001b[39m.\u001b[39mformat(value, \u001b[39mself\u001b[39m\u001b[39m.\u001b[39m_content_type))\n",
      "\u001b[1;31mTypeError\u001b[0m: Value is not of an accepted type: {'value': {'units': 'dimensionless', 'nominal': 54.66, 'type': 'nominal_real'}, 'notes': None, 'origin': 'unknown', 'template': {'bounds': {'lower_bound': 0.0, 'default_units': 'dimensionless', 'upper_bound': 100.0, 'type': 'real_bounds'}, 'tags': [], 'description': 'The purity of a particular material as a percentage, also known as percent weight', 'name': 'Purity Percentage', 'uids': {}, 'type': 'property_template'}, 'name': 'Purity Percentage', 'file_links': [], 'type': 'property'} =/= (<class 'gemd.entity.attribute.property_and_conditions.PropertyAndConditions'>,)"
     ]
    }
   ],
   "source": [
    "### Initialize Ingredient, Process, Material, & Measurement Instances ###\n",
    "\n",
    "my_proccess = build_acquire_raw_material_proc_spec(\n",
    "    name='V2O5',\n",
    "    manufacturer='Alfa Aesar',\n",
    "    lot_id='W19F006',\n",
    "    cas_rn=''\n",
    ")\n",
    "\n",
    "my_material = build_raw_material_mat_spec(\n",
    "    name='V2O5',\n",
    "    form='Powder',\n",
    "    purity=54.66\n",
    ")\n",
    "\n",
    "my_ingredients = [build_ingredient_spec(\n",
    "    name='V2O5',\n",
    "    quantity=10.0,\n",
    "    unc=0.1,\n",
    "    units='g'\n",
    "    )\n",
    "]\n",
    "my_measurements = []"
   ]
  },
  {
   "cell_type": "code",
   "execution_count": null,
   "metadata": {},
   "outputs": [],
   "source": [
    "### Build a Custom Block ###\n",
    "\n",
    "my_block = Block(\n",
    "    name = 'MyBlock',\n",
    "    workflow = None,\n",
    "    ingredients = my_ingredients,\n",
    "    process = my_proccess,\n",
    "    material = my_material,\n",
    "    measurements = my_measurements\n",
    ")"
   ]
  },
  {
   "attachments": {},
   "cell_type": "markdown",
   "metadata": {},
   "source": [
    "Build runs from the experiment spec and add them to the Workflow."
   ]
  },
  {
   "cell_type": "code",
   "execution_count": null,
   "metadata": {},
   "outputs": [],
   "source": [
    "### Convert Spec Blocks to Run Blocks ###\n",
    "\n"
   ]
  },
  {
   "cell_type": "code",
   "execution_count": null,
   "metadata": {},
   "outputs": [],
   "source": [
    "### Add run blocks to the Workflow ###"
   ]
  },
  {
   "attachments": {},
   "cell_type": "markdown",
   "metadata": {},
   "source": [
    "Outputs"
   ]
  },
  {
   "cell_type": "code",
   "execution_count": null,
   "metadata": {},
   "outputs": [],
   "source": [
    "### Dump workflow to JSONs ###"
   ]
  },
  {
   "cell_type": "code",
   "execution_count": null,
   "metadata": {},
   "outputs": [],
   "source": [
    "### Generate GEMD Graphs ###"
   ]
  }
 ],
 "metadata": {
  "kernelspec": {
   "display_name": "Python 3",
   "language": "python",
   "name": "python3"
  },
  "language_info": {
   "codemirror_mode": {
    "name": "ipython",
    "version": 3
   },
   "file_extension": ".py",
   "mimetype": "text/x-python",
   "name": "python",
   "nbconvert_exporter": "python",
   "pygments_lexer": "ipython3",
   "version": "3.10.11"
  },
  "orig_nbformat": 4
 },
 "nbformat": 4,
 "nbformat_minor": 2
}
