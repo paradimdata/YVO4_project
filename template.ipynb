{
 "cells": [
  {
   "attachments": {},
   "cell_type": "markdown",
   "metadata": {},
   "source": [
    "## Notebook Template\n",
    "This is a sample electronic laboratory notebook utilizing GEMD and GEMD Tools."
   ]
  },
  {
   "cell_type": "code",
   "execution_count": 1,
   "metadata": {},
   "outputs": [],
   "source": [
    "### Imports ###\n",
    "\n",
    "from utils.provenance import Provenance\n",
    "from utils.mpurity import SOLNS\n",
    "\n",
    "from utils.templates.attribute_templates import ATTR_TEMPL\n",
    "from utils.templates.object_templates import OBJ_TEMPL\n",
    "\n",
    "from tools.attr_utils import *\n",
    "from tools.block.Block import Block\n",
    "from tools.utilities import *\n",
    "from tools.workflow.Workflow import Workflow\n",
    "\n",
    "from utils.builders import *"
   ]
  },
  {
   "cell_type": "code",
   "execution_count": 2,
   "metadata": {},
   "outputs": [
    {
     "name": "stdout",
     "output_type": "stream",
     "text": [
      "Please choose a different value for Equipment Used\n"
     ]
    },
    {
     "name": "stderr",
     "output_type": "stream",
     "text": [
      "template.bounds {'type': 'categorical_bounds', 'categories': ['Mortar and Pestle', 'Nichrome Wire', 'Pellet Press Set', 'Quartz Tube', 'Quartz Wool', 'Thermocouple', 'Tongs', 'Torch', 'Tube Sealing Station']} does not contain value {'category': 'Blender', 'type': 'nominal_categorical'}\n",
      "Value {'category': 'Blender', 'type': 'nominal_categorical'} is inconsistent with template Grinding Material\n"
     ]
    },
    {
     "name": "stdout",
     "output_type": "stream",
     "text": [
      "Added Wet Lab to category Location.\n"
     ]
    },
    {
     "ename": "KeyError",
     "evalue": "'Purchasing LiCO3 Spec'",
     "output_type": "error",
     "traceback": [
      "\u001b[1;31m---------------------------------------------------------------------------\u001b[0m",
      "\u001b[1;31mKeyError\u001b[0m                                  Traceback (most recent call last)",
      "Cell \u001b[1;32mIn[2], line 1\u001b[0m\n\u001b[1;32m----> 1\u001b[0m build_grinding_material_proc_spec(\u001b[39m'\u001b[39;49m\u001b[39mLiCO3\u001b[39;49m\u001b[39m'\u001b[39;49m,location\u001b[39m=\u001b[39;49m\u001b[39m'\u001b[39;49m\u001b[39mWet Lab\u001b[39;49m\u001b[39m'\u001b[39;49m,equipment\u001b[39m=\u001b[39;49m\u001b[39m'\u001b[39;49m\u001b[39mBlender\u001b[39;49m\u001b[39m'\u001b[39;49m)\n",
      "File \u001b[1;32mc:\\Users\\dev\\PARADIM\\YVO4_project\\YVO4_project\\utils\\builders.py:80\u001b[0m, in \u001b[0;36mbuild_grinding_material_proc_spec\u001b[1;34m(name, location, equipment, notes)\u001b[0m\n\u001b[0;32m     58\u001b[0m attr_validate(\u001b[39m'\u001b[39m\u001b[39mLocation\u001b[39m\u001b[39m'\u001b[39m,location)\n\u001b[0;32m     60\u001b[0m PROCESS_SPECS[\u001b[39mf\u001b[39m\u001b[39m'\u001b[39m\u001b[39mGrinding \u001b[39m\u001b[39m{\u001b[39;00mname\u001b[39m}\u001b[39;00m\u001b[39m Spec\u001b[39m\u001b[39m'\u001b[39m] \u001b[39m=\u001b[39m ProcessSpec(\n\u001b[0;32m     61\u001b[0m     name\u001b[39m=\u001b[39m\u001b[39mf\u001b[39m\u001b[39m'\u001b[39m\u001b[39mGrinding \u001b[39m\u001b[39m{\u001b[39;00mname\u001b[39m}\u001b[39;00m\u001b[39m Spec\u001b[39m\u001b[39m'\u001b[39m,\n\u001b[0;32m     62\u001b[0m     template\u001b[39m=\u001b[39mOBJ_TEMPL[\u001b[39m'\u001b[39m\u001b[39mGrinding Material\u001b[39m\u001b[39m'\u001b[39m],\n\u001b[1;32m   (...)\u001b[0m\n\u001b[0;32m     77\u001b[0m     notes\u001b[39m=\u001b[39mnotes\n\u001b[0;32m     78\u001b[0m )\n\u001b[1;32m---> 80\u001b[0m \u001b[39mreturn\u001b[39;00m PROCESS_SPECS[\u001b[39mf\u001b[39;49m\u001b[39m'\u001b[39;49m\u001b[39mPurchasing \u001b[39;49m\u001b[39m{\u001b[39;49;00mname\u001b[39m}\u001b[39;49;00m\u001b[39m Spec\u001b[39;49m\u001b[39m'\u001b[39;49m]\n",
      "\u001b[1;31mKeyError\u001b[0m: 'Purchasing LiCO3 Spec'"
     ]
    }
   ],
   "source": [
    "build_grinding_material_proc_spec('LiCO3',location='Wet Lab',equipment='Blender')"
   ]
  },
  {
   "cell_type": "code",
   "execution_count": null,
   "metadata": {},
   "outputs": [],
   "source": [
    "### Make a Header ###\n",
    "\n",
    "prv = Provenance('Gannon','GBM','1007','YVO4 Hydrothermal')\n",
    "prv.header()"
   ]
  },
  {
   "attachments": {},
   "cell_type": "markdown",
   "metadata": {},
   "source": [
    "- Utilize blocks to record experiment\n",
    "- Generate graphs from series of blocks\n",
    "- Map notebooks to their associated graphs"
   ]
  },
  {
   "attachments": {},
   "cell_type": "markdown",
   "metadata": {},
   "source": [
    "Build a Workflow to contain the experiment."
   ]
  },
  {
   "cell_type": "code",
   "execution_count": null,
   "metadata": {},
   "outputs": [],
   "source": [
    "### Initialize Workflow ###\n",
    "my_workflow = Workflow()"
   ]
  },
  {
   "attachments": {},
   "cell_type": "markdown",
   "metadata": {},
   "source": [
    "Build a spec for each block of the experiment."
   ]
  },
  {
   "cell_type": "code",
   "execution_count": null,
   "metadata": {},
   "outputs": [],
   "source": [
    "name='LiCO3'\n",
    "block1 = Block(\n",
    "    name=name,\n",
    "    workflow=None,\n",
    "    ingredients=None,\n",
    "    process=build_acquire_raw_material_proc_spec(name),\n",
    "    material=build_raw_material_mat_spec(name=name)\n",
    ")"
   ]
  },
  {
   "cell_type": "code",
   "execution_count": null,
   "metadata": {},
   "outputs": [],
   "source": [
    "### Initialize Ingredient, Process, Material, & Measurement Instances ###\n",
    "\n",
    "my_proccess = build_acquire_raw_material_proc_spec(\n",
    "    name='V2O5',\n",
    ")\n",
    "\n",
    "my_material = build_raw_material_mat_spec(\n",
    "    name='V2O5',\n",
    ")\n",
    "\n",
    "my_ingredients = []\n",
    "my_measurements = []"
   ]
  },
  {
   "cell_type": "code",
   "execution_count": null,
   "metadata": {},
   "outputs": [],
   "source": [
    "### Build a Custom Block ###\n",
    "\n",
    "my_block = Block(\n",
    "    name = 'MyBlock',\n",
    "    workflow = None,\n",
    "    ingredients = my_ingredients,\n",
    "    process = my_proccess,\n",
    "    material = my_material,\n",
    "    measurements = my_measurements\n",
    ")"
   ]
  },
  {
   "cell_type": "code",
   "execution_count": null,
   "metadata": {},
   "outputs": [],
   "source": [
    "name = 'Y2O3'\n",
    "reagent_block = Block(\n",
    "    name=name,\n",
    "    ingredients=None,\n",
    "    process=build_acquire_raw_material_proc_spec(\n",
    "        name=name,\n",
    "        manufacturer='Thermo Scientific',\n",
    "        lot_id='W19F006',\n",
    "        cas_rn=''\n",
    "    ),\n",
    "    material=build_raw_material_mat_spec(\n",
    "        name=name,\n",
    "        form='Powder',\n",
    "        purity=99.96,\n",
    "        notes='Chalky white powder'\n",
    "    ),\n",
    "    measurements=build_xrd_meas_spec(\n",
    "        name=name,\n",
    "        duration=0.25,\n",
    "        range='15-60',\n",
    "        adhesive='Ethanol',\n",
    "        notes='It sure is yttrium oxide'\n",
    "    )\n",
    ")"
   ]
  },
  {
   "attachments": {},
   "cell_type": "markdown",
   "metadata": {},
   "source": [
    "Build runs from the experiment spec and add them to the Workflow."
   ]
  },
  {
   "cell_type": "code",
   "execution_count": null,
   "metadata": {},
   "outputs": [],
   "source": [
    "### Convert Spec Blocks to Run Blocks ###\n",
    "\n"
   ]
  },
  {
   "cell_type": "code",
   "execution_count": null,
   "metadata": {},
   "outputs": [],
   "source": [
    "### Add run blocks to the Workflow ###"
   ]
  },
  {
   "attachments": {},
   "cell_type": "markdown",
   "metadata": {},
   "source": [
    "Outputs"
   ]
  },
  {
   "cell_type": "code",
   "execution_count": null,
   "metadata": {},
   "outputs": [],
   "source": [
    "### Dump workflow to JSONs ###"
   ]
  },
  {
   "cell_type": "code",
   "execution_count": null,
   "metadata": {},
   "outputs": [],
   "source": [
    "### Generate GEMD Graphs ###"
   ]
  }
 ],
 "metadata": {
  "kernelspec": {
   "display_name": "Python 3",
   "language": "python",
   "name": "python3"
  },
  "language_info": {
   "codemirror_mode": {
    "name": "ipython",
    "version": 3
   },
   "file_extension": ".py",
   "mimetype": "text/x-python",
   "name": "python",
   "nbconvert_exporter": "python",
   "pygments_lexer": "ipython3",
   "version": "3.10.11"
  },
  "orig_nbformat": 4
 },
 "nbformat": 4,
 "nbformat_minor": 2
}
