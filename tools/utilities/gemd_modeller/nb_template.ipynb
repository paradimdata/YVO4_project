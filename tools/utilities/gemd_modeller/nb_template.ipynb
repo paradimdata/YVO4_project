{
 "cells": [
  {
   "cell_type": "code",
   "execution_count": 1,
   "metadata": {
    "execution": {
     "iopub.execute_input": "2023-07-10T23:04:14.091684Z",
     "iopub.status.busy": "2023-07-10T23:04:14.091445Z",
     "iopub.status.idle": "2023-07-10T23:04:15.589495Z",
     "shell.execute_reply": "2023-07-10T23:04:15.588568Z"
    }
   },
   "outputs": [],
   "source": [
    "import sys,os,argparse\n",
    "from IPython.display import HTML\n",
    "from gemd_modeller import GemdModeller\n",
    "from yfiles_jupyter_graphs import GraphWidget\n",
    "import networkx as nx\n",
    "\n",
    "CONFIG_FILE = './.config_ipynb'\n",
    "if os.path.isfile(CONFIG_FILE):\n",
    "    with open(CONFIG_FILE) as f:\n",
    "        sys.argv = f.read().split()\n",
    "else:\n",
    "    print(\"No Config file\")\n",
    "    \n",
    "path = sys.argv[0]"
   ]
  },
  {
   "cell_type": "code",
   "execution_count": 2,
   "metadata": {
    "execution": {
     "iopub.execute_input": "2023-07-10T23:04:15.593381Z",
     "iopub.status.busy": "2023-07-10T23:04:15.592849Z",
     "iopub.status.idle": "2023-07-10T23:04:16.225456Z",
     "shell.execute_reply": "2023-07-10T23:04:16.224717Z"
    }
   },
   "outputs": [],
   "source": [
    "g = nx.Graph(nx.nx_pydot.read_dot(path))"
   ]
  },
  {
   "cell_type": "code",
   "execution_count": 3,
   "metadata": {
    "execution": {
     "iopub.execute_input": "2023-07-10T23:04:16.228878Z",
     "iopub.status.busy": "2023-07-10T23:04:16.228636Z",
     "iopub.status.idle": "2023-07-10T23:04:16.256451Z",
     "shell.execute_reply": "2023-07-10T23:04:16.255845Z"
    }
   },
   "outputs": [
    {
     "data": {
      "application/vnd.jupyter.widget-view+json": {
       "model_id": "1c0d8c492de4462f99df53e097289efc",
       "version_major": 2,
       "version_minor": 0
      },
      "text/plain": [
       "GraphWidget(layout=Layout(height='500px', width='100%'))"
      ]
     },
     "metadata": {},
     "output_type": "display_data"
    }
   ],
   "source": [
    "w = GraphWidget(graph=g)\n",
    "w.directed=True\n",
    "w.show()"
   ]
  },
  {
   "cell_type": "code",
   "execution_count": null,
   "metadata": {},
   "outputs": [],
   "source": []
  }
 ],
 "metadata": {
  "kernelspec": {
   "display_name": "Python 3 (ipykernel)",
   "language": "python",
   "name": "python3"
  },
  "language_info": {
   "codemirror_mode": {
    "name": "ipython",
    "version": 3
   },
   "file_extension": ".py",
   "mimetype": "text/x-python",
   "name": "python",
   "nbconvert_exporter": "python",
   "pygments_lexer": "ipython3",
   "version": "3.9.16"
  },
  "vscode": {
   "interpreter": {
    "hash": "c93de424c187b5f45150c4b68957697054d2d10439b831359c08b5dbeaa012b5"
   }
  },
  "widgets": {
   "application/vnd.jupyter.widget-state+json": {
    "state": {
     "6b95e5178e964ec28b0c6e0a907f293a": {
      "model_module": "@jupyter-widgets/base",
      "model_module_version": "2.0.0",
      "model_name": "LayoutModel",
      "state": {
       "_model_module": "@jupyter-widgets/base",
       "_model_module_version": "2.0.0",
       "_model_name": "LayoutModel",
       "_view_count": null,
       "_view_module": "@jupyter-widgets/base",
       "_view_module_version": "2.0.0",
       "_view_name": "LayoutView",
       "align_content": null,
       "align_items": null,
       "align_self": null,
       "border_bottom": null,
       "border_left": null,
       "border_right": null,
       "border_top": null,
       "bottom": null,
       "display": null,
       "flex": null,
       "flex_flow": null,
       "grid_area": null,
       "grid_auto_columns": null,
       "grid_auto_flow": null,
       "grid_auto_rows": null,
       "grid_column": null,
       "grid_gap": null,
       "grid_row": null,
       "grid_template_areas": null,
       "grid_template_columns": null,
       "grid_template_rows": null,
       "height": "500px",
       "justify_content": null,
       "justify_items": null,
       "left": null,
       "margin": null,
       "max_height": null,
       "max_width": null,
       "min_height": null,
       "min_width": null,
       "object_fit": null,
       "object_position": null,
       "order": null,
       "overflow": null,
       "padding": null,
       "right": null,
       "top": null,
       "visibility": null,
       "width": "100%"
      }
     },
     "7c69242955804357b719caae33769a5e": {
      "model_module": "yfiles-jupyter-graphs",
      "model_module_version": "^1.4.6",
      "model_name": "GraphModel",
      "state": {
       "_context_pane_mapping": [
        {
         "id": "Neighborhood",
         "title": "Neighborhood"
        },
        {
         "id": "Data",
         "title": "Data"
        },
        {
         "id": "Search",
         "title": "Search"
        },
        {
         "id": "About",
         "title": "About"
        }
       ],
       "_data_importer": "networkx",
       "_directed": true,
       "_dom_classes": [],
       "_edges": [
        {
         "color": "#094c4b",
         "directed": true,
         "end": 1,
         "id": 0,
         "label": "",
         "properties": {
          "pos": "\"e,4346,396.41 4320.9,431.83 4326.7,423.62 4333.7,413.76 4340.1,404.73\""
         },
         "start": 0,
         "thickness_factor": 1
        },
        {
         "color": "#094c4b",
         "directed": true,
         "end": 38,
         "id": 1,
         "label": "",
         "properties": {
          "pos": "\"e,4292.2,468.41 4261.7,503.83 4268.9,495.45 4277.6,485.35 4285.5,476.17\""
         },
         "start": 0,
         "thickness_factor": 1
        },
        {
         "color": "#094c4b",
         "directed": true,
         "end": 2,
         "id": 2,
         "label": "",
         "properties": {
          "pos": "\"e,4379.1,324.41 4365.8,359.83 4368.8,351.96 4372.3,342.57 4375.6,333.85\""
         },
         "start": 1,
         "thickness_factor": 1
        },
        {
         "color": "#094c4b",
         "directed": true,
         "end": 3,
         "id": 3,
         "label": "",
         "properties": {
          "pos": "\"e,3389.3,241.35 4162.1,291.47 3932.3,276.57 3583.2,253.93 3399.3,242\""
         },
         "start": 2,
         "thickness_factor": 1
        },
        {
         "color": "#094c4b",
         "directed": true,
         "end": 13,
         "id": 4,
         "label": "",
         "properties": {
          "pos": "\"e,3276,180.41 3276,215.83 3276,208.13 3276,198.97 3276,190.42\""
         },
         "start": 3,
         "thickness_factor": 1
        },
        {
         "color": "#094c4b",
         "directed": true,
         "end": 12,
         "id": 5,
         "label": "",
         "properties": {
          "pos": "\"e,3202.6,248.56 3001.4,288.48 3059.6,276.93 3135.3,261.91 3192.5,250.57\""
         },
         "start": 3,
         "thickness_factor": 1
        },
        {
         "color": "#094c4b",
         "directed": true,
         "end": 26,
         "id": 6,
         "label": "",
         "properties": {
          "pos": "\"e,3397.4,237.85 4889.2,293.2 4850.6,291.37 4811.3,289.58 4774,288 4269.2,266.56 3668.5,246.58 3407.7,238.18\""
         },
         "start": 3,
         "thickness_factor": 1
        },
        {
         "color": "#094c4b",
         "directed": true,
         "end": 49,
         "id": 7,
         "label": "",
         "properties": {
          "pos": "\"e,3154.7,237.95 1680.6,293.22 1719.6,291.39 1759.4,289.6 1797,288 2294.5,266.92 2886.3,246.81 3144.6,238.28\""
         },
         "start": 3,
         "thickness_factor": 1
        },
        {
         "color": "#094c4b",
         "directed": true,
         "end": 52,
         "id": 8,
         "label": "",
         "properties": {
          "pos": "\"e,3349.3,248.54 3551.2,288.57 3492.9,277.01 3416.8,261.93 3359.5,250.55\""
         },
         "start": 3,
         "thickness_factor": 1
        },
        {
         "color": "#094c4b",
         "directed": true,
         "end": 54,
         "id": 9,
         "label": "",
         "properties": {
          "pos": "\"e,3162.7,241.38 2391.7,291.62 2620,276.74 2968.6,254.03 3152.5,242.05\""
         },
         "start": 3,
         "thickness_factor": 1
        },
        {
         "color": "#094c4b",
         "directed": true,
         "end": 5,
         "id": 10,
         "label": "",
         "properties": {
          "pos": "\"e,1623.1,1689.4 1345.6,1729.9 1425.1,1718.3 1532.1,1702.7 1612.8,1690.9\""
         },
         "start": 4,
         "thickness_factor": 1
        },
        {
         "color": "#094c4b",
         "directed": true,
         "end": 6,
         "id": 11,
         "label": "",
         "properties": {
          "pos": "\"e,1911.2,1619.6 1787.1,1656.7 1821.4,1646.4 1865.2,1633.3 1901.3,1622.5\""
         },
         "start": 5,
         "thickness_factor": 1
        },
        {
         "color": "#094c4b",
         "directed": true,
         "end": 11,
         "id": 12,
         "label": "",
         "properties": {
          "pos": "\"e,1729,1692.4 1729,1727.8 1729,1720.1 1729,1711 1729,1702.4\""
         },
         "start": 5,
         "thickness_factor": 1
        },
        {
         "color": "#094c4b",
         "directed": true,
         "end": 7,
         "id": 13,
         "label": "",
         "properties": {
          "pos": "\"e,2764,1543.8 2143.2,1589.3 2314,1576.8 2574.7,1557.7 2753.9,1544.6\""
         },
         "start": 6,
         "thickness_factor": 1
        },
        {
         "color": "#094c4b",
         "directed": true,
         "end": 23,
         "id": 14,
         "label": "",
         "properties": {
          "pos": "\"e,2953,1476.4 2953,1511.8 2953,1504.1 2953,1495 2953,1486.4\""
         },
         "start": 7,
         "thickness_factor": 1
        },
        {
         "color": "#094c4b",
         "directed": true,
         "end": 17,
         "id": 15,
         "label": "",
         "properties": {
          "pos": "\"e,3143.5,1543.8 3775.5,1589.4 3601.9,1576.9 3335.9,1557.7 3153.7,1544.5\""
         },
         "start": 7,
         "thickness_factor": 1
        },
        {
         "color": "#094c4b",
         "directed": true,
         "end": 22,
         "id": 16,
         "label": "",
         "properties": {
          "pos": "\"e,2700,1539.3 1211.2,1594 1573.9,1580.7 2299.5,1554 2690,1539.7\""
         },
         "start": 7,
         "thickness_factor": 1
        },
        {
         "color": "#094c4b",
         "directed": true,
         "end": 50,
         "id": 17,
         "label": "",
         "properties": {
          "pos": "\"e,2891.5,1547.6 2762.8,1584.6 2798.6,1574.3 2844.1,1561.2 2881.7,1550.5\""
         },
         "start": 7,
         "thickness_factor": 1
        },
        {
         "color": "#094c4b",
         "directed": true,
         "end": 51,
         "id": 18,
         "label": "",
         "properties": {
          "pos": "\"e,3014.5,1547.6 3143.3,1584.6 3107.4,1574.3 3061.9,1561.2 3024.4,1550.5\""
         },
         "start": 7,
         "thickness_factor": 1
        },
        {
         "color": "#094c4b",
         "directed": true,
         "end": 62,
         "id": 19,
         "label": "",
         "properties": {
          "pos": "\"e,3202.9,1539.6 4608.5,1593.7 4262.1,1580.4 3584.9,1554.3 3213,1540\""
         },
         "start": 7,
         "thickness_factor": 1
        },
        {
         "color": "#094c4b",
         "directed": true,
         "end": 9,
         "id": 20,
         "label": "",
         "properties": {
          "pos": "\"e,1729,1908.4 1729,1943.8 1729,1936.1 1729,1927 1729,1918.4\""
         },
         "start": 8,
         "thickness_factor": 1
        },
        {
         "color": "#094c4b",
         "directed": true,
         "end": 59,
         "id": 21,
         "label": "",
         "properties": {
          "pos": "\"e,1729,1980.4 1729,2015.8 1729,2008.1 1729,1999 1729,1990.4\""
         },
         "start": 8,
         "thickness_factor": 1
        },
        {
         "color": "#094c4b",
         "directed": true,
         "end": 10,
         "id": 22,
         "label": "",
         "properties": {
          "pos": "\"e,1729,1836.4 1729,1871.8 1729,1864.1 1729,1855 1729,1846.4\""
         },
         "start": 9,
         "thickness_factor": 1
        },
        {
         "color": "#094c4b",
         "directed": true,
         "end": 11,
         "id": 23,
         "label": "",
         "properties": {
          "pos": "\"e,1729,1764.4 1729,1799.8 1729,1792.1 1729,1783 1729,1774.4\""
         },
         "start": 10,
         "thickness_factor": 1
        },
        {
         "color": "#094c4b",
         "directed": true,
         "end": 47,
         "id": 24,
         "label": "",
         "properties": {
          "pos": "\"e,2915.1,324.41 2919,359.83 2918.2,352.13 2917.1,342.97 2916.2,334.42\""
         },
         "start": 12,
         "thickness_factor": 1
        },
        {
         "color": "#094c4b",
         "directed": true,
         "end": 14,
         "id": 25,
         "label": "",
         "properties": {
          "pos": "\"e,3276,108.41 3276,143.83 3276,136.13 3276,126.97 3276,118.42\""
         },
         "start": 13,
         "thickness_factor": 1
        },
        {
         "color": "#094c4b",
         "directed": true,
         "end": 27,
         "id": 26,
         "label": "",
         "properties": {
          "pos": "\"e,3276,36.413 3276,71.831 3276,64.131 3276,54.974 3276,46.417\""
         },
         "start": 14,
         "thickness_factor": 1
        },
        {
         "color": "#094c4b",
         "directed": true,
         "end": 16,
         "id": 27,
         "label": "",
         "properties": {
          "pos": "\"e,4202,1692.4 4202,1727.8 4202,1720.1 4202,1711 4202,1702.4\""
         },
         "start": 15,
         "thickness_factor": 1
        },
        {
         "color": "#094c4b",
         "directed": true,
         "end": 17,
         "id": 28,
         "label": "",
         "properties": {
          "pos": "\"e,4011.2,1619.5 4141.7,1656.8 4105.4,1646.4 4059.2,1633.2 4021.2,1622.3\""
         },
         "start": 16,
         "thickness_factor": 1
        },
        {
         "color": "#094c4b",
         "directed": true,
         "end": 63,
         "id": 29,
         "label": "",
         "properties": {
          "pos": "\"e,4308.7,1689.5 4588.6,1730.1 4508.7,1718.5 4400.6,1702.8 4319,1691\""
         },
         "start": 16,
         "thickness_factor": 1
        },
        {
         "color": "#094c4b",
         "directed": true,
         "end": 19,
         "id": 30,
         "label": "",
         "properties": {
          "pos": "\"e,3262,1188.4 3262,1223.8 3262,1216.1 3262,1207 3262,1198.4\""
         },
         "start": 18,
         "thickness_factor": 1
        },
        {
         "color": "#094c4b",
         "directed": true,
         "end": 53,
         "id": 31,
         "label": "",
         "properties": {
          "pos": "\"e,3188,1259.2 3027.4,1296.7 3072.9,1286.1 3131.1,1272.5 3178.1,1261.5\""
         },
         "start": 18,
         "thickness_factor": 1
        },
        {
         "color": "#094c4b",
         "directed": true,
         "end": 69,
         "id": 32,
         "label": "",
         "properties": {
          "pos": "\"e,3336.3,1259.2 3496.2,1296.4 3450.8,1285.8 3392.9,1272.4 3346.1,1261.5\""
         },
         "start": 18,
         "thickness_factor": 1
        },
        {
         "color": "#094c4b",
         "directed": true,
         "end": 20,
         "id": 33,
         "label": "",
         "properties": {
          "pos": "\"e,3262,1116.4 3262,1151.8 3262,1144.1 3262,1135 3262,1126.4\""
         },
         "start": 19,
         "thickness_factor": 1
        },
        {
         "color": "#094c4b",
         "directed": true,
         "end": 21,
         "id": 34,
         "label": "",
         "properties": {
          "pos": "\"e,3262,1044.4 3262,1079.8 3262,1072.1 3262,1063 3262,1054.4\""
         },
         "start": 20,
         "thickness_factor": 1
        },
        {
         "color": "#094c4b",
         "directed": true,
         "end": 28,
         "id": 35,
         "label": "",
         "properties": {
          "pos": "\"e,3262,972.41 3262,1007.8 3262,1000.1 3262,990.97 3262,982.42\""
         },
         "start": 21,
         "thickness_factor": 1
        },
        {
         "color": "#094c4b",
         "directed": true,
         "end": 56,
         "id": 36,
         "label": "",
         "properties": {
          "pos": "\"e,931.36,1619.5 799.87,1656.8 836.38,1646.4 883.01,1633.2 921.31,1622.3\""
         },
         "start": 22,
         "thickness_factor": 1
        },
        {
         "color": "#094c4b",
         "directed": true,
         "end": 24,
         "id": 37,
         "label": "",
         "properties": {
          "pos": "\"e,2953,1404.4 2953,1439.8 2953,1432.1 2953,1423 2953,1414.4\""
         },
         "start": 23,
         "thickness_factor": 1
        },
        {
         "color": "#094c4b",
         "directed": true,
         "end": 53,
         "id": 38,
         "label": "",
         "properties": {
          "pos": "\"e,2953,1332.4 2953,1367.8 2953,1360.1 2953,1351 2953,1342.4\""
         },
         "start": 24,
         "thickness_factor": 1
        },
        {
         "color": "#094c4b",
         "directed": true,
         "end": 26,
         "id": 39,
         "label": "",
         "properties": {
          "pos": "\"e,5132.3,324.41 5113.6,359.83 5117.9,351.79 5122.9,342.17 5127.6,333.29\""
         },
         "start": 25,
         "thickness_factor": 1
        },
        {
         "color": "#094c4b",
         "directed": true,
         "end": 44,
         "id": 40,
         "label": "",
         "properties": {
          "pos": "\"e,5086.4,396.41 5052.4,431.83 5060.5,423.37 5070.3,413.15 5079.2,403.9\""
         },
         "start": 25,
         "thickness_factor": 1
        },
        {
         "color": "#094c4b",
         "directed": true,
         "end": 29,
         "id": 41,
         "label": "",
         "properties": {
          "pos": "\"e,3262,900.41 3262,935.83 3262,928.13 3262,918.97 3262,910.42\""
         },
         "start": 28,
         "thickness_factor": 1
        },
        {
         "color": "#094c4b",
         "directed": true,
         "end": 30,
         "id": 42,
         "label": "",
         "properties": {
          "pos": "\"e,3262,828.41 3262,863.83 3262,856.13 3262,846.97 3262,838.42\""
         },
         "start": 29,
         "thickness_factor": 1
        },
        {
         "color": "#094c4b",
         "directed": true,
         "end": 31,
         "id": 43,
         "label": "",
         "properties": {
          "pos": "\"e,3262,756.41 3262,791.83 3262,784.13 3262,774.97 3262,766.42\""
         },
         "start": 30,
         "thickness_factor": 1
        },
        {
         "color": "#094c4b",
         "directed": true,
         "end": 32,
         "id": 44,
         "label": "",
         "properties": {
          "pos": "\"e,3262,684.41 3262,719.83 3262,712.13 3262,702.97 3262,694.42\""
         },
         "start": 31,
         "thickness_factor": 1
        },
        {
         "color": "#094c4b",
         "directed": true,
         "end": 33,
         "id": 45,
         "label": "",
         "properties": {
          "pos": "\"e,3262,612.41 3262,647.83 3262,640.13 3262,630.97 3262,622.42\""
         },
         "start": 32,
         "thickness_factor": 1
        },
        {
         "color": "#094c4b",
         "directed": true,
         "end": 34,
         "id": 46,
         "label": "",
         "properties": {
          "pos": "\"e,1921.7,533.67 3049.9,585.1 2807.4,574.8 2398.6,557.06 2047,540 2009.8,538.19 1970.3,536.19 1931.9,534.2\""
         },
         "start": 33,
         "thickness_factor": 1
        },
        {
         "color": "#094c4b",
         "directed": true,
         "end": 35,
         "id": 47,
         "label": "",
         "properties": {
          "pos": "\"e,2518.1,535.97 3094.3,580.92 2934.7,568.47 2694.9,549.76 2528.5,536.78\""
         },
         "start": 33,
         "thickness_factor": 1
        },
        {
         "color": "#094c4b",
         "directed": true,
         "end": 36,
         "id": 48,
         "label": "",
         "properties": {
          "pos": "\"e,3023.9,539.4 3187.2,576.85 3141.1,566.26 3081.7,552.65 3033.7,541.64\""
         },
         "start": 33,
         "thickness_factor": 1
        },
        {
         "color": "#094c4b",
         "directed": true,
         "end": 37,
         "id": 49,
         "label": "",
         "properties": {
          "pos": "\"e,3500.9,539.4 3337.1,576.85 3383.4,566.26 3442.9,552.65 3491.1,541.64\""
         },
         "start": 33,
         "thickness_factor": 1
        },
        {
         "color": "#094c4b",
         "directed": true,
         "end": 38,
         "id": 50,
         "label": "",
         "properties": {
          "pos": "\"e,4059.8,535.63 3435.4,581.31 3607.3,568.74 3870.2,549.5 4049.7,536.37\""
         },
         "start": 33,
         "thickness_factor": 1
        },
        {
         "color": "#094c4b",
         "directed": true,
         "end": 39,
         "id": 51,
         "label": "",
         "properties": {
          "pos": "\"e,4712.5,532.38 3474.4,585.16 3727.9,574.58 4164.4,556.25 4539,540 4591.9,537.71 4648.7,535.21 4702.5,532.82\""
         },
         "start": 33,
         "thickness_factor": 1
        },
        {
         "color": "#094c4b",
         "directed": true,
         "end": 40,
         "id": 52,
         "label": "",
         "properties": {
          "pos": "\"e,1596.3,468 1668.8,504.02 1649.6,494.48 1625.8,482.67 1605.4,472.53\""
         },
         "start": 34,
         "thickness_factor": 1
        },
        {
         "color": "#094c4b",
         "directed": true,
         "end": 41,
         "id": 53,
         "label": "",
         "properties": {
          "pos": "\"e,2267.2,468.16 2314.8,503.83 2302.9,494.88 2288.3,483.96 2275.4,474.3\""
         },
         "start": 35,
         "thickness_factor": 1
        },
        {
         "color": "#094c4b",
         "directed": true,
         "end": 42,
         "id": 54,
         "label": "",
         "properties": {
          "pos": "\"e,2930.9,468.41 2942.2,503.83 2939.7,496.05 2936.8,486.77 2934,478.13\""
         },
         "start": 36,
         "thickness_factor": 1
        },
        {
         "color": "#094c4b",
         "directed": true,
         "end": 43,
         "id": 55,
         "label": "",
         "properties": {
          "pos": "\"e,3594.1,468.41 3582.8,503.83 3585.3,496.05 3588.3,486.77 3591,478.13\""
         },
         "start": 37,
         "thickness_factor": 1
        },
        {
         "color": "#094c4b",
         "directed": true,
         "end": 44,
         "id": 56,
         "label": "",
         "properties": {
          "pos": "\"e,5012.1,468.16 4967,503.83 4978.2,494.96 4991.8,484.16 5004,474.57\""
         },
         "start": 39,
         "thickness_factor": 1
        },
        {
         "color": "#094c4b",
         "directed": true,
         "end": 45,
         "id": 57,
         "label": "",
         "properties": {
          "pos": "\"e,1504.7,396.16 1541.4,431.83 1532.5,423.22 1521.8,412.79 1512.1,403.4\""
         },
         "start": 40,
         "thickness_factor": 1
        },
        {
         "color": "#094c4b",
         "directed": true,
         "end": 46,
         "id": 58,
         "label": "",
         "properties": {
          "pos": "\"e,2207.3,396.41 2230.9,431.83 2225.5,423.71 2219,413.96 2213,405.01\""
         },
         "start": 41,
         "thickness_factor": 1
        },
        {
         "color": "#094c4b",
         "directed": true,
         "end": 47,
         "id": 59,
         "label": "",
         "properties": {
          "pos": "\"e,2922.1,396.41 2924,431.83 2923.6,424.13 2923.1,414.97 2922.6,406.42\""
         },
         "start": 42,
         "thickness_factor": 1
        },
        {
         "color": "#094c4b",
         "directed": true,
         "end": 48,
         "id": 60,
         "label": "",
         "properties": {
          "pos": "\"e,3625.3,396.41 3608.6,431.83 3612.4,423.88 3616.9,414.37 3621,405.57\""
         },
         "start": 43,
         "thickness_factor": 1
        },
        {
         "color": "#094c4b",
         "directed": true,
         "end": 49,
         "id": 61,
         "label": "",
         "properties": {
          "pos": "\"e,1439.9,324.41 1470.4,359.83 1463.2,351.45 1454.5,341.35 1446.6,332.17\""
         },
         "start": 45,
         "thickness_factor": 1
        },
        {
         "color": "#094c4b",
         "directed": true,
         "end": 54,
         "id": 62,
         "label": "",
         "properties": {
          "pos": "\"e,2177.2,324.41 2189,359.83 2186.4,352.05 2183.3,342.77 2180.4,334.13\""
         },
         "start": 46,
         "thickness_factor": 1
        },
        {
         "color": "#094c4b",
         "directed": true,
         "end": 52,
         "id": 63,
         "label": "",
         "properties": {
          "pos": "\"e,3637.7,324.41 3635.3,359.83 3635.8,352.13 3636.5,342.97 3637.1,334.42\""
         },
         "start": 48,
         "thickness_factor": 1
        },
        {
         "color": "#094c4b",
         "directed": true,
         "end": 68,
         "id": 64,
         "label": "",
         "properties": {
          "pos": "\"e,2702,1620.4 2702,1655.8 2702,1648.1 2702,1639 2702,1630.4\""
         },
         "start": 50,
         "thickness_factor": 1
        },
        {
         "color": "#094c4b",
         "directed": true,
         "end": 58,
         "id": 65,
         "label": "",
         "properties": {
          "pos": "\"e,3204,1620.4 3204,1655.8 3204,1648.1 3204,1639 3204,1630.4\""
         },
         "start": 51,
         "thickness_factor": 1
        },
        {
         "color": "#094c4b",
         "directed": true,
         "end": 56,
         "id": 66,
         "label": "",
         "properties": {
          "pos": "\"e,633.06,1689.4 355.58,1729.9 435.09,1718.3 542.08,1702.7 622.85,1690.9\""
         },
         "start": 55,
         "thickness_factor": 1
        },
        {
         "color": "#094c4b",
         "directed": true,
         "end": 66,
         "id": 67,
         "label": "",
         "properties": {
          "pos": "\"e,739.03,1692.4 739.03,1727.8 739.03,1720.1 739.03,1711 739.03,1702.4\""
         },
         "start": 56,
         "thickness_factor": 1
        },
        {
         "color": "#094c4b",
         "directed": true,
         "end": 58,
         "id": 68,
         "label": "",
         "properties": {
          "pos": "\"e,3201.2,1692.4 3195.8,1727.8 3197,1720.1 3198.4,1711 3199.7,1702.4\""
         },
         "start": 57,
         "thickness_factor": 1
        },
        {
         "color": "#094c4b",
         "directed": true,
         "end": 67,
         "id": 69,
         "label": "",
         "properties": {
          "pos": "\"e,3308.8,1689.5 3580.2,1729.8 3502.4,1718.3 3397.9,1702.8 3318.8,1691\""
         },
         "start": 58,
         "thickness_factor": 1
        },
        {
         "color": "#094c4b",
         "directed": true,
         "end": 64,
         "id": 70,
         "label": "",
         "properties": {
          "pos": "\"e,1729,2052.4 1729,2087.8 1729,2080.1 1729,2071 1729,2062.4\""
         },
         "start": 59,
         "thickness_factor": 1
        },
        {
         "color": "#094c4b",
         "directed": true,
         "end": 61,
         "id": 71,
         "label": "",
         "properties": {
          "pos": "\"e,5193,1692.4 5193,1727.8 5193,1720.1 5193,1711 5193,1702.4\""
         },
         "start": 60,
         "thickness_factor": 1
        },
        {
         "color": "#094c4b",
         "directed": true,
         "end": 62,
         "id": 72,
         "label": "",
         "properties": {
          "pos": "\"e,4911.2,1618.9 5109.1,1657.6 5053.1,1646.6 4979.4,1632.2 4921.1,1620.8\""
         },
         "start": 61,
         "thickness_factor": 1
        },
        {
         "color": "#094c4b",
         "directed": true,
         "end": 65,
         "id": 73,
         "label": "",
         "properties": {
          "pos": "\"e,5299,1689.4 5578.8,1730.1 5498.9,1718.5 5390.8,1702.8 5309.3,1690.9\""
         },
         "start": 61,
         "thickness_factor": 1
        },
        {
         "color": "#094c4b",
         "directed": true,
         "end": 70,
         "id": 74,
         "label": "",
         "properties": {
          "pos": "\"e,2598.6,1689.5 2329,1729.8 2406.3,1718.3 2510.1,1702.7 2588.6,1691\""
         },
         "start": 68,
         "thickness_factor": 1
        },
        {
         "color": "#094c4b",
         "directed": true,
         "end": 71,
         "id": 75,
         "label": "",
         "properties": {
          "pos": "\"e,2705.1,1692.4 2711,1727.8 2709.7,1720.1 2708.2,1711 2706.8,1702.4\""
         },
         "start": 68,
         "thickness_factor": 1
        }
       ],
       "_graph_layout": {},
       "_highlight": [],
       "_model_module": "yfiles-jupyter-graphs",
       "_model_module_version": "^1.4.6",
       "_model_name": "GraphModel",
       "_neighborhood": {},
       "_nodes": [
        {
         "color": "#17bebb",
         "id": 0,
         "label": "Extract sample from Alloy (composition AAB16 with VAM in batch A): Traveler,  f82",
         "position": [
          0,
          0
         ],
         "properties": {
          "color": "red",
          "height": "0.5",
          "label": "Extract sample from Alloy (composition AAB16 with VAM in batch A): Traveler,  f82",
          "pos": "\"4308,450\"",
          "width": "8.8645"
         },
         "scale_factor": 1,
         "styles": {},
         "type": null
        },
        {
         "color": "#17bebb",
         "id": 1,
         "label": "Alloy (composition AAB16 with VAM in batch A): Traveler Sample (Tensile, Average),  746",
         "position": [
          0,
          0
         ],
         "properties": {
          "color": "green",
          "height": "0.5",
          "label": "Alloy (composition AAB16 with VAM in batch A): Traveler Sample (Tensile, Average),  746",
          "pos": "\"4359,378\"",
          "width": "9.4603"
         },
         "scale_factor": 1,
         "styles": {},
         "type": null
        },
        {
         "color": "#17bebb",
         "id": 2,
         "label": "Alloy (composition AAB16 with VAM in batch A): Traveler Sample (Tensile, Average) Ingredient,  685",
         "position": [
          0,
          0
         ],
         "properties": {
          "color": "blue",
          "height": "0.5",
          "label": "Alloy (composition AAB16 with VAM in batch A): Traveler Sample (Tensile, Average) Ingredient,  685",
          "pos": "\"4386,306\"",
          "width": "10.525"
         },
         "scale_factor": 1,
         "styles": {},
         "type": null
        },
        {
         "color": "#17bebb",
         "id": 3,
         "label": "Aggregate summary sheet,  8a6",
         "position": [
          0,
          0
         ],
         "properties": {
          "color": "red",
          "height": "0.5",
          "label": "Aggregate summary sheet,  8a6",
          "pos": "\"3276,234\"",
          "width": "3.4483"
         },
         "scale_factor": 1,
         "styles": {},
         "type": null
        },
        {
         "color": "#17bebb",
         "id": 4,
         "label": "Weighting Al for composition AAB16 with VAM in batch A,  973",
         "position": [
          0,
          0
         ],
         "properties": {
          "\"Mass Loss\"": "\"Mass Loss, 0.0 gram\"",
          "\"Weighed Mass\"": "\"Weighed Mass, 2.2652 gram\"",
          "color": "purple",
          "height": "0.5",
          "label": "Weighting Al for composition AAB16 with VAM in batch A,  973",
          "pos": "\"1235,1746\"",
          "tags": "\"{0: 'composition_id::AAB16', 1: 'batch::A', 2: 'fabrication_method::VAM'}\"",
          "width": "6.8605"
         },
         "scale_factor": 1,
         "styles": {},
         "type": null
        },
        {
         "color": "#17bebb",
         "id": 5,
         "label": "Al in composition AAB16 with VAM in batch A,  ba6",
         "position": [
          0,
          0
         ],
         "properties": {
          "color": "green",
          "height": "0.5",
          "label": "Al in composition AAB16 with VAM in batch A,  ba6",
          "pos": "\"1729,1674\"",
          "tags": "\"{0: 'composition_id::AAB16', 1: 'batch::A', 2: 'fabrication_method::VAM'}\"",
          "width": "5.687"
         },
         "scale_factor": 1,
         "styles": {},
         "type": null
        },
        {
         "color": "#17bebb",
         "id": 6,
         "label": "Al in composition AAB16 with VAM in batch A Ingredient,  699",
         "position": [
          0,
          0
         ],
         "properties": {
          "color": "blue",
          "height": "0.5",
          "label": "Al in composition AAB16 with VAM in batch A Ingredient,  699",
          "pos": "\"1970,1602\"",
          "width": "6.7702"
         },
         "scale_factor": 1,
         "styles": {},
         "type": null
        },
        {
         "color": "#17bebb",
         "id": 7,
         "label": "Mixing individual elements of composition AAB16 with VAM in batch A,  665",
         "position": [
          0,
          0
         ],
         "properties": {
          "color": "red",
          "height": "0.5",
          "label": "Mixing individual elements of composition AAB16 with VAM in batch A,  665",
          "pos": "\"2953,1530\"",
          "tags": "\"{0: 'composition_id::AAB16', 1: 'batch::A', 2: 'fabrication_method::VAM'}\"",
          "width": "8.1965"
         },
         "scale_factor": 1,
         "styles": {},
         "type": null
        },
        {
         "color": "#17bebb",
         "id": 8,
         "label": "Select composition AAB16 with VAM in batch A,  135",
         "position": [
          0,
          0
         ],
         "properties": {
          "color": "red",
          "file_links": "\"{0: '/srv/hemi01-j01/htmdec/birdshot/data/AAB/VAM/A/AAB16/T01', 1: '/srv/hemi01-j01/htmdec/birdshot/data/AAB/VAM/A/AAB16/T01/T06'}\"",
          "height": "0.5",
          "label": "Select composition AAB16 with VAM in batch A,  135",
          "pos": "\"1729,1962\"",
          "tags": "\"{0: 'composition_id::AAB16', 1: 'batch::A', 2: 'fabrication_method::VAM', 3: 'Co::5', 4: 'Cr::0', 5: 'Fe::15', 6: 'Ni::65', 7: '\\\nV::0', 8: 'Al::15'}\"",
          "width": "5.7953"
         },
         "scale_factor": 1,
         "styles": {},
         "type": null
        },
        {
         "color": "#17bebb",
         "id": 9,
         "label": "composition AAB16 with VAM in batch A,  ed0",
         "position": [
          0,
          0
         ],
         "properties": {
          "color": "green",
          "file_links": "\"{0: '/srv/hemi01-j01/htmdec/birdshot/data/AAB/VAM/A/AAB16/T01', 1: '/srv/hemi01-j01/htmdec/birdshot/data/AAB/VAM/A/AAB16/T01/T06'}\"",
          "height": "0.5",
          "label": "composition AAB16 with VAM in batch A,  ed0",
          "pos": "\"1729,1890\"",
          "tags": "\"{0: 'composition_id::AAB16', 1: 'batch::A', 2: 'fabrication_method::VAM', 3: 'Co::5', 4: 'Cr::0', 5: 'Fe::15', 6: 'Ni::65', 7: '\\\nV::0', 8: 'Al::15'}\"",
          "width": "5.1273"
         },
         "scale_factor": 1,
         "styles": {},
         "type": null
        },
        {
         "color": "#17bebb",
         "id": 10,
         "label": "composition AAB16 with VAM in batch A Ingredient,  f78",
         "position": [
          0,
          0
         ],
         "properties": {
          "color": "blue",
          "height": "0.5",
          "label": "composition AAB16 with VAM in batch A Ingredient,  f78",
          "pos": "\"1729,1818\"",
          "width": "6.1564"
         },
         "scale_factor": 1,
         "styles": {},
         "type": null
        },
        {
         "color": "#17bebb",
         "id": 11,
         "label": "Aggregating composition AAB16 with VAM in batch A,  fb1",
         "position": [
          0,
          0
         ],
         "properties": {
          "color": "red",
          "height": "0.5",
          "label": "Aggregating composition AAB16 with VAM in batch A,  fb1",
          "pos": "\"1729,1746\"",
          "tags": "\"{0: 'composition_id::AAB16', 1: 'batch::A', 2: 'fabrication_method::VAM'}\"",
          "width": "6.373"
         },
         "scale_factor": 1,
         "styles": {},
         "type": null
        },
        {
         "color": "#17bebb",
         "id": 12,
         "label": "Alloy (composition AAB16 with VAM in batch A): Traveler Sample (XRD, T03) Ingredient,  bb9",
         "position": [
          0,
          0
         ],
         "properties": {
          "color": "blue",
          "height": "0.5",
          "label": "Alloy (composition AAB16 with VAM in batch A): Traveler Sample (XRD, T03) Ingredient,  bb9",
          "pos": "\"2913,306\"",
          "width": "9.9658"
         },
         "scale_factor": 1,
         "styles": {},
         "type": null
        },
        {
         "color": "#17bebb",
         "id": 13,
         "label": "Summary sheet,  d6b",
         "position": [
          0,
          0
         ],
         "properties": {
          "color": "green",
          "height": "0.5",
          "label": "Summary sheet,  d6b",
          "pos": "\"3276,162\"",
          "width": "2.4192"
         },
         "scale_factor": 1,
         "styles": {},
         "type": null
        },
        {
         "color": "#17bebb",
         "id": 14,
         "label": "Summary sheet Ingredient,  393",
         "position": [
          0,
          0
         ],
         "properties": {
          "color": "blue",
          "height": "0.5",
          "label": "Summary sheet Ingredient,  393",
          "pos": "\"3276,90\"",
          "width": "3.4844"
         },
         "scale_factor": 1,
         "styles": {},
         "type": null
        },
        {
         "color": "#17bebb",
         "id": 15,
         "label": "Weighting Co for composition AAB16 with VAM in batch A,  4ec",
         "position": [
          0,
          0
         ],
         "properties": {
          "\"Mass Loss\"": "\"Mass Loss, 0.0 gram\"",
          "\"Weighed Mass\"": "\"Weighed Mass, 1.6539 gram\"",
          "color": "purple",
          "height": "0.5",
          "label": "Weighting Co for composition AAB16 with VAM in batch A,  4ec",
          "pos": "\"4202,1746\"",
          "tags": "\"{0: 'composition_id::AAB16', 1: 'batch::A', 2: 'fabrication_method::VAM'}\"",
          "width": "6.8786"
         },
         "scale_factor": 1,
         "styles": {},
         "type": null
        },
        {
         "color": "#17bebb",
         "id": 16,
         "label": "Co in composition AAB16 with VAM in batch A,  bc3",
         "position": [
          0,
          0
         ],
         "properties": {
          "color": "green",
          "height": "0.5",
          "label": "Co in composition AAB16 with VAM in batch A,  bc3",
          "pos": "\"4202,1674\"",
          "tags": "\"{0: 'composition_id::AAB16', 1: 'batch::A', 2: 'fabrication_method::VAM'}\"",
          "width": "5.7231"
         },
         "scale_factor": 1,
         "styles": {},
         "type": null
        },
        {
         "color": "#17bebb",
         "id": 17,
         "label": "Co in composition AAB16 with VAM in batch A Ingredient,  ca1",
         "position": [
          0,
          0
         ],
         "properties": {
          "color": "blue",
          "height": "0.5",
          "label": "Co in composition AAB16 with VAM in batch A Ingredient,  ca1",
          "pos": "\"3950,1602\"",
          "width": "6.7883"
         },
         "scale_factor": 1,
         "styles": {},
         "type": null
        },
        {
         "color": "#17bebb",
         "id": 18,
         "label": "Arc Melted Alloy (composition AAB16 with VAM in batch A),  ee7",
         "position": [
          0,
          0
         ],
         "properties": {
          "color": "green",
          "height": "0.5",
          "label": "Arc Melted Alloy (composition AAB16 with VAM in batch A),  ee7",
          "pos": "\"3262,1242\"",
          "tags": "\"{0: 'composition_id::AAB16', 1: 'batch::A', 2: 'fabrication_method::VAM'}\"",
          "width": "7.0771"
         },
         "scale_factor": 1,
         "styles": {},
         "type": null
        },
        {
         "color": "#17bebb",
         "id": 19,
         "label": "Arc Melted Alloy (composition AAB16 with VAM in batch A) Ingredient,  007",
         "position": [
          0,
          0
         ],
         "properties": {
          "color": "blue",
          "height": "0.5",
          "label": "Arc Melted Alloy (composition AAB16 with VAM in batch A) Ingredient,  007",
          "pos": "\"3262,1170\"",
          "width": "8.1604"
         },
         "scale_factor": 1,
         "styles": {},
         "type": null
        },
        {
         "color": "#17bebb",
         "id": 20,
         "label": "Homogenizing Alloy (composition AAB16 with VAM in batch A),  e69",
         "position": [
          0,
          0
         ],
         "properties": {
          "\"Cooling Rate\"": "\"Cooling Rate, FC\"",
          "\"Purging Sequence 1 Pressure\"": "\"Purging Sequence 1 Pressure, 4.2e-05 pascal\"",
          "\"Purging Sequence 2 Pressure\"": "\"Purging Sequence 2 Pressure, 3.2e-05 pascal\"",
          "\"Purging Sequence 3 Pressure\"": "\"Purging Sequence 3 Pressure, 2.1e-05 pascal\"",
          "\"Purging Sequence 4 Pressure\"": "\"Purging Sequence 4 Pressure, 2.1e-05 pascal\"",
          "Atmosphere": "\"Atmosphere, Ar\"",
          "Duration": "\"Duration, 24.0 hour\"",
          "Pressure": "\"Pressure, 5.0 pascal\"",
          "Temperature": "\"Temperature, 1150.0 kelvin\"",
          "color": "red",
          "height": "0.5",
          "label": "Homogenizing Alloy (composition AAB16 with VAM in batch A),  e69",
          "pos": "\"3262,1098\"",
          "tags": "\"{0: 'composition_id::AAB16', 1: 'batch::A', 2: 'fabrication_method::VAM', 3: 'start_date::2022-11-05', 4: 'finish_date::2022-11-09', \\\n5: 'time_spent::6'}\"",
          "width": "7.4021"
         },
         "scale_factor": 1,
         "styles": {},
         "type": null
        },
        {
         "color": "#17bebb",
         "id": 21,
         "label": "Homogenized Alloy (composition AAB16 with VAM in batch A),  838",
         "position": [
          0,
          0
         ],
         "properties": {
          "color": "green",
          "height": "0.5",
          "label": "Homogenized Alloy (composition AAB16 with VAM in batch A),  838",
          "pos": "\"3262,1026\"",
          "tags": "\"{0: 'composition_id::AAB16', 1: 'batch::A', 2: 'fabrication_method::VAM'}\"",
          "width": "7.3299"
         },
         "scale_factor": 1,
         "styles": {},
         "type": null
        },
        {
         "color": "#17bebb",
         "id": 22,
         "label": "Fe in composition AAB16 with VAM in batch A Ingredient,  cdb",
         "position": [
          0,
          0
         ],
         "properties": {
          "color": "blue",
          "height": "0.5",
          "label": "Fe in composition AAB16 with VAM in batch A Ingredient,  cdb",
          "pos": "\"993.03,1602\"",
          "width": "6.7522"
         },
         "scale_factor": 1,
         "styles": {},
         "type": null
        },
        {
         "color": "#17bebb",
         "id": 23,
         "label": "Alloy (composition AAB16 with VAM in batch A),  6a7",
         "position": [
          0,
          0
         ],
         "properties": {
          "color": "green",
          "height": "0.5",
          "label": "Alloy (composition AAB16 with VAM in batch A),  6a7",
          "pos": "\"2953,1458\"",
          "tags": "\"{0: 'composition_id::AAB16', 1: 'batch::A', 2: 'fabrication_method::VAM'}\"",
          "width": "5.8856"
         },
         "scale_factor": 1,
         "styles": {},
         "type": null
        },
        {
         "color": "#17bebb",
         "id": 24,
         "label": "Alloy (composition AAB16 with VAM in batch A) Ingredient,  f20",
         "position": [
          0,
          0
         ],
         "properties": {
          "color": "blue",
          "height": "0.5",
          "label": "Alloy (composition AAB16 with VAM in batch A) Ingredient,  f20",
          "pos": "\"2953,1386\"",
          "width": "6.9147"
         },
         "scale_factor": 1,
         "styles": {},
         "type": null
        },
        {
         "color": "#17bebb",
         "id": 25,
         "label": "Alloy (composition AAB16 with VAM in batch A): Traveler Sample (SEM, T02),  875",
         "position": [
          0,
          0
         ],
         "properties": {
          "color": "green",
          "height": "0.5",
          "label": "Alloy (composition AAB16 with VAM in batch A): Traveler Sample (SEM, T02),  875",
          "pos": "\"5104,378\"",
          "width": "8.9006"
         },
         "scale_factor": 1,
         "styles": {},
         "type": null
        },
        {
         "color": "#17bebb",
         "id": 26,
         "label": "Alloy (composition AAB16 with VAM in batch A): Traveler Sample (SEM, T02) Ingredient,  6b6",
         "position": [
          0,
          0
         ],
         "properties": {
          "color": "blue",
          "height": "0.5",
          "label": "Alloy (composition AAB16 with VAM in batch A): Traveler Sample (SEM, T02) Ingredient,  6b6",
          "pos": "\"5142,306\"",
          "width": "9.9658"
         },
         "scale_factor": 1,
         "styles": {},
         "type": null
        },
        {
         "color": "#17bebb",
         "id": 27,
         "label": "Infer compositions using Bayesian Optimizations,  bfd",
         "position": [
          0,
          0
         ],
         "properties": {
          "color": "red",
          "height": "0.5",
          "label": "Infer compositions using Bayesian Optimizations,  bfd",
          "pos": "\"3276,18\"",
          "width": "5.6509"
         },
         "scale_factor": 1,
         "styles": {},
         "type": null
        },
        {
         "color": "#17bebb",
         "id": 28,
         "label": "Homogenized Alloy (composition AAB16 with VAM in batch A) Ingredient,  e09",
         "position": [
          0,
          0
         ],
         "properties": {
          "color": "blue",
          "height": "0.5",
          "label": "Homogenized Alloy (composition AAB16 with VAM in batch A) Ingredient,  e09",
          "pos": "\"3262,954\"",
          "width": "8.377"
         },
         "scale_factor": 1,
         "styles": {},
         "type": null
        },
        {
         "color": "#17bebb",
         "id": 29,
         "label": "Forging Alloy (composition AAB16 with VAM in batch A),  673",
         "position": [
          0,
          0
         ],
         "properties": {
          "\"Maximum Load Step\"": "\"Maximum Load Step, 85.32 pascal\"",
          "\"Press Temperature\"": "\"Press Temperature, 398.0 kelvin\"",
          "\"Soak Time\"": "\"Soak Time, 30.0 minute\"",
          "Temperature": "\"Temperature, 1150.0 kelvin\"",
          "color": "red",
          "height": "0.5",
          "label": "Forging Alloy (composition AAB16 with VAM in batch A),  673",
          "pos": "\"3262,882\"",
          "tags": "\"{0: 'composition_id::AAB16', 1: 'batch::A', 2: 'fabrication_method::VAM', 3: 'start_date::2022-11-08', 4: 'finish_date::2022-11-09', \\\n5: 'time_spent::7'}\"",
          "width": "6.7341"
         },
         "scale_factor": 1,
         "styles": {},
         "type": null
        },
        {
         "color": "#17bebb",
         "id": 30,
         "label": "Forged Alloy (composition AAB16 with VAM in batch A),  59f",
         "position": [
          0,
          0
         ],
         "properties": {
          "color": "green",
          "height": "0.5",
          "label": "Forged Alloy (composition AAB16 with VAM in batch A),  59f",
          "pos": "\"3262,810\"",
          "tags": "\"{0: 'composition_id::AAB16', 1: 'batch::A', 2: 'fabrication_method::VAM'}\"",
          "width": "6.5897"
         },
         "scale_factor": 1,
         "styles": {},
         "type": null
        },
        {
         "color": "#17bebb",
         "id": 31,
         "label": "Forged Alloy (composition AAB16 with VAM in batch A) Ingredient,  944",
         "position": [
          0,
          0
         ],
         "properties": {
          "color": "blue",
          "height": "0.5",
          "label": "Forged Alloy (composition AAB16 with VAM in batch A) Ingredient,  944",
          "pos": "\"3262,738\"",
          "width": "7.709"
         },
         "scale_factor": 1,
         "styles": {},
         "type": null
        },
        {
         "color": "#17bebb",
         "id": 32,
         "label": "Setting traveler for Alloy (composition AAB16 with VAM in batch A),  e11",
         "position": [
          0,
          0
         ],
         "properties": {
          "color": "red",
          "height": "0.5",
          "label": "Setting traveler for Alloy (composition AAB16 with VAM in batch A),  e11",
          "pos": "\"3262,666\"",
          "tags": "\"{0: 'composition_id::AAB16', 1: 'batch::A', 2: 'fabrication_method::VAM'}\"",
          "width": "7.7632"
         },
         "scale_factor": 1,
         "styles": {},
         "type": null
        },
        {
         "color": "#17bebb",
         "id": 33,
         "label": "Alloy (composition AAB16 with VAM in batch A): Traveler,  a0c",
         "position": [
          0,
          0
         ],
         "properties": {
          "color": "green",
          "height": "0.5",
          "label": "Alloy (composition AAB16 with VAM in batch A): Traveler,  a0c",
          "pos": "\"3262,594\"",
          "tags": "\"{0: 'composition_id::AAB16', 1: 'batch::A', 2: 'fabrication_method::VAM'}\"",
          "width": "6.7702"
         },
         "scale_factor": 1,
         "styles": {},
         "type": null
        },
        {
         "color": "#17bebb",
         "id": 34,
         "label": "Alloy (composition AAB16 with VAM in batch A): Traveler Ingredient,  109",
         "position": [
          0,
          0
         ],
         "properties": {
          "color": "blue",
          "height": "0.5",
          "label": "Alloy (composition AAB16 with VAM in batch A): Traveler Ingredient,  109",
          "pos": "\"1705,522\"",
          "width": "7.8896"
         },
         "scale_factor": 1,
         "styles": {},
         "type": null
        },
        {
         "color": "#17bebb",
         "id": 35,
         "label": "Alloy (composition AAB16 with VAM in batch A): Traveler Ingredient,  4a6",
         "position": [
          0,
          0
         ],
         "properties": {
          "color": "blue",
          "height": "0.5",
          "label": "Alloy (composition AAB16 with VAM in batch A): Traveler Ingredient,  4a6",
          "pos": "\"2339,522\"",
          "width": "7.8715"
         },
         "scale_factor": 1,
         "styles": {},
         "type": null
        },
        {
         "color": "#17bebb",
         "id": 36,
         "label": "Alloy (composition AAB16 with VAM in batch A): Traveler Ingredient,  ae7",
         "position": [
          0,
          0
         ],
         "properties": {
          "color": "blue",
          "height": "0.5",
          "label": "Alloy (composition AAB16 with VAM in batch A): Traveler Ingredient,  ae7",
          "pos": "\"2948,522\"",
          "width": "7.8535"
         },
         "scale_factor": 1,
         "styles": {},
         "type": null
        },
        {
         "color": "#17bebb",
         "id": 37,
         "label": "Alloy (composition AAB16 with VAM in batch A): Traveler Ingredient,  8ac",
         "position": [
          0,
          0
         ],
         "properties": {
          "color": "blue",
          "height": "0.5",
          "label": "Alloy (composition AAB16 with VAM in batch A): Traveler Ingredient,  8ac",
          "pos": "\"3577,522\"",
          "width": "7.8535"
         },
         "scale_factor": 1,
         "styles": {},
         "type": null
        },
        {
         "color": "#17bebb",
         "id": 38,
         "label": "Alloy (composition AAB16 with VAM in batch A): Traveler Ingredient,  260",
         "position": [
          0,
          0
         ],
         "properties": {
          "color": "blue",
          "height": "0.5",
          "label": "Alloy (composition AAB16 with VAM in batch A): Traveler Ingredient,  260",
          "pos": "\"4246,522\"",
          "width": "7.8896"
         },
         "scale_factor": 1,
         "styles": {},
         "type": null
        },
        {
         "color": "#17bebb",
         "id": 39,
         "label": "Alloy (composition AAB16 with VAM in batch A): Traveler Ingredient,  9c0",
         "position": [
          0,
          0
         ],
         "properties": {
          "color": "blue",
          "height": "0.5",
          "label": "Alloy (composition AAB16 with VAM in batch A): Traveler Ingredient,  9c0",
          "pos": "\"4944,522\"",
          "width": "7.8715"
         },
         "scale_factor": 1,
         "styles": {},
         "type": null
        },
        {
         "color": "#17bebb",
         "id": 40,
         "label": "Extract sample from Alloy (composition AAB16 with VAM in batch A): Traveler,  688",
         "position": [
          0,
          0
         ],
         "properties": {
          "color": "red",
          "height": "0.5",
          "label": "Extract sample from Alloy (composition AAB16 with VAM in batch A): Traveler,  688",
          "pos": "\"1560,450\"",
          "width": "8.9006"
         },
         "scale_factor": 1,
         "styles": {},
         "type": null
        },
        {
         "color": "#17bebb",
         "id": 41,
         "label": "Extract sample from Alloy (composition AAB16 with VAM in batch A): Traveler,  7c8",
         "position": [
          0,
          0
         ],
         "properties": {
          "color": "red",
          "height": "0.5",
          "label": "Extract sample from Alloy (composition AAB16 with VAM in batch A): Traveler,  7c8",
          "pos": "\"2243,450\"",
          "width": "8.8825"
         },
         "scale_factor": 1,
         "styles": {},
         "type": null
        },
        {
         "color": "#17bebb",
         "id": 42,
         "label": "Extract sample from Alloy (composition AAB16 with VAM in batch A): Traveler,  819",
         "position": [
          0,
          0
         ],
         "properties": {
          "color": "red",
          "height": "0.5",
          "label": "Extract sample from Alloy (composition AAB16 with VAM in batch A): Traveler,  819",
          "pos": "\"2925,450\"",
          "width": "8.9006"
         },
         "scale_factor": 1,
         "styles": {},
         "type": null
        },
        {
         "color": "#17bebb",
         "id": 43,
         "label": "Extract sample from Alloy (composition AAB16 with VAM in batch A): Traveler,  10e",
         "position": [
          0,
          0
         ],
         "properties": {
          "color": "red",
          "height": "0.5",
          "label": "Extract sample from Alloy (composition AAB16 with VAM in batch A): Traveler,  10e",
          "pos": "\"3600,450\"",
          "width": "8.8825"
         },
         "scale_factor": 1,
         "styles": {},
         "type": null
        },
        {
         "color": "#17bebb",
         "id": 44,
         "label": "Extract sample from Alloy (composition AAB16 with VAM in batch A): Traveler,  d46",
         "position": [
          0,
          0
         ],
         "properties": {
          "color": "red",
          "height": "0.5",
          "label": "Extract sample from Alloy (composition AAB16 with VAM in batch A): Traveler,  d46",
          "pos": "\"5035,450\"",
          "width": "8.9006"
         },
         "scale_factor": 1,
         "styles": {},
         "type": null
        },
        {
         "color": "#17bebb",
         "id": 45,
         "label": "Alloy (composition AAB16 with VAM in batch A): Traveler Sample (Tensile, T09),  2db",
         "position": [
          0,
          0
         ],
         "properties": {
          "color": "green",
          "height": "0.5",
          "label": "Alloy (composition AAB16 with VAM in batch A): Traveler Sample (Tensile, T09),  2db",
          "pos": "\"1486,378\"",
          "width": "9.0811"
         },
         "scale_factor": 1,
         "styles": {},
         "type": null
        },
        {
         "color": "#17bebb",
         "id": 46,
         "label": "Alloy (composition AAB16 with VAM in batch A): Traveler Sample (Tensile, T08),  53d",
         "position": [
          0,
          0
         ],
         "properties": {
          "color": "green",
          "height": "0.5",
          "label": "Alloy (composition AAB16 with VAM in batch A): Traveler Sample (Tensile, T08),  53d",
          "pos": "\"2195,378\"",
          "width": "9.0811"
         },
         "scale_factor": 1,
         "styles": {},
         "type": null
        },
        {
         "color": "#17bebb",
         "id": 47,
         "label": "Alloy (composition AAB16 with VAM in batch A): Traveler Sample (XRD, T03),  157",
         "position": [
          0,
          0
         ],
         "properties": {
          "color": "green",
          "height": "0.5",
          "label": "Alloy (composition AAB16 with VAM in batch A): Traveler Sample (XRD, T03),  157",
          "pos": "\"2921,378\"",
          "width": "8.9006"
         },
         "scale_factor": 1,
         "styles": {},
         "type": null
        },
        {
         "color": "#17bebb",
         "id": 48,
         "label": "Alloy (composition AAB16 with VAM in batch A): Traveler Sample (NI, T04),  80a",
         "position": [
          0,
          0
         ],
         "properties": {
          "color": "green",
          "height": "0.5",
          "label": "Alloy (composition AAB16 with VAM in batch A): Traveler Sample (NI, T04),  80a",
          "pos": "\"3634,378\"",
          "width": "8.6298"
         },
         "scale_factor": 1,
         "styles": {},
         "type": null
        },
        {
         "color": "#17bebb",
         "id": 49,
         "label": "Alloy (composition AAB16 with VAM in batch A): Traveler Sample (Tensile, T09) Ingredient,  6ea",
         "position": [
          0,
          0
         ],
         "properties": {
          "color": "blue",
          "height": "0.5",
          "label": "Alloy (composition AAB16 with VAM in batch A): Traveler Sample (Tensile, T09) Ingredient,  6ea",
          "pos": "\"1424,306\"",
          "width": "10.11"
         },
         "scale_factor": 1,
         "styles": {},
         "type": null
        },
        {
         "color": "#17bebb",
         "id": 50,
         "label": "V in composition AAB16 with VAM in batch A Ingredient,  a26",
         "position": [
          0,
          0
         ],
         "properties": {
          "color": "blue",
          "height": "0.5",
          "label": "V in composition AAB16 with VAM in batch A Ingredient,  a26",
          "pos": "\"2702,1602\"",
          "width": "6.698"
         },
         "scale_factor": 1,
         "styles": {},
         "type": null
        },
        {
         "color": "#17bebb",
         "id": 51,
         "label": "Cr in composition AAB16 with VAM in batch A Ingredient,  be6",
         "position": [
          0,
          0
         ],
         "properties": {
          "color": "blue",
          "height": "0.5",
          "label": "Cr in composition AAB16 with VAM in batch A Ingredient,  be6",
          "pos": "\"3204,1602\"",
          "width": "6.7522"
         },
         "scale_factor": 1,
         "styles": {},
         "type": null
        },
        {
         "color": "#17bebb",
         "id": 52,
         "label": "Alloy (composition AAB16 with VAM in batch A): Traveler Sample (NI, T04) Ingredient,  bdb",
         "position": [
          0,
          0
         ],
         "properties": {
          "color": "blue",
          "height": "0.5",
          "label": "Alloy (composition AAB16 with VAM in batch A): Traveler Sample (NI, T04) Ingredient,  bdb",
          "pos": "\"3639,306\"",
          "width": "9.713"
         },
         "scale_factor": 1,
         "styles": {},
         "type": null
        },
        {
         "color": "#17bebb",
         "id": 53,
         "label": "Arc melting of Alloy (composition AAB16 with VAM in batch A),  42e",
         "position": [
          0,
          0
         ],
         "properties": {
          "\"Argon Pressure\"": "\"Argon Pressure, 850-900\"",
          "\"Ingot Location\"": "\"Ingot Location, 12.0 dimensionless\"",
          "\"Initial Purging Times\"": "\"Initial Purging Times, 3.0 hour\"",
          "\"Vacuum Before Melt\"": "\"Vacuum Before Melt, 5e-05 dimensionless\"",
          "Diffusion": "\"Diffusion, Before Each Melt\"",
          "color": "red",
          "height": "0.5",
          "label": "Arc melting of Alloy (composition AAB16 with VAM in batch A),  42e",
          "pos": "\"2953,1314\"",
          "tags": "\"{0: 'composition_id::AAB16', 1: 'batch::A', 2: 'fabrication_method::VAM', 3: 'start_date::2022-11-03', 4: 'finish_date::2022-11-05', \\\n5: 'time_spent::3', 6: 'Full Ingot::7::175', 7: 'Full Ingot::6::175', 8: 'Full Ingot::5::145', 9: 'Full Ingot::4::145', 10: 'Full \\\nIngot::3::145', 11: 'Full Ingot::2::145', 12: 'Full Ingot::1::110', 13: '3 Part Sections::3::110', 14: '3 Part Sections::2::90', \\\n15: '3 Part Sections::1::90'}\"",
          "width": "7.4021"
         },
         "scale_factor": 1,
         "styles": {},
         "type": null
        },
        {
         "color": "#17bebb",
         "id": 54,
         "label": "Alloy (composition AAB16 with VAM in batch A): Traveler Sample (Tensile, T08) Ingredient,  509",
         "position": [
          0,
          0
         ],
         "properties": {
          "color": "blue",
          "height": "0.5",
          "label": "Alloy (composition AAB16 with VAM in batch A): Traveler Sample (Tensile, T08) Ingredient,  509",
          "pos": "\"2171,306\"",
          "width": "10.146"
         },
         "scale_factor": 1,
         "styles": {},
         "type": null
        },
        {
         "color": "#17bebb",
         "id": 55,
         "label": "Weighting Fe for composition AAB16 with VAM in batch A,  8fa",
         "position": [
          0,
          0
         ],
         "properties": {
          "\"Mass Loss\"": "\"Mass Loss, 0.0 gram\"",
          "\"Weighed Mass\"": "\"Weighed Mass, 4.6979 gram\"",
          "color": "purple",
          "height": "0.5",
          "label": "Weighting Fe for composition AAB16 with VAM in batch A,  8fa",
          "pos": "\"245.03,1746\"",
          "tags": "\"{0: 'composition_id::AAB16', 1: 'batch::A', 2: 'fabrication_method::VAM'}\"",
          "width": "6.8063"
         },
         "scale_factor": 1,
         "styles": {},
         "type": null
        },
        {
         "color": "#17bebb",
         "id": 56,
         "label": "Fe in composition AAB16 with VAM in batch A,  52b",
         "position": [
          0,
          0
         ],
         "properties": {
          "color": "green",
          "height": "0.5",
          "label": "Fe in composition AAB16 with VAM in batch A,  52b",
          "pos": "\"739.03,1674\"",
          "tags": "\"{0: 'composition_id::AAB16', 1: 'batch::A', 2: 'fabrication_method::VAM'}\"",
          "width": "5.705"
         },
         "scale_factor": 1,
         "styles": {},
         "type": null
        },
        {
         "color": "#17bebb",
         "id": 57,
         "label": "Aggregating composition AAB16 with VAM in batch A,  23e",
         "position": [
          0,
          0
         ],
         "properties": {
          "color": "red",
          "height": "0.5",
          "label": "Aggregating composition AAB16 with VAM in batch A,  23e",
          "pos": "\"3193,1746\"",
          "tags": "\"{0: 'composition_id::AAB16', 1: 'batch::A', 2: 'fabrication_method::VAM'}\"",
          "width": "6.4092"
         },
         "scale_factor": 1,
         "styles": {},
         "type": null
        },
        {
         "color": "#17bebb",
         "id": 58,
         "label": "Cr in composition AAB16 with VAM in batch A,  b6e",
         "position": [
          0,
          0
         ],
         "properties": {
          "color": "green",
          "height": "0.5",
          "label": "Cr in composition AAB16 with VAM in batch A,  b6e",
          "pos": "\"3204,1674\"",
          "tags": "\"{0: 'composition_id::AAB16', 1: 'batch::A', 2: 'fabrication_method::VAM'}\"",
          "width": "5.687"
         },
         "scale_factor": 1,
         "styles": {},
         "type": null
        },
        {
         "color": "#17bebb",
         "id": 59,
         "label": "Inferred Alloy Compositions Ingredient,  7bf",
         "position": [
          0,
          0
         ],
         "properties": {
          "color": "blue",
          "height": "0.5",
          "label": "Inferred Alloy Compositions Ingredient,  7bf",
          "pos": "\"1729,2034\"",
          "width": "4.7121"
         },
         "scale_factor": 1,
         "styles": {},
         "type": null
        },
        {
         "color": "#17bebb",
         "id": 60,
         "label": "Weighting Ni for composition AAB16 with VAM in batch A,  ca6",
         "position": [
          0,
          0
         ],
         "properties": {
          "\"Mass Loss\"": "\"Mass Loss, 0.0 gram\"",
          "\"Weighed Mass\"": "\"Weighed Mass, 21.3874 gram\"",
          "color": "purple",
          "height": "0.5",
          "label": "Weighting Ni for composition AAB16 with VAM in batch A,  ca6",
          "pos": "\"5193,1746\"",
          "tags": "\"{0: 'composition_id::AAB16', 1: 'batch::A', 2: 'fabrication_method::VAM'}\"",
          "width": "6.8424"
         },
         "scale_factor": 1,
         "styles": {},
         "type": null
        },
        {
         "color": "#17bebb",
         "id": 61,
         "label": "Ni in composition AAB16 with VAM in batch A,  6f7",
         "position": [
          0,
          0
         ],
         "properties": {
          "color": "green",
          "height": "0.5",
          "label": "Ni in composition AAB16 with VAM in batch A,  6f7",
          "pos": "\"5193,1674\"",
          "tags": "\"{0: 'composition_id::AAB16', 1: 'batch::A', 2: 'fabrication_method::VAM'}\"",
          "width": "5.6689"
         },
         "scale_factor": 1,
         "styles": {},
         "type": null
        },
        {
         "color": "#17bebb",
         "id": 62,
         "label": "Ni in composition AAB16 with VAM in batch A Ingredient,  897",
         "position": [
          0,
          0
         ],
         "properties": {
          "color": "blue",
          "height": "0.5",
          "label": "Ni in composition AAB16 with VAM in batch A Ingredient,  897",
          "pos": "\"4825,1602\"",
          "width": "6.7702"
         },
         "scale_factor": 1,
         "styles": {},
         "type": null
        },
        {
         "color": "#17bebb",
         "id": 63,
         "label": "Aggregating composition AAB16 with VAM in batch A,  d6c",
         "position": [
          0,
          0
         ],
         "properties": {
          "color": "red",
          "height": "0.5",
          "label": "Aggregating composition AAB16 with VAM in batch A,  d6c",
          "pos": "\"4698,1746\"",
          "tags": "\"{0: 'composition_id::AAB16', 1: 'batch::A', 2: 'fabrication_method::VAM'}\"",
          "width": "6.4092"
         },
         "scale_factor": 1,
         "styles": {},
         "type": null
        },
        {
         "color": "#17bebb",
         "id": 64,
         "label": "Inferred Alloy Compositions,  b8b",
         "position": [
          0,
          0
         ],
         "properties": {
          "color": "green",
          "file_links": "\"{0: '/srv/hemi01-j01/htmdec/birdshot/Sample Data/Iteration2_AAB/HTMDEC AAB Summary Synthesis Results.xlsx'}\"",
          "height": "0.5",
          "label": "Inferred Alloy Compositions,  b8b",
          "pos": "\"1729,2106\"",
          "tags": "\"{0: 'AAB01::Co::50', 1: 'AAB01::Cr::10', 2: 'AAB01::Fe::15', 3: 'AAB01::Ni::15', 4: 'AAB01::V::10', 5: 'AAB01::Al::0', 6: 'AAB02::\\\nCo::5', 7: 'AAB02::Cr::0', 8: 'AAB02::Fe::75', 9: 'AAB02::Ni::20', 10: 'AAB02::V::0', 11: 'AAB02::Al::0', 12: 'AAB03::Co::25', 13: '\\\nAAB03::Cr::10', 14: 'AAB03::Fe::35', 15: 'AAB03::Ni::25', 16: 'AAB03::V::5', 17: 'AAB03::Al::0', 18: 'AAB04::Co::25', 19: 'AAB04::\\\nCr::10', 20: 'AAB04::Fe::25', 21: 'AAB04::Ni::35', 22: 'AAB04::V::5', 23: 'AAB04::Al::0', 24: 'AAB05::Co::25', 25: 'AAB05::Cr::5', \\\n26: 'AAB05::Fe::10', 27: 'AAB05::Ni::50', 28: 'AAB05::V::10', 29: 'AAB05::Al::0', 30: 'AAB06::Co::30', 31: 'AAB06::Cr::20', 32: '\\\nAAB06::Fe::5', 33: 'AAB06::Ni::40', 34: 'AAB06::V::5', 35: 'AAB06::Al::0', 36: 'AAB07::Co::40', 37: 'AAB07::Cr::15', 38: 'AAB07::\\\nFe::5', 39: 'AAB07::Ni::30', 40: 'AAB07::V::10', 41: 'AAB07::Al::0', 42: 'AAB08::Co::5', 43: 'AAB08::Cr::10', 44: 'AAB08::Fe::30', \\\n45: 'AAB08::Ni::50', 46: 'AAB08::V::5', 47: 'AAB08::Al::0', 48: 'AAB09::Co::30', 49: 'AAB09::Cr::0', 50: 'AAB09::Fe::30', 51: 'AAB09::\\\nNi::35', 52: 'AAB09::V::5', 53: 'AAB09::Al::0', 54: 'AAB10::Co::20', 55: 'AAB10::Cr::5', 56: 'AAB10::Fe::25', 57: 'AAB10::Ni::45', \\\n58: 'AAB10::V::0', 59: 'AAB10::Al::5', 60: 'AAB11::Co::5', 61: 'AAB11::Cr::20', 62: 'AAB11::Fe::10', 63: 'AAB11::Ni::55.00000000000001', \\\n64: 'AAB11::V::10', 65: 'AAB11::Al::0', 66: 'AAB12::Co::15', 67: 'AAB12::Cr::5', 68: 'AAB12::Fe::20', 69: 'AAB12::Ni::40', 70: '\\\nAAB12::V::20', 71: 'AAB12::Al::0', 72: 'AAB13::Co::5', 73: 'AAB13::Cr::10', 74: 'AAB13::Fe::35', 75: 'AAB13::Ni::45', 76: 'AAB13::\\\nV::0', 77: 'AAB13::Al::5', 78: 'AAB14::Co::10', 79: 'AAB14::Cr::0', 80: 'AAB14::Fe::30', 81: 'AAB14::Ni::50', 82: 'AAB14::V::5', \\\n83: 'AAB14::Al::5', 84: 'AAB15::Co::5', 85: 'AAB15::Cr::10', 86: 'AAB15::Fe::20', 87: 'AAB15::Ni::55.00000000000001', 88: 'AAB15::\\\nV::5', 89: 'AAB15::Al::5', 90: 'AAB16::Co::5', 91: 'AAB16::Cr::0', 92: 'AAB16::Fe::15', 93: 'AAB16::Ni::65', 94: 'AAB16::V::0', \\\n95: 'AAB16::Al::15'}\"",
          "width": "3.683"
         },
         "scale_factor": 1,
         "styles": {},
         "type": null
        },
        {
         "color": "#17bebb",
         "id": 65,
         "label": "Aggregating composition AAB16 with VAM in batch A,  72c",
         "position": [
          0,
          0
         ],
         "properties": {
          "color": "red",
          "height": "0.5",
          "label": "Aggregating composition AAB16 with VAM in batch A,  72c",
          "pos": "\"5688,1746\"",
          "tags": "\"{0: 'composition_id::AAB16', 1: 'batch::A', 2: 'fabrication_method::VAM'}\"",
          "width": "6.4092"
         },
         "scale_factor": 1,
         "styles": {},
         "type": null
        },
        {
         "color": "#17bebb",
         "id": 66,
         "label": "Aggregating composition AAB16 with VAM in batch A,  893",
         "position": [
          0,
          0
         ],
         "properties": {
          "color": "red",
          "height": "0.5",
          "label": "Aggregating composition AAB16 with VAM in batch A,  893",
          "pos": "\"739.03,1746\"",
          "tags": "\"{0: 'composition_id::AAB16', 1: 'batch::A', 2: 'fabrication_method::VAM'}\"",
          "width": "6.4272"
         },
         "scale_factor": 1,
         "styles": {},
         "type": null
        },
        {
         "color": "#17bebb",
         "id": 67,
         "label": "Weighting Cr for composition AAB16 with VAM in batch A,  e81",
         "position": [
          0,
          0
         ],
         "properties": {
          "\"Mass Loss\"": "\"Mass Loss, 0.0 gram\"",
          "\"Weighed Mass\"": "\"Weighed Mass, 0.0 gram\"",
          "color": "purple",
          "height": "0.5",
          "label": "Weighting Cr for composition AAB16 with VAM in batch A,  e81",
          "pos": "\"3689,1746\"",
          "tags": "\"{0: 'composition_id::AAB16', 1: 'batch::A', 2: 'fabrication_method::VAM'}\"",
          "width": "6.8605"
         },
         "scale_factor": 1,
         "styles": {},
         "type": null
        },
        {
         "color": "#17bebb",
         "id": 68,
         "label": "V in composition AAB16 with VAM in batch A,  155",
         "position": [
          0,
          0
         ],
         "properties": {
          "color": "green",
          "height": "0.5",
          "label": "V in composition AAB16 with VAM in batch A,  155",
          "pos": "\"2702,1674\"",
          "tags": "\"{0: 'composition_id::AAB16', 1: 'batch::A', 2: 'fabrication_method::VAM'}\"",
          "width": "5.6328"
         },
         "scale_factor": 1,
         "styles": {},
         "type": null
        },
        {
         "color": "#17bebb",
         "id": 69,
         "label": "Weighting <entity.materials.birdshot.alloy_material.Alloy object at 0x7f725ab43ac0>,  aeb",
         "position": [
          0,
          0
         ],
         "properties": {
          "\"Mass Loss\"": "\"Mass Loss, 0.05 gram\"",
          "\"Weighed Mass\"": "\"Weighed Mass, 29.9817 gram\"",
          "color": "purple",
          "height": "0.5",
          "label": "Weighting <entity.materials.birdshot.alloy_material.Alloy object at 0x7f725ab43ac0>,  aeb",
          "pos": "\"3572,1314\"",
          "tags": "\"{0: 'composition_id::AAB16', 1: 'batch::A', 2: 'fabrication_method::VAM'}\"",
          "width": "9.2978"
         },
         "scale_factor": 1,
         "styles": {},
         "type": null
        },
        {
         "color": "#17bebb",
         "id": 70,
         "label": "Weighting V for composition AAB16 with VAM in batch A,  8c4",
         "position": [
          0,
          0
         ],
         "properties": {
          "\"Mass Loss\"": "\"Mass Loss, 0.0 gram\"",
          "\"Weighed Mass\"": "\"Weighed Mass, 0.0 gram\"",
          "color": "purple",
          "height": "0.5",
          "label": "Weighting V for composition AAB16 with VAM in batch A,  8c4",
          "pos": "\"2221,1746\"",
          "tags": "\"{0: 'composition_id::AAB16', 1: 'batch::A', 2: 'fabrication_method::VAM'}\"",
          "width": "6.7883"
         },
         "scale_factor": 1,
         "styles": {},
         "type": null
        },
        {
         "color": "#17bebb",
         "id": 71,
         "label": "Aggregating composition AAB16 with VAM in batch A,  a7d",
         "position": [
          0,
          0
         ],
         "properties": {
          "color": "red",
          "height": "0.5",
          "label": "Aggregating composition AAB16 with VAM in batch A,  a7d",
          "pos": "\"2714,1746\"",
          "tags": "\"{0: 'composition_id::AAB16', 1: 'batch::A', 2: 'fabrication_method::VAM'}\"",
          "width": "6.4092"
         },
         "scale_factor": 1,
         "styles": {},
         "type": null
        },
        {
         "color": "#17bebb",
         "id": 72,
         "label": "\\n",
         "position": [
          0,
          0
         ],
         "properties": {
          "label": "\\n"
         },
         "scale_factor": 1,
         "styles": {},
         "type": null
        }
       ],
       "_overview": {
        "enabled": null,
        "overview_set": false
       },
       "_sidebar": {
        "enabled": true,
        "start_with": ""
       },
       "_svg": "",
       "_view_count": null,
       "_view_module": "yfiles-jupyter-graphs",
       "_view_module_version": "^1.4.6",
       "_view_name": "GraphView",
       "layout": "IPY_MODEL_6b95e5178e964ec28b0c6e0a907f293a",
       "tabbable": null,
       "tooltip": null
      }
     }
    },
    "version_major": 2,
    "version_minor": 0
   }
  }
 },
 "nbformat": 4,
 "nbformat_minor": 2
}
