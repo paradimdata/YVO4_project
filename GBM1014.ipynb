{
 "cells": [
  {
   "attachments": {},
   "cell_type": "markdown",
   "metadata": {},
   "source": [
    "### Hydrothermal Growth of YVO<sub>4</sub> from V<sub>2</sub>O<sub>5</sub> and Y<sub>2</sub>O<sub>3</sub> in Acidic Conditions\n",
    "YVO4 was grown under acidic hydrothermal conditions (HCl/HNO3) from Y and V oxides in an autoclave. \n",
    "\n",
    "The purpose of the experiment was to affirm the viability of the method.\n",
    "\n",
    "Performed 2023-07-10 @ ML by GBM"
   ]
  },
  {
   "cell_type": "code",
   "execution_count": 1,
   "metadata": {},
   "outputs": [],
   "source": [
    "### Imports ###\n",
    "\n",
    "from tools.attr_utils import *\n",
    "from tools.block.Block import Block\n",
    "from tools.utilities import *\n",
    "\n",
    "from utils.block_builders import *\n",
    "from utils.base_builders import *\n",
    "from utils.provenance import Provenance\n",
    "from utils.mpurity import SOLNS\n",
    "\n",
    "from gemd import FileLink\n",
    "from gemd.json import GEMDJson\n",
    "from gemd import NominalReal,UniformReal\n",
    "\n",
    "import os"
   ]
  },
  {
   "cell_type": "code",
   "execution_count": 2,
   "metadata": {},
   "outputs": [],
   "source": [
    "### Provenance ###\n",
    "\n",
    "prv = Provenance(\n",
    "    name='Gannon Murray',\n",
    "    email='gmurra12@jh.edu',\n",
    "    tag='GBM',\n",
    "    page='1014',\n",
    "    title='Hydrothermal Growth of YVO4',\n",
    "    date='2023-07-10')"
   ]
  },
  {
   "cell_type": "code",
   "execution_count": 3,
   "metadata": {},
   "outputs": [],
   "source": [
    "### Initialize Workflow ###\n",
    "\n",
    "GBM1014 = {}"
   ]
  },
  {
   "cell_type": "code",
   "execution_count": 4,
   "metadata": {},
   "outputs": [
    {
     "name": "stdout",
     "output_type": "stream",
     "text": [
      "{'name': 'Y2O3 Acquisition Process', 'conditions': [], 'notes': None, 'template': {'name': 'utils.block_builders', 'description': None, 'allowed_labels': [], 'conditions': [], 'allowed_names': [], 'tags': [], 'uids': {}, 'parameters': [[{'name': 'Manufacturer', 'description': None, 'bounds': {'type': 'categorical_bounds', 'categories': ['Alfa Aesar', 'Fisher Chemical', 'Fisher Commercial', 'McQueen Lab', 'Noah Technologies Corporation', 'Strem Chemicals', 'Thermo Scientific', 'XYZ Chemicals', 'Yeemeida Technology Co. LTD']}, 'uids': {}, 'tags': [], 'type': 'parameter_template'}, None], [{'name': 'Lot ID', 'description': None, 'bounds': {'type': 'categorical_bounds', 'categories': ['', '00000', '0198917/2.1', '182153', '221613', '23195800', '23765', 'GBM1005C', 'R04D028', 'R10H008', 'W19F006', 'X17C007']}, 'uids': {}, 'tags': [], 'type': 'parameter_template'}, None], [{'name': 'CAS RN', 'description': None, 'bounds': {'type': 'categorical_bounds', 'categories': ['', '000-00-000', '1314-36-9', '1314-62-1', '13566-12-6', '554-13-2', '7697-37-2']}, 'uids': {}, 'tags': [], 'type': 'parameter_template'}, None]], 'type': 'process_template'}, 'tags': [], 'uids': {}, 'parameters': [], 'file_links': [], 'type': 'process_spec', 'output_material': None, 'ingredients': []}\n",
      "{'name': 'V2O5 Acquisition Process', 'conditions': [], 'notes': None, 'template': {'name': 'utils.block_builders', 'description': None, 'allowed_labels': [], 'conditions': [], 'allowed_names': [], 'tags': [], 'uids': {}, 'parameters': [[{'name': 'Manufacturer', 'description': None, 'bounds': {'type': 'categorical_bounds', 'categories': ['Alfa Aesar', 'Fisher Chemical', 'Fisher Commercial', 'McQueen Lab', 'Noah Technologies Corporation', 'Strem Chemicals', 'Thermo Scientific', 'XYZ Chemicals', 'Yeemeida Technology Co. LTD']}, 'uids': {}, 'tags': [], 'type': 'parameter_template'}, None], [{'name': 'Lot ID', 'description': None, 'bounds': {'type': 'categorical_bounds', 'categories': ['', '00000', '0198917/2.1', '182153', '221613', '23195800', '23765', 'GBM1005C', 'R04D028', 'R10H008', 'W19F006', 'X17C007']}, 'uids': {}, 'tags': [], 'type': 'parameter_template'}, None], [{'name': 'CAS RN', 'description': None, 'bounds': {'type': 'categorical_bounds', 'categories': ['', '000-00-000', '1314-36-9', '1314-62-1', '13566-12-6', '554-13-2', '7697-37-2']}, 'uids': {}, 'tags': [], 'type': 'parameter_template'}, None]], 'type': 'process_template'}, 'tags': [], 'uids': {}, 'parameters': [], 'file_links': [], 'type': 'process_spec', 'output_material': None, 'ingredients': []}\n",
      "{'name': 'HCl Acquisition Process', 'conditions': [], 'notes': None, 'template': {'name': 'utils.block_builders', 'description': None, 'allowed_labels': [], 'conditions': [], 'allowed_names': [], 'tags': [], 'uids': {}, 'parameters': [[{'name': 'Manufacturer', 'description': None, 'bounds': {'type': 'categorical_bounds', 'categories': ['Alfa Aesar', 'Fisher Chemical', 'Fisher Commercial', 'McQueen Lab', 'Noah Technologies Corporation', 'Strem Chemicals', 'Thermo Scientific', 'XYZ Chemicals', 'Yeemeida Technology Co. LTD']}, 'uids': {}, 'tags': [], 'type': 'parameter_template'}, None], [{'name': 'Lot ID', 'description': None, 'bounds': {'type': 'categorical_bounds', 'categories': ['', '00000', '0198917/2.1', '182153', '221613', '23195800', '23765', 'GBM1005C', 'R04D028', 'R10H008', 'W19F006', 'X17C007']}, 'uids': {}, 'tags': [], 'type': 'parameter_template'}, None], [{'name': 'CAS RN', 'description': None, 'bounds': {'type': 'categorical_bounds', 'categories': ['', '000-00-000', '1314-36-9', '1314-62-1', '13566-12-6', '554-13-2', '7697-37-2']}, 'uids': {}, 'tags': [], 'type': 'parameter_template'}, None]], 'type': 'process_template'}, 'tags': [], 'uids': {}, 'parameters': [], 'file_links': [], 'type': 'process_spec', 'output_material': None, 'ingredients': []}\n",
      "{'name': 'HNO3 Acquisition Process', 'conditions': [], 'notes': None, 'template': {'name': 'utils.block_builders', 'description': None, 'allowed_labels': [], 'conditions': [], 'allowed_names': [], 'tags': [], 'uids': {}, 'parameters': [[{'name': 'Manufacturer', 'description': None, 'bounds': {'type': 'categorical_bounds', 'categories': ['Alfa Aesar', 'Fisher Chemical', 'Fisher Commercial', 'McQueen Lab', 'Noah Technologies Corporation', 'Strem Chemicals', 'Thermo Scientific', 'XYZ Chemicals', 'Yeemeida Technology Co. LTD']}, 'uids': {}, 'tags': [], 'type': 'parameter_template'}, None], [{'name': 'Lot ID', 'description': None, 'bounds': {'type': 'categorical_bounds', 'categories': ['', '00000', '0198917/2.1', '182153', '221613', '23195800', '23765', 'GBM1005C', 'R04D028', 'R10H008', 'W19F006', 'X17C007']}, 'uids': {}, 'tags': [], 'type': 'parameter_template'}, None], [{'name': 'CAS RN', 'description': None, 'bounds': {'type': 'categorical_bounds', 'categories': ['', '000-00-000', '1314-36-9', '1314-62-1', '13566-12-6', '554-13-2', '7697-37-2']}, 'uids': {}, 'tags': [], 'type': 'parameter_template'}, None]], 'type': 'process_template'}, 'tags': [], 'uids': {}, 'parameters': [], 'file_links': [], 'type': 'process_spec', 'output_material': None, 'ingredients': []}\n"
     ]
    },
    {
     "name": "stderr",
     "output_type": "stream",
     "text": [
      "template.bounds {'type': 'categorical_bounds', 'categories': ['Amorphous', 'Chunk', 'Chunk and Powder', 'Crystal', 'Ingot', 'None', 'Pellet', 'Pieces', 'Powder', 'Powder -325 mesh', 'Resublimed Crystals', 'Rod', 'Single Crystal(s)', 'Solid', 'Solution']} does not contain value {'category': 'Liquid', 'type': 'nominal_categorical'}\n",
      "Value {'category': 'Liquid', 'type': 'nominal_categorical'} is inconsistent with template Raw Material\n"
     ]
    },
    {
     "name": "stdout",
     "output_type": "stream",
     "text": [
      "Added Liquid to category Form.\n",
      "{'name': 'DI H2O Acquisition Process', 'conditions': [], 'notes': None, 'template': {'name': 'utils.block_builders', 'description': None, 'allowed_labels': [], 'conditions': [], 'allowed_names': [], 'tags': [], 'uids': {}, 'parameters': [[{'name': 'Manufacturer', 'description': None, 'bounds': {'type': 'categorical_bounds', 'categories': ['Alfa Aesar', 'Fisher Chemical', 'Fisher Commercial', 'McQueen Lab', 'Noah Technologies Corporation', 'Strem Chemicals', 'Thermo Scientific', 'XYZ Chemicals', 'Yeemeida Technology Co. LTD']}, 'uids': {}, 'tags': [], 'type': 'parameter_template'}, None], [{'name': 'Lot ID', 'description': None, 'bounds': {'type': 'categorical_bounds', 'categories': ['', '00000', '0198917/2.1', '182153', '221613', '23195800', '23765', 'GBM1005C', 'R04D028', 'R10H008', 'W19F006', 'X17C007']}, 'uids': {}, 'tags': [], 'type': 'parameter_template'}, None], [{'name': 'CAS RN', 'description': None, 'bounds': {'type': 'categorical_bounds', 'categories': ['', '000-00-000', '1314-36-9', '1314-62-1', '13566-12-6', '554-13-2', '7697-37-2']}, 'uids': {}, 'tags': [], 'type': 'parameter_template'}, None]], 'type': 'process_template'}, 'tags': [], 'uids': {}, 'parameters': [], 'file_links': [], 'type': 'process_spec', 'output_material': None, 'ingredients': []}\n"
     ]
    }
   ],
   "source": [
    "### Acquisition Blocks ###\n",
    "\n",
    "GBM1014['get_Y2O3'] = build_acquiring_material_block(\n",
    "    name='Y2O3',\n",
    "    manufacturer='Strem Chemicals',\n",
    "    lot_id='23195800',\n",
    "    cas_rn='1314-36-9',\n",
    "    form='Powder',\n",
    "    purity=99.99,\n",
    "    notes='Chalky white powder',\n",
    "    prv=prv\n",
    ")\n",
    "\n",
    "GBM1014['get_V2O5'] = build_acquiring_material_block(\n",
    "    name='V2O5',\n",
    "    manufacturer='Noah Technologies Corporation',\n",
    "    lot_id='0198917/2.1',\n",
    "    cas_rn='1314-62-1',\n",
    "    form='Powder',\n",
    "    purity=99.6,\n",
    "    notes='Grainy orange powder',\n",
    "    prv=prv\n",
    ")\n",
    "\n",
    "GBM1014['get_HCl'] = build_acquiring_material_block(\n",
    "    name='HCl',\n",
    "    manufacturer='Fisher Chemical',\n",
    "    lot_id='221613',\n",
    "    cas_rn='7697-37-2',\n",
    "    form='Solution',\n",
    "    purity=37,\n",
    "    notes='Stock solution, undiluted',\n",
    "    prv=prv\n",
    ")\n",
    "\n",
    "GBM1014['get_HNO3'] = build_acquiring_material_block(\n",
    "    name='HNO3',\n",
    "    manufacturer='Fisher Chemical',\n",
    "    lot_id='182153',\n",
    "    cas_rn='7697-37-2',\n",
    "    form='Solution',\n",
    "    purity=69,\n",
    "    notes='Stock solution, undiluted',\n",
    "    prv=prv\n",
    ")\n",
    "\n",
    "GBM1014['get_H2O'] = build_acquiring_material_block(\n",
    "    name='DI H2O',\n",
    "    manufacturer='McQueen Lab',\n",
    "    lot_id='',\n",
    "    cas_rn='',\n",
    "    form='Liquid',\n",
    "    purity=100,\n",
    "    notes='DI Water from Bloomberg Center',\n",
    "    prv=prv\n",
    ")"
   ]
  },
  {
   "cell_type": "code",
   "execution_count": 5,
   "metadata": {},
   "outputs": [
    {
     "name": "stdout",
     "output_type": "stream",
     "text": [
      "{'name': 'GBM1014 Dissolving Process', 'conditions': [], 'notes': None, 'template': {'name': 'utils.base_builders', 'description': None, 'allowed_labels': [], 'conditions': [[{'name': 'Location', 'description': None, 'bounds': {'type': 'categorical_bounds', 'categories': ['Bucket', 'Hot Lab', 'Purification Tube Furnace', 'Synthesis Tube Furnace', 'Three Zones Tube Furnace', 'Wet Lab', 'X-Ray Diffraction Panel']}, 'uids': {}, 'tags': [], 'type': 'condition_template'}, None]], 'allowed_names': [], 'tags': [], 'uids': {}, 'parameters': [[{'name': 'Equipment Used', 'description': None, 'bounds': {'type': 'categorical_bounds', 'categories': ['Autoclave', 'Mortar and Pestle', 'Nichrome Wire', 'Pellet Press', 'Pellet Press Set', 'Quartz Tube', 'Quartz Wool', 'Thermocouple', 'Tongs', 'Torch', 'Tube Sealing Station', 'Vacuum Filter']}, 'uids': {}, 'tags': [], 'type': 'parameter_template'}, None]], 'type': 'process_template'}, 'tags': [], 'uids': {}, 'parameters': [], 'file_links': [], 'type': 'process_spec', 'output_material': None, 'ingredients': []}\n"
     ]
    }
   ],
   "source": [
    "### Dissolving Block ###\n",
    "\n",
    "sample = 'GBM1014'\n",
    "\n",
    "process = build_dissolving_process_base(\n",
    "    name=sample,\n",
    "    location='Wet Lab',\n",
    "    equipment='Autoclave',\n",
    "    notes='Bomb #P, teflon liner',\n",
    "    prv=prv\n",
    ")\n",
    "\n",
    "material = build_dissolved_material_base(\n",
    "    name=sample,\n",
    "    process_spec=process.spec,\n",
    "    process_run=process.run,\n",
    "    form='Solution',\n",
    "    prv=prv\n",
    ")\n",
    "\n",
    "ingredients = [\n",
    "    build_ingredient_base(\n",
    "        name='Y2O3',\n",
    "        material_spec=GBM1014['get_Y2O3'].material.spec,\n",
    "        material_run=GBM1014['get_Y2O3'].material.run,\n",
    "        process_spec=process.spec,\n",
    "        process_run=process.run,\n",
    "        quantity_spec=NominalReal(191.5,'mg'),\n",
    "        quantity_run=UniformReal(191.9-0.5,191.9+0.5,'mg')\n",
    "    ),\n",
    "    build_ingredient_base(\n",
    "        name='V2O5',\n",
    "        material_spec=GBM1014['get_V2O5'].material.spec,\n",
    "        material_run=GBM1014['get_V2O5'].material.run,\n",
    "        process_spec=process.spec,\n",
    "        process_run=process.run,\n",
    "        quantity_spec=NominalReal(308.5,'mg'),\n",
    "        quantity_run=UniformReal(308.2-0.5,308.2+0.5,'mg')\n",
    "    ),\n",
    "    build_ingredient_base(\n",
    "        name='HCl',\n",
    "        material_spec=GBM1014['get_HCl'].material.spec,\n",
    "        material_run=GBM1014['get_HCl'].material.run,\n",
    "        process_spec=process.spec,\n",
    "        process_run=process.run,\n",
    "        quantity_spec=NominalReal(3.738,'mL'),\n",
    "        quantity_run=UniformReal(3.738-0.002,3.738+0.002,'mL')\n",
    "    ),\n",
    "    build_ingredient_base(\n",
    "        name='HNO3',\n",
    "        material_spec=GBM1014['get_HNO3'].material.spec,\n",
    "        material_run=GBM1014['get_HNO3'].material.run,\n",
    "        process_spec=process.spec,\n",
    "        process_run=process.run,\n",
    "        quantity_spec=NominalReal(1.957,'mL'),\n",
    "        quantity_run=UniformReal(1.957-0.002,1.957-+0.002,'mL')\n",
    "    ),\n",
    "    build_ingredient_base(\n",
    "        name='H2O',\n",
    "        material_spec=GBM1014['get_H2O'].material.spec,\n",
    "        material_run=GBM1014['get_H2O'].material.run,\n",
    "        process_spec=process.spec,\n",
    "        process_run=process.run,\n",
    "        quantity_spec=NominalReal(15.-1.957-3.738,'mg'),\n",
    "        quantity_run=NominalReal(15.-1.957-3.738,'mg')\n",
    "    )\n",
    "]\n",
    "\n",
    "GBM1014[f'dissolve_{sample}'] = Block(\n",
    "    name=f'{sample} Dissolving Block',\n",
    "    ingredients=ingredients,\n",
    "    process=process,\n",
    "    material=material\n",
    ")"
   ]
  },
  {
   "cell_type": "code",
   "execution_count": 6,
   "metadata": {},
   "outputs": [
    {
     "name": "stdout",
     "output_type": "stream",
     "text": [
      "{'name': 'GBM1014 Heating Process', 'conditions': [], 'notes': None, 'template': {'name': 'utils.base_builders', 'description': None, 'allowed_labels': [], 'conditions': [[{'name': 'Location', 'description': None, 'bounds': {'type': 'categorical_bounds', 'categories': ['Bucket', 'Hot Lab', 'Purification Tube Furnace', 'Synthesis Tube Furnace', 'Three Zones Tube Furnace', 'Wet Lab', 'X-Ray Diffraction Panel']}, 'uids': {}, 'tags': [], 'type': 'condition_template'}, None]], 'allowed_names': [], 'tags': [], 'uids': {}, 'parameters': [[{'name': 'StepsNum', 'description': None, 'bounds': {'upper_bound': 100, 'lower_bound': 1, 'type': 'integer_bounds'}, 'uids': {}, 'tags': [], 'type': 'parameter_template'}, None], [{'name': 'Step', 'description': None, 'bounds': {'type': 'composition_bounds', 'components': ['Duration', 'Number', 'Temp', 'Type']}, 'uids': {}, 'tags': [], 'type': 'parameter_template'}, None]], 'type': 'process_template'}, 'tags': [], 'uids': {}, 'parameters': [], 'file_links': [], 'type': 'process_spec', 'output_material': None, 'ingredients': []}\n"
     ]
    }
   ],
   "source": [
    "### Heating Blocks ###\n",
    "\n",
    "sample = 'GBM1014'\n",
    "    \n",
    "process = build_heating_process_base(\n",
    "    name=sample,\n",
    "    program=build_heating_program([\n",
    "        heating_program_step('Init',0,0),\n",
    "        heating_program_step('Ramp',240,2),\n",
    "        heating_program_step('Hold',240,96),\n",
    "        heating_program_step('Ramp',0,2),\n",
    "        heating_program_step('End',0,0)\n",
    "    ]),\n",
    "    location='Hot Lab',\n",
    "    notes='Heated in Bomb #P. Furnace temperature controls failed so ramp durations are approximate',\n",
    "    prv=prv\n",
    ")\n",
    "\n",
    "material = build_heated_material_base(\n",
    "    name=sample,\n",
    "    process_spec=process.spec,\n",
    "    process_run=process.run,\n",
    "    form='Solution',\n",
    "    prv=prv\n",
    ")\n",
    "\n",
    "ingredients = [\n",
    "    build_ingredient_base(\n",
    "        name=sample,\n",
    "        material_spec=GBM1014[f'dissolve_{sample}'].material.spec,\n",
    "        material_run=GBM1014[f'dissolve_{sample}'].material.run,\n",
    "        quantity_spec=NominalReal(15.,'mL'),\n",
    "        quantity_run=NominalReal(15.,'mL'),\n",
    "        process_spec=process.spec,\n",
    "        process_run=process.run,\n",
    "    )\n",
    "]\n",
    "\n",
    "GBM1014[f'heat_{sample}'] = Block(\n",
    "    name=f'{sample} Heating Block',\n",
    "    ingredients=ingredients,\n",
    "    process=process,\n",
    "    material=material\n",
    ")"
   ]
  },
  {
   "cell_type": "code",
   "execution_count": 7,
   "metadata": {},
   "outputs": [
    {
     "name": "stdout",
     "output_type": "stream",
     "text": [
      "{'name': 'GBM1014 Filtering Process', 'conditions': [], 'notes': None, 'template': {'name': 'utils.base_builders', 'description': None, 'allowed_labels': [], 'conditions': [[{'name': 'Location', 'description': None, 'bounds': {'type': 'categorical_bounds', 'categories': ['Bucket', 'Hot Lab', 'Purification Tube Furnace', 'Synthesis Tube Furnace', 'Three Zones Tube Furnace', 'Wet Lab', 'X-Ray Diffraction Panel']}, 'uids': {}, 'tags': [], 'type': 'condition_template'}, None]], 'allowed_names': [], 'tags': [], 'uids': {}, 'parameters': [[{'name': 'Equipment Used', 'description': None, 'bounds': {'type': 'categorical_bounds', 'categories': ['Autoclave', 'Mortar and Pestle', 'Nichrome Wire', 'Pellet Press', 'Pellet Press Set', 'Quartz Tube', 'Quartz Wool', 'Thermocouple', 'Tongs', 'Torch', 'Tube Sealing Station', 'Vacuum Filter']}, 'uids': {}, 'tags': [], 'type': 'parameter_template'}, None], [{'name': 'Solvent', 'description': None, 'bounds': {'type': 'categorical_bounds', 'categories': ['DI H2O', 'Ethanol', 'Water']}, 'uids': {}, 'tags': [], 'type': 'parameter_template'}, None]], 'type': 'process_template'}, 'tags': [], 'uids': {}, 'parameters': [], 'file_links': [], 'type': 'process_spec', 'output_material': None, 'ingredients': []}\n"
     ]
    }
   ],
   "source": [
    "### Filtering Block ###\n",
    "\n",
    "sample = 'GBM1014'\n",
    "\n",
    "process = build_filtering_process_base(\n",
    "    name=sample,\n",
    "    location='Wet Lab',\n",
    "    equipment='Vacuum Filter',\n",
    "    solvent='DI H2O',\n",
    "    notes='Autoclave failure, product lost.',\n",
    "    prv=prv\n",
    ")\n",
    "\n",
    "material = build_filtered_material_base(\n",
    "    name=sample,\n",
    "    process_spec=process.spec,\n",
    "    process_run=process.run,\n",
    "    form='None',\n",
    "    notes='No solids recovered, bright blue efluent. Similar to previous hydrothermal attempts.',\n",
    "    prv=prv\n",
    ")\n",
    "\n",
    "ingredients = [\n",
    "    build_ingredient_base(\n",
    "        name=sample,\n",
    "        material_spec=GBM1014[f'heat_{sample}'].material.spec,\n",
    "        material_run=GBM1014[f'heat_{sample}'].material.run,\n",
    "        process_spec=process.spec,\n",
    "        process_run=process.run,\n",
    "        quantity_spec=NominalReal(15.,'mL'),\n",
    "        quantity_run = NominalReal(15.,'mL')\n",
    "    )\n",
    "]\n",
    "\n",
    "\n",
    "GBM1014[f'filter_{sample}'] = Block(\n",
    "    name=f'{sample} Filtering Block',\n",
    "    ingredients=ingredients,\n",
    "    process=process,\n",
    "    material=material\n",
    ")"
   ]
  },
  {
   "cell_type": "markdown",
   "metadata": {},
   "source": [
    "### Dump blocks to JSONs ###\n",
    "\n",
    "# Change this block to python to execute\n",
    "\n",
    "encoder = GEMDJson()\n",
    "\n",
    "fp = f'./dumps/GBM1014'\n",
    "os.mkdir(fp)\n",
    "\n",
    "for block in GBM1014.values():\n",
    "    block.thin_dumps(encoder,fp)\n"
   ]
  }
 ],
 "metadata": {
  "kernelspec": {
   "display_name": "Python 3",
   "language": "python",
   "name": "python3"
  },
  "language_info": {
   "codemirror_mode": {
    "name": "ipython",
    "version": 3
   },
   "file_extension": ".py",
   "mimetype": "text/x-python",
   "name": "python",
   "nbconvert_exporter": "python",
   "pygments_lexer": "ipython3",
   "version": "3.10.11"
  },
  "orig_nbformat": 4
 },
 "nbformat": 4,
 "nbformat_minor": 2
}
