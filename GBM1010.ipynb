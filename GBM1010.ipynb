{
 "cells": [
  {
   "attachments": {},
   "cell_type": "markdown",
   "metadata": {},
   "source": [
    "### Hydrothermal Growth of YVO<sub>4</sub> from V<sub>2</sub>O<sub>5</sub> and Y<sub>2</sub>O<sub>3</sub> in Acidic Conditions\n",
    "YVO4 was grown under acidic hydrothermal conditions (HCl/HNO3) from Y and V oxides in an autoclave. \n",
    "\n",
    "The purpose of the experiment was to affirm the viability of the method.\n",
    "\n",
    "Performed 2023-06-23 @ ML by GBM"
   ]
  },
  {
   "cell_type": "code",
   "execution_count": 10,
   "metadata": {},
   "outputs": [],
   "source": [
    "### Imports ###\n",
    "\n",
    "from tools.attr_utils import *\n",
    "from tools.block.Block import Block\n",
    "from tools.utilities import *\n",
    "\n",
    "from utils.block_builders import *\n",
    "from utils.base_builders import *\n",
    "from utils.provenance import Provenance\n",
    "from utils.mpurity import SOLNS\n",
    "\n",
    "from gemd import FileLink\n",
    "from gemd.json import GEMDJson\n",
    "from gemd import NominalReal,UniformReal\n",
    "\n",
    "import os"
   ]
  },
  {
   "cell_type": "code",
   "execution_count": 11,
   "metadata": {},
   "outputs": [],
   "source": [
    "### Provenance ###\n",
    "\n",
    "prv = Provenance(\n",
    "    name='Gannon Murray',\n",
    "    email='gmurra12@jh.edu',\n",
    "    tag='GBM',\n",
    "    page='1010',\n",
    "    title='Hydrothermal Growth of YVO4',\n",
    "    date='2023-06-23')"
   ]
  },
  {
   "cell_type": "code",
   "execution_count": 12,
   "metadata": {},
   "outputs": [],
   "source": [
    "### Initialize Workflow ###\n",
    "\n",
    "GBM1010 = {}"
   ]
  },
  {
   "cell_type": "code",
   "execution_count": 13,
   "metadata": {},
   "outputs": [],
   "source": [
    "### Global Tags ###\n",
    "\n",
    "tags = [\n",
    "    'method::hydrothermal',\n",
    "    f'provenance::{prv.tag}'\n",
    "]"
   ]
  },
  {
   "cell_type": "code",
   "execution_count": 14,
   "metadata": {},
   "outputs": [
    {
     "name": "stdout",
     "output_type": "stream",
     "text": [
      "{'tags': [], 'name': 'Y2O3 Acquisition Process', 'uids': {}, 'notes': None, 'template': {'tags': [], 'name': 'utils.block_builders', 'uids': {}, 'parameters': [[{'tags': [], 'name': 'Manufacturer', 'uids': {}, 'bounds': {'type': 'categorical_bounds', 'categories': ['Alfa Aesar', 'Fisher Chemical', 'Fisher Commercial', 'McQueen Lab', 'Noah Technologies Corporation', 'Strem Chemicals', 'Thermo Scientific', 'XYZ Chemicals', 'Yeemeida Technology Co. LTD']}, 'description': None, 'type': 'parameter_template'}, None], [{'tags': [], 'name': 'Lot ID', 'uids': {}, 'bounds': {'type': 'categorical_bounds', 'categories': ['', '00000', '0198917/2.1', '182153', '221613', '23195800', '23765', 'GBM1005C', 'R04D028', 'R10H008', 'W19F006', 'X17C007']}, 'description': None, 'type': 'parameter_template'}, None], [{'tags': [], 'name': 'CAS RN', 'uids': {}, 'bounds': {'type': 'categorical_bounds', 'categories': ['', '000-00-000', '1314-36-9', '1314-62-1', '13566-12-6', '554-13-2', '7697-37-2']}, 'description': None, 'type': 'parameter_template'}, None]], 'allowed_names': [], 'allowed_labels': [], 'description': None, 'conditions': [], 'type': 'process_template'}, 'parameters': [], 'file_links': [], 'conditions': [], 'type': 'process_spec', 'ingredients': [], 'output_material': None}\n",
      "{'tags': [], 'name': 'V2O5 Acquisition Process', 'uids': {}, 'notes': None, 'template': {'tags': [], 'name': 'utils.block_builders', 'uids': {}, 'parameters': [[{'tags': [], 'name': 'Manufacturer', 'uids': {}, 'bounds': {'type': 'categorical_bounds', 'categories': ['Alfa Aesar', 'Fisher Chemical', 'Fisher Commercial', 'McQueen Lab', 'Noah Technologies Corporation', 'Strem Chemicals', 'Thermo Scientific', 'XYZ Chemicals', 'Yeemeida Technology Co. LTD']}, 'description': None, 'type': 'parameter_template'}, None], [{'tags': [], 'name': 'Lot ID', 'uids': {}, 'bounds': {'type': 'categorical_bounds', 'categories': ['', '00000', '0198917/2.1', '182153', '221613', '23195800', '23765', 'GBM1005C', 'R04D028', 'R10H008', 'W19F006', 'X17C007']}, 'description': None, 'type': 'parameter_template'}, None], [{'tags': [], 'name': 'CAS RN', 'uids': {}, 'bounds': {'type': 'categorical_bounds', 'categories': ['', '000-00-000', '1314-36-9', '1314-62-1', '13566-12-6', '554-13-2', '7697-37-2']}, 'description': None, 'type': 'parameter_template'}, None]], 'allowed_names': [], 'allowed_labels': [], 'description': None, 'conditions': [], 'type': 'process_template'}, 'parameters': [], 'file_links': [], 'conditions': [], 'type': 'process_spec', 'ingredients': [], 'output_material': None}\n",
      "{'tags': [], 'name': 'HCl Acquisition Process', 'uids': {}, 'notes': None, 'template': {'tags': [], 'name': 'utils.block_builders', 'uids': {}, 'parameters': [[{'tags': [], 'name': 'Manufacturer', 'uids': {}, 'bounds': {'type': 'categorical_bounds', 'categories': ['Alfa Aesar', 'Fisher Chemical', 'Fisher Commercial', 'McQueen Lab', 'Noah Technologies Corporation', 'Strem Chemicals', 'Thermo Scientific', 'XYZ Chemicals', 'Yeemeida Technology Co. LTD']}, 'description': None, 'type': 'parameter_template'}, None], [{'tags': [], 'name': 'Lot ID', 'uids': {}, 'bounds': {'type': 'categorical_bounds', 'categories': ['', '00000', '0198917/2.1', '182153', '221613', '23195800', '23765', 'GBM1005C', 'R04D028', 'R10H008', 'W19F006', 'X17C007']}, 'description': None, 'type': 'parameter_template'}, None], [{'tags': [], 'name': 'CAS RN', 'uids': {}, 'bounds': {'type': 'categorical_bounds', 'categories': ['', '000-00-000', '1314-36-9', '1314-62-1', '13566-12-6', '554-13-2', '7697-37-2']}, 'description': None, 'type': 'parameter_template'}, None]], 'allowed_names': [], 'allowed_labels': [], 'description': None, 'conditions': [], 'type': 'process_template'}, 'parameters': [], 'file_links': [], 'conditions': [], 'type': 'process_spec', 'ingredients': [], 'output_material': None}\n",
      "{'tags': [], 'name': 'HNO3 Acquisition Process', 'uids': {}, 'notes': None, 'template': {'tags': [], 'name': 'utils.block_builders', 'uids': {}, 'parameters': [[{'tags': [], 'name': 'Manufacturer', 'uids': {}, 'bounds': {'type': 'categorical_bounds', 'categories': ['Alfa Aesar', 'Fisher Chemical', 'Fisher Commercial', 'McQueen Lab', 'Noah Technologies Corporation', 'Strem Chemicals', 'Thermo Scientific', 'XYZ Chemicals', 'Yeemeida Technology Co. LTD']}, 'description': None, 'type': 'parameter_template'}, None], [{'tags': [], 'name': 'Lot ID', 'uids': {}, 'bounds': {'type': 'categorical_bounds', 'categories': ['', '00000', '0198917/2.1', '182153', '221613', '23195800', '23765', 'GBM1005C', 'R04D028', 'R10H008', 'W19F006', 'X17C007']}, 'description': None, 'type': 'parameter_template'}, None], [{'tags': [], 'name': 'CAS RN', 'uids': {}, 'bounds': {'type': 'categorical_bounds', 'categories': ['', '000-00-000', '1314-36-9', '1314-62-1', '13566-12-6', '554-13-2', '7697-37-2']}, 'description': None, 'type': 'parameter_template'}, None]], 'allowed_names': [], 'allowed_labels': [], 'description': None, 'conditions': [], 'type': 'process_template'}, 'parameters': [], 'file_links': [], 'conditions': [], 'type': 'process_spec', 'ingredients': [], 'output_material': None}\n"
     ]
    }
   ],
   "source": [
    "### Acquisition Blocks ###\n",
    "\n",
    "GBM1010['get_Y2O3'] = build_acquiring_material_block(\n",
    "    name='Y2O3',\n",
    "    manufacturer='Strem Chemicals',\n",
    "    lot_id='23195800',\n",
    "    cas_rn='1314-36-9',\n",
    "    form='Powder',\n",
    "    purity=99.99,\n",
    "    notes='Chalky white powder',\n",
    "    prv=prv\n",
    ")\n",
    "\n",
    "GBM1010['get_V2O5'] = build_acquiring_material_block(\n",
    "    name='V2O5',\n",
    "    manufacturer='Noah Technologies Corporation',\n",
    "    lot_id='0198917/2.1',\n",
    "    cas_rn='1314-62-1',\n",
    "    form='Powder',\n",
    "    purity=99.6,\n",
    "    notes='Grainy orange powder',\n",
    "    prv=prv\n",
    ")\n",
    "\n",
    "GBM1010['get_HCl'] = build_acquiring_material_block(\n",
    "    name='HCl',\n",
    "    manufacturer='Fisher Chemical',\n",
    "    lot_id='221613',\n",
    "    cas_rn='7697-37-2',\n",
    "    form='Solution',\n",
    "    purity=SOLNS['HCl'].mpurity(3.),\n",
    "    notes='Stock solution, diluted to ~3M',\n",
    "    prv=prv\n",
    ")\n",
    "\n",
    "GBM1010['get_HNO3'] = build_acquiring_material_block(\n",
    "    name='HNO3',\n",
    "    manufacturer='Fisher Chemical',\n",
    "    lot_id='182153',\n",
    "    cas_rn='7697-37-2',\n",
    "    form='Solution',\n",
    "    purity=SOLNS['HNO3'].mpurity(3.),\n",
    "    notes='Stock solution, diluted to ~3M',\n",
    "    prv=prv\n",
    ")"
   ]
  },
  {
   "cell_type": "code",
   "execution_count": 15,
   "metadata": {},
   "outputs": [
    {
     "name": "stdout",
     "output_type": "stream",
     "text": [
      "{'tags': [], 'name': 'GBM1010 Dissolving Process', 'uids': {}, 'notes': None, 'template': {'tags': [], 'name': 'utils.base_builders', 'uids': {}, 'parameters': [[{'tags': [], 'name': 'Equipment Used', 'uids': {}, 'bounds': {'type': 'categorical_bounds', 'categories': ['Autoclave', 'CIP', 'Hydrostatic Press', 'Mortar and Pestle', 'Nichrome Wire', 'Pellet Press', 'Pellet Press Set', 'Quartz Tube', 'Quartz Wool', 'Thermocouple', 'Tongs', 'Torch', 'Tube Sealing Station', 'Vacuum Filter', 'Vacuum Pump', 'Zeiss Axiocam 208 Color, Stemi508 Microscope']}, 'description': None, 'type': 'parameter_template'}, None]], 'allowed_names': [], 'allowed_labels': [], 'description': None, 'conditions': [[{'tags': [], 'name': 'Location', 'uids': {}, 'bounds': {'type': 'categorical_bounds', 'categories': ['Bucket', 'Hot Lab', 'PARADIM', 'Purification Tube Furnace', 'Synthesis Tube Furnace', 'Three Zones Tube Furnace', 'Wet Lab', 'X-Ray Diffraction Panel']}, 'description': None, 'type': 'condition_template'}, None]], 'type': 'process_template'}, 'parameters': [], 'file_links': [], 'conditions': [], 'type': 'process_spec', 'ingredients': [], 'output_material': None}\n"
     ]
    }
   ],
   "source": [
    "### Dissolving Block ###\n",
    "\n",
    "sample = 'GBM1010'\n",
    "\n",
    "process = build_dissolving_process_base(\n",
    "    name=sample,\n",
    "    location='Wet Lab',\n",
    "    equipment='Autoclave',\n",
    "    notes='Bomb #O, teflon liner',\n",
    "    prv=prv\n",
    ")\n",
    "\n",
    "material = build_dissolved_material_base(\n",
    "    name=sample,\n",
    "    process_spec=process.spec,\n",
    "    process_run=process.run,\n",
    "    form='Solution',\n",
    "    prv=prv\n",
    ")\n",
    "\n",
    "ingredients = [\n",
    "    build_ingredient_base(\n",
    "        name='Y2O3',\n",
    "        material_spec=GBM1010['get_Y2O3'].material.spec,\n",
    "        material_run=GBM1010['get_Y2O3'].material.run,\n",
    "        process_spec=process.spec,\n",
    "        process_run=process.run,\n",
    "        quantity_spec=NominalReal(191.5,'mg'),\n",
    "        quantity_run=UniformReal(191.4-0.5,191.4+0.5,'mg')\n",
    "    ),\n",
    "    build_ingredient_base(\n",
    "        name='V2O5',\n",
    "        material_spec=GBM1010['get_V2O5'].material.spec,\n",
    "        material_run=GBM1010['get_V2O5'].material.run,\n",
    "        process_spec=process.spec,\n",
    "        process_run=process.run,\n",
    "        quantity_spec=NominalReal(308.5,'mg'),\n",
    "        quantity_run=UniformReal(308.4-0.5,308.4+0.5,'mg')\n",
    "    ),\n",
    "    build_ingredient_base(\n",
    "        name='HCl',\n",
    "        material_spec=GBM1010['get_HCl'].material.spec,\n",
    "        material_run=GBM1010['get_HCl'].material.run,\n",
    "        process_spec=process.spec,\n",
    "        process_run=process.run,\n",
    "        quantity_spec=NominalReal(7.,'mL'),\n",
    "        quantity_run=UniformReal(7.-0.05,7.+0.05,'mL')\n",
    "    ),\n",
    "    build_ingredient_base(\n",
    "        name='HNO3',\n",
    "        material_spec=GBM1010['get_HNO3'].material.spec,\n",
    "        material_run=GBM1010['get_HNO3'].material.run,\n",
    "        process_spec=process.spec,\n",
    "        process_run=process.run,\n",
    "        quantity_spec=NominalReal(7.,'mL'),\n",
    "        quantity_run=UniformReal(7.-0.05,7.+0.05,'mL')\n",
    "    )\n",
    "]\n",
    "\n",
    "GBM1010[f'dissolve_{sample}'] = Block(\n",
    "    name=f'{sample} Dissolving Block',\n",
    "    ingredients=ingredients,\n",
    "    process=process,\n",
    "    material=material\n",
    ")"
   ]
  },
  {
   "cell_type": "code",
   "execution_count": 16,
   "metadata": {},
   "outputs": [
    {
     "name": "stdout",
     "output_type": "stream",
     "text": [
      "{'tags': [], 'name': 'GBM1010 Heating Process', 'uids': {}, 'notes': None, 'template': {'tags': [], 'name': 'utils.base_builders', 'uids': {}, 'parameters': [[{'tags': [], 'name': 'StepsNum', 'uids': {}, 'bounds': {'lower_bound': 1, 'upper_bound': 100, 'type': 'integer_bounds'}, 'description': None, 'type': 'parameter_template'}, None], [{'tags': [], 'name': 'Step', 'uids': {}, 'bounds': {'type': 'composition_bounds', 'components': ['Duration', 'Number', 'Temp', 'Type']}, 'description': None, 'type': 'parameter_template'}, None]], 'allowed_names': [], 'allowed_labels': [], 'description': None, 'conditions': [[{'tags': [], 'name': 'Location', 'uids': {}, 'bounds': {'type': 'categorical_bounds', 'categories': ['Bucket', 'Hot Lab', 'PARADIM', 'Purification Tube Furnace', 'Synthesis Tube Furnace', 'Three Zones Tube Furnace', 'Wet Lab', 'X-Ray Diffraction Panel']}, 'description': None, 'type': 'condition_template'}, None]], 'type': 'process_template'}, 'parameters': [], 'file_links': [], 'conditions': [], 'type': 'process_spec', 'ingredients': [], 'output_material': None}\n"
     ]
    }
   ],
   "source": [
    "### Heating Blocks ###\n",
    "\n",
    "sample = 'GBM1010'\n",
    "    \n",
    "process = build_heating_process_base(\n",
    "    name=sample,\n",
    "    program=build_heating_program([\n",
    "        heating_program_step('Init',0,0),\n",
    "        heating_program_step('Ramp',240,2),\n",
    "        heating_program_step('Hold',240,96),\n",
    "        heating_program_step('Ramp',0,2),\n",
    "        heating_program_step('End',0,0)\n",
    "    ]),\n",
    "    location='Hot Lab',\n",
    "    notes='Heated in Bomb #O. Furnace temperature controls failed so ramp durations are approximate',\n",
    "    prv=prv\n",
    ")\n",
    "\n",
    "material = build_heated_material_base(\n",
    "    name=sample,\n",
    "    process_spec=process.spec,\n",
    "    process_run=process.run,\n",
    "    form='Solution',\n",
    "    prv=prv\n",
    ")\n",
    "\n",
    "ingredients = [\n",
    "    build_ingredient_base(\n",
    "        name=sample,\n",
    "        material_spec=GBM1010[f'dissolve_{sample}'].material.spec,\n",
    "        material_run=GBM1010[f'dissolve_{sample}'].material.run,\n",
    "        quantity_spec=NominalReal(14.,'mL'),\n",
    "        quantity_run=NominalReal(14.,'mL'),\n",
    "        process_spec=process.spec,\n",
    "        process_run=process.run,\n",
    "    )\n",
    "]\n",
    "\n",
    "GBM1010[f'heat_{sample}'] = Block(\n",
    "    name=f'{sample} Heating Block',\n",
    "    ingredients=ingredients,\n",
    "    process=process,\n",
    "    material=material\n",
    ")"
   ]
  },
  {
   "cell_type": "code",
   "execution_count": 17,
   "metadata": {},
   "outputs": [
    {
     "name": "stdout",
     "output_type": "stream",
     "text": [
      "{'tags': [], 'name': 'GBM1010 Dissolving Process', 'uids': {}, 'notes': None, 'template': {'tags': [], 'name': 'utils.base_builders', 'uids': {}, 'parameters': [[{'tags': [], 'name': 'Equipment Used', 'uids': {}, 'bounds': {'type': 'categorical_bounds', 'categories': ['Autoclave', 'CIP', 'Hydrostatic Press', 'Mortar and Pestle', 'Nichrome Wire', 'Pellet Press', 'Pellet Press Set', 'Quartz Tube', 'Quartz Wool', 'Thermocouple', 'Tongs', 'Torch', 'Tube Sealing Station', 'Vacuum Filter', 'Vacuum Pump', 'Zeiss Axiocam 208 Color, Stemi508 Microscope']}, 'description': None, 'type': 'parameter_template'}, None]], 'allowed_names': [], 'allowed_labels': [], 'description': None, 'conditions': [[{'tags': [], 'name': 'Location', 'uids': {}, 'bounds': {'type': 'categorical_bounds', 'categories': ['Bucket', 'Hot Lab', 'PARADIM', 'Purification Tube Furnace', 'Synthesis Tube Furnace', 'Three Zones Tube Furnace', 'Wet Lab', 'X-Ray Diffraction Panel']}, 'description': None, 'type': 'condition_template'}, None]], 'type': 'process_template'}, 'parameters': [], 'file_links': [], 'conditions': [], 'type': 'process_spec', 'ingredients': [], 'output_material': None}\n"
     ]
    }
   ],
   "source": [
    "### Filtering Block ###\n",
    "\n",
    "sample = 'GBM1010'\n",
    "\n",
    "process = build_dissolving_process_base(\n",
    "    name=sample,\n",
    "    location='Wet Lab',\n",
    "    equipment='Vacuum Filter',\n",
    "    prv=prv\n",
    ")\n",
    "\n",
    "material = build_dissolved_material_base(\n",
    "    name=sample,\n",
    "    process_spec=process.spec,\n",
    "    process_run=process.run,\n",
    "    form='None',\n",
    "    notes='No solids recovered, emerald green efluent. Same as previous GBM1006',\n",
    "    tags=tags,\n",
    "    prv=prv\n",
    ")\n",
    "\n",
    "ingredients = [\n",
    "    build_ingredient_base(\n",
    "        name=sample,\n",
    "        material_spec=GBM1010[f'heat_{sample}'].material.spec,\n",
    "        material_run=GBM1010[f'heat_{sample}'].material.run,\n",
    "        process_spec=process.spec,\n",
    "        process_run=process.run,\n",
    "        quantity_spec=NominalReal(14.,'mL'),\n",
    "        quantity_run = NominalReal(14.,'mL')\n",
    "    )\n",
    "]\n",
    "\n",
    "\n",
    "GBM1010[f'filter_{sample}'] = Block(\n",
    "    name=f'{sample} Filtering Block',\n",
    "    ingredients=ingredients,\n",
    "    process=process,\n",
    "    material=material\n",
    ")"
   ]
  },
  {
   "cell_type": "code",
   "execution_count": 18,
   "metadata": {},
   "outputs": [],
   "source": [
    "### Dump blocks to JSONs ###\n",
    "\n",
    "encoder = GEMDJson()\n",
    "\n",
    "fp = f'./dumps/GBM1010'\n",
    "os.mkdir(fp)\n",
    "\n",
    "for block in GBM1010.values():\n",
    "    block.thin_dumps(encoder,fp)\n"
   ]
  }
 ],
 "metadata": {
  "kernelspec": {
   "display_name": "Python 3",
   "language": "python",
   "name": "python3"
  },
  "language_info": {
   "codemirror_mode": {
    "name": "ipython",
    "version": 3
   },
   "file_extension": ".py",
   "mimetype": "text/x-python",
   "name": "python",
   "nbconvert_exporter": "python",
   "pygments_lexer": "ipython3",
   "version": "3.10.11"
  },
  "orig_nbformat": 4
 },
 "nbformat": 4,
 "nbformat_minor": 2
}
